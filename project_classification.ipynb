{
 "metadata": {
  "language_info": {
   "codemirror_mode": {
    "name": "ipython",
    "version": 3
   },
   "file_extension": ".py",
   "mimetype": "text/x-python",
   "name": "python",
   "nbconvert_exporter": "python",
   "pygments_lexer": "ipython3",
   "version": "3.8.3-final"
  },
  "orig_nbformat": 2,
  "kernelspec": {
   "name": "python3",
   "display_name": "Python 3"
  }
 },
 "nbformat": 4,
 "nbformat_minor": 2,
 "cells": [
  {
   "source": [
    "# Classifiying Car Prices\n",
    "## Chris Meehan\n",
    "## 11/15/2020\n",
    "## COMP740 Machine Learning - Fall 2020\n",
    "\n",
    "```project_classification.ipynb``` - Data Encoding, Scaling, and Classification\n",
    "\n",
    "Original Data Source: https://www.kaggle.com/austinreese/craigslist-carstrucks-data"
   ],
   "cell_type": "markdown",
   "metadata": {}
  },
  {
   "cell_type": "code",
   "execution_count": 1,
   "metadata": {},
   "outputs": [],
   "source": [
    "import numpy as np\n",
    "import pandas as pd\n",
    "import pickle as pk\n",
    "from sklearn.preprocessing import StandardScaler\n",
    "from sklearn.model_selection import train_test_split\n",
    "from sklearn.linear_model import LinearRegression\n",
    "from sklearn.tree import DecisionTreeRegressor\n",
    "from sklearn.metrics import mean_squared_error\n",
    "from sklearn.ensemble import RandomForestClassifier"
   ]
  },
  {
   "cell_type": "code",
   "execution_count": 2,
   "metadata": {},
   "outputs": [],
   "source": [
    "file = open('Data/vehicles_new', 'rb')\n",
    "df = pk.load(file)\n",
    "file.close()"
   ]
  },
  {
   "cell_type": "code",
   "execution_count": 3,
   "metadata": {},
   "outputs": [
    {
     "output_type": "execute_result",
     "data": {
      "text/plain": [
       "<bound method NDFrame.head of         price  year manufacturer     model  condition cylinders    fuel  \\\n",
       "1        8750  2013      hyundai    sonata  excellent        4      gas   \n",
       "2       10900  2013       toyota     prius       good        4   hybrid   \n",
       "5       13995  2012         ford     f-150       good        6      gas   \n",
       "6        7995  2010    chevrolet   equinox       good        4      gas   \n",
       "7        8995  2011    chevrolet  traverse       good        6      gas   \n",
       "...       ...   ...          ...       ...        ...       ...     ...   \n",
       "423823   9584  2012       toyota     camry  excellent        4      gas   \n",
       "423824   1000  2004         ford     f-150       fair        8      gas   \n",
       "423825  11750  2013        honda  civic ex  excellent        4      gas   \n",
       "423852   1600  2006      hyundai    sonata       fair        6      gas   \n",
       "423854    700  1994         ford     f-150       fair        6      gas   \n",
       "\n",
       "        odometer title_status transmission drive paint_color  \n",
       "1        90821.0        clean    automatic   fwd        grey  \n",
       "2        92800.0        clean    automatic   fwd        blue  \n",
       "5       188406.0        clean    automatic   4wd        grey  \n",
       "6       108124.0        clean    automatic   4wd        grey  \n",
       "7       178054.0        clean    automatic   4wd       white  \n",
       "...          ...          ...          ...   ...         ...  \n",
       "423823  145000.0        clean    automatic   fwd        grey  \n",
       "423824  177000.0        clean    automatic   4wd        blue  \n",
       "423825   57600.0        clean    automatic   fwd      silver  \n",
       "423852  159980.0        clean    automatic   fwd        blue  \n",
       "423854  212000.0        clean       manual   rwd       green  \n",
       "\n",
       "[36317 rows x 12 columns]>"
      ]
     },
     "metadata": {},
     "execution_count": 3
    }
   ],
   "source": [
    "df.head"
   ]
  },
  {
   "cell_type": "code",
   "execution_count": 4,
   "metadata": {},
   "outputs": [
    {
     "output_type": "execute_result",
     "data": {
      "text/plain": [
       "Index(['price', 'year', 'manufacturer', 'model', 'condition', 'cylinders',\n",
       "       'fuel', 'odometer', 'title_status', 'transmission', 'drive',\n",
       "       'paint_color'],\n",
       "      dtype='object')"
      ]
     },
     "metadata": {},
     "execution_count": 4
    }
   ],
   "source": [
    "df.columns"
   ]
  },
  {
   "source": [
    "## One Hot Encoding"
   ],
   "cell_type": "markdown",
   "metadata": {}
  },
  {
   "cell_type": "code",
   "execution_count": 5,
   "metadata": {},
   "outputs": [],
   "source": [
    "condition = pd.get_dummies(df['condition'])\n",
    "df = df.drop('condition',axis=1)\n",
    "df = df.join(condition)"
   ]
  },
  {
   "cell_type": "code",
   "execution_count": 6,
   "metadata": {},
   "outputs": [],
   "source": [
    "paint = pd.get_dummies(df['paint_color'])\n",
    "df = df.drop('paint_color',axis=1)\n",
    "df = df.join(paint)"
   ]
  },
  {
   "cell_type": "code",
   "execution_count": 7,
   "metadata": {},
   "outputs": [],
   "source": [
    "fuel = pd.get_dummies(df['fuel'])\n",
    "df = df.drop('fuel',axis=1)\n",
    "df = df.join(fuel)"
   ]
  },
  {
   "cell_type": "code",
   "execution_count": 8,
   "metadata": {},
   "outputs": [],
   "source": [
    "title = pd.get_dummies(df['title_status'])\n",
    "df = df.drop('title_status',axis=1)\n",
    "df = df.join(title)"
   ]
  },
  {
   "cell_type": "code",
   "execution_count": 9,
   "metadata": {},
   "outputs": [],
   "source": [
    "make = pd.get_dummies(df['manufacturer'])\n",
    "df = df.drop('manufacturer',axis=1)\n",
    "df = df.join(make)"
   ]
  },
  {
   "cell_type": "code",
   "execution_count": 10,
   "metadata": {},
   "outputs": [],
   "source": [
    "model = pd.get_dummies(df['model'])\n",
    "df = df.drop('model',axis=1)\n",
    "df = df.join(model)"
   ]
  },
  {
   "cell_type": "code",
   "execution_count": 11,
   "metadata": {},
   "outputs": [],
   "source": [
    "trans = pd.get_dummies(df['transmission'])\n",
    "df = df.drop('transmission',axis=1)\n",
    "df = df.join(trans)"
   ]
  },
  {
   "cell_type": "code",
   "execution_count": 12,
   "metadata": {},
   "outputs": [],
   "source": [
    "drive = pd.get_dummies(df['drive'])\n",
    "df = df.drop('drive',axis=1)\n",
    "df = df.join(drive)"
   ]
  },
  {
   "source": [
    "## Scaling"
   ],
   "cell_type": "markdown",
   "metadata": {}
  },
  {
   "cell_type": "code",
   "execution_count": 13,
   "metadata": {},
   "outputs": [],
   "source": [
    "scl = StandardScaler()\n",
    "odo_scale = df[['odometer']]\n",
    "odo_scale = scl.fit_transform(odo_scale)\n",
    "df['odometer'] = odo_scale"
   ]
  },
  {
   "cell_type": "code",
   "execution_count": 14,
   "metadata": {},
   "outputs": [],
   "source": [
    "cyl_scale = df[['cylinders']]\n",
    "cyl_scale = scl.fit_transform(cyl_scale)\n",
    "df['cylinders'] = cyl_scale"
   ]
  },
  {
   "cell_type": "code",
   "execution_count": 15,
   "metadata": {},
   "outputs": [
    {
     "output_type": "execute_result",
     "data": {
      "text/plain": [
       "        price  year  cylinders  odometer  excellent  fair  good  like new  \\\n",
       "1        8750  2013  -1.071751 -0.228601          1     0     0         0   \n",
       "2       10900  2013  -1.071751 -0.214288          0     0     1         0   \n",
       "5       13995  2012   0.163814  0.477191          0     0     1         0   \n",
       "6        7995  2010  -1.071751 -0.103456          0     0     1         0   \n",
       "7        8995  2011   0.163814  0.402320          0     0     1         0   \n",
       "...       ...   ...        ...       ...        ...   ...   ...       ...   \n",
       "423823   9584  2012  -1.071751  0.163253          1     0     0         0   \n",
       "423824   1000  2004   1.399380  0.394696          0     1     0         0   \n",
       "423825  11750  2013  -1.071751 -0.468875          1     0     0         0   \n",
       "423852   1600  2006   0.163814  0.271598          0     1     0         0   \n",
       "423854    700  1994   0.163814  0.647837          0     1     0         0   \n",
       "\n",
       "        new  black  ...  x3  x5  xterra  yukon  yukon xl  automatic  manual  \\\n",
       "1         0      0  ...   0   0       0      0         0          1       0   \n",
       "2         0      0  ...   0   0       0      0         0          1       0   \n",
       "5         0      0  ...   0   0       0      0         0          1       0   \n",
       "6         0      0  ...   0   0       0      0         0          1       0   \n",
       "7         0      0  ...   0   0       0      0         0          1       0   \n",
       "...     ...    ...  ...  ..  ..     ...    ...       ...        ...     ...   \n",
       "423823    0      0  ...   0   0       0      0         0          1       0   \n",
       "423824    0      0  ...   0   0       0      0         0          1       0   \n",
       "423825    0      0  ...   0   0       0      0         0          1       0   \n",
       "423852    0      0  ...   0   0       0      0         0          1       0   \n",
       "423854    0      0  ...   0   0       0      0         0          0       1   \n",
       "\n",
       "        4wd  fwd  rwd  \n",
       "1         0    1    0  \n",
       "2         0    1    0  \n",
       "5         1    0    0  \n",
       "6         1    0    0  \n",
       "7         1    0    0  \n",
       "...     ...  ...  ...  \n",
       "423823    0    1    0  \n",
       "423824    1    0    0  \n",
       "423825    0    1    0  \n",
       "423852    0    1    0  \n",
       "423854    0    0    1  \n",
       "\n",
       "[36317 rows x 219 columns]"
      ],
      "text/html": "<div>\n<style scoped>\n    .dataframe tbody tr th:only-of-type {\n        vertical-align: middle;\n    }\n\n    .dataframe tbody tr th {\n        vertical-align: top;\n    }\n\n    .dataframe thead th {\n        text-align: right;\n    }\n</style>\n<table border=\"1\" class=\"dataframe\">\n  <thead>\n    <tr style=\"text-align: right;\">\n      <th></th>\n      <th>price</th>\n      <th>year</th>\n      <th>cylinders</th>\n      <th>odometer</th>\n      <th>excellent</th>\n      <th>fair</th>\n      <th>good</th>\n      <th>like new</th>\n      <th>new</th>\n      <th>black</th>\n      <th>...</th>\n      <th>x3</th>\n      <th>x5</th>\n      <th>xterra</th>\n      <th>yukon</th>\n      <th>yukon xl</th>\n      <th>automatic</th>\n      <th>manual</th>\n      <th>4wd</th>\n      <th>fwd</th>\n      <th>rwd</th>\n    </tr>\n  </thead>\n  <tbody>\n    <tr>\n      <th>1</th>\n      <td>8750</td>\n      <td>2013</td>\n      <td>-1.071751</td>\n      <td>-0.228601</td>\n      <td>1</td>\n      <td>0</td>\n      <td>0</td>\n      <td>0</td>\n      <td>0</td>\n      <td>0</td>\n      <td>...</td>\n      <td>0</td>\n      <td>0</td>\n      <td>0</td>\n      <td>0</td>\n      <td>0</td>\n      <td>1</td>\n      <td>0</td>\n      <td>0</td>\n      <td>1</td>\n      <td>0</td>\n    </tr>\n    <tr>\n      <th>2</th>\n      <td>10900</td>\n      <td>2013</td>\n      <td>-1.071751</td>\n      <td>-0.214288</td>\n      <td>0</td>\n      <td>0</td>\n      <td>1</td>\n      <td>0</td>\n      <td>0</td>\n      <td>0</td>\n      <td>...</td>\n      <td>0</td>\n      <td>0</td>\n      <td>0</td>\n      <td>0</td>\n      <td>0</td>\n      <td>1</td>\n      <td>0</td>\n      <td>0</td>\n      <td>1</td>\n      <td>0</td>\n    </tr>\n    <tr>\n      <th>5</th>\n      <td>13995</td>\n      <td>2012</td>\n      <td>0.163814</td>\n      <td>0.477191</td>\n      <td>0</td>\n      <td>0</td>\n      <td>1</td>\n      <td>0</td>\n      <td>0</td>\n      <td>0</td>\n      <td>...</td>\n      <td>0</td>\n      <td>0</td>\n      <td>0</td>\n      <td>0</td>\n      <td>0</td>\n      <td>1</td>\n      <td>0</td>\n      <td>1</td>\n      <td>0</td>\n      <td>0</td>\n    </tr>\n    <tr>\n      <th>6</th>\n      <td>7995</td>\n      <td>2010</td>\n      <td>-1.071751</td>\n      <td>-0.103456</td>\n      <td>0</td>\n      <td>0</td>\n      <td>1</td>\n      <td>0</td>\n      <td>0</td>\n      <td>0</td>\n      <td>...</td>\n      <td>0</td>\n      <td>0</td>\n      <td>0</td>\n      <td>0</td>\n      <td>0</td>\n      <td>1</td>\n      <td>0</td>\n      <td>1</td>\n      <td>0</td>\n      <td>0</td>\n    </tr>\n    <tr>\n      <th>7</th>\n      <td>8995</td>\n      <td>2011</td>\n      <td>0.163814</td>\n      <td>0.402320</td>\n      <td>0</td>\n      <td>0</td>\n      <td>1</td>\n      <td>0</td>\n      <td>0</td>\n      <td>0</td>\n      <td>...</td>\n      <td>0</td>\n      <td>0</td>\n      <td>0</td>\n      <td>0</td>\n      <td>0</td>\n      <td>1</td>\n      <td>0</td>\n      <td>1</td>\n      <td>0</td>\n      <td>0</td>\n    </tr>\n    <tr>\n      <th>...</th>\n      <td>...</td>\n      <td>...</td>\n      <td>...</td>\n      <td>...</td>\n      <td>...</td>\n      <td>...</td>\n      <td>...</td>\n      <td>...</td>\n      <td>...</td>\n      <td>...</td>\n      <td>...</td>\n      <td>...</td>\n      <td>...</td>\n      <td>...</td>\n      <td>...</td>\n      <td>...</td>\n      <td>...</td>\n      <td>...</td>\n      <td>...</td>\n      <td>...</td>\n      <td>...</td>\n    </tr>\n    <tr>\n      <th>423823</th>\n      <td>9584</td>\n      <td>2012</td>\n      <td>-1.071751</td>\n      <td>0.163253</td>\n      <td>1</td>\n      <td>0</td>\n      <td>0</td>\n      <td>0</td>\n      <td>0</td>\n      <td>0</td>\n      <td>...</td>\n      <td>0</td>\n      <td>0</td>\n      <td>0</td>\n      <td>0</td>\n      <td>0</td>\n      <td>1</td>\n      <td>0</td>\n      <td>0</td>\n      <td>1</td>\n      <td>0</td>\n    </tr>\n    <tr>\n      <th>423824</th>\n      <td>1000</td>\n      <td>2004</td>\n      <td>1.399380</td>\n      <td>0.394696</td>\n      <td>0</td>\n      <td>1</td>\n      <td>0</td>\n      <td>0</td>\n      <td>0</td>\n      <td>0</td>\n      <td>...</td>\n      <td>0</td>\n      <td>0</td>\n      <td>0</td>\n      <td>0</td>\n      <td>0</td>\n      <td>1</td>\n      <td>0</td>\n      <td>1</td>\n      <td>0</td>\n      <td>0</td>\n    </tr>\n    <tr>\n      <th>423825</th>\n      <td>11750</td>\n      <td>2013</td>\n      <td>-1.071751</td>\n      <td>-0.468875</td>\n      <td>1</td>\n      <td>0</td>\n      <td>0</td>\n      <td>0</td>\n      <td>0</td>\n      <td>0</td>\n      <td>...</td>\n      <td>0</td>\n      <td>0</td>\n      <td>0</td>\n      <td>0</td>\n      <td>0</td>\n      <td>1</td>\n      <td>0</td>\n      <td>0</td>\n      <td>1</td>\n      <td>0</td>\n    </tr>\n    <tr>\n      <th>423852</th>\n      <td>1600</td>\n      <td>2006</td>\n      <td>0.163814</td>\n      <td>0.271598</td>\n      <td>0</td>\n      <td>1</td>\n      <td>0</td>\n      <td>0</td>\n      <td>0</td>\n      <td>0</td>\n      <td>...</td>\n      <td>0</td>\n      <td>0</td>\n      <td>0</td>\n      <td>0</td>\n      <td>0</td>\n      <td>1</td>\n      <td>0</td>\n      <td>0</td>\n      <td>1</td>\n      <td>0</td>\n    </tr>\n    <tr>\n      <th>423854</th>\n      <td>700</td>\n      <td>1994</td>\n      <td>0.163814</td>\n      <td>0.647837</td>\n      <td>0</td>\n      <td>1</td>\n      <td>0</td>\n      <td>0</td>\n      <td>0</td>\n      <td>0</td>\n      <td>...</td>\n      <td>0</td>\n      <td>0</td>\n      <td>0</td>\n      <td>0</td>\n      <td>0</td>\n      <td>0</td>\n      <td>1</td>\n      <td>0</td>\n      <td>0</td>\n      <td>1</td>\n    </tr>\n  </tbody>\n</table>\n<p>36317 rows × 219 columns</p>\n</div>"
     },
     "metadata": {},
     "execution_count": 15
    }
   ],
   "source": [
    "df"
   ]
  },
  {
   "source": [
    "## Splitting Target"
   ],
   "cell_type": "markdown",
   "metadata": {}
  },
  {
   "cell_type": "code",
   "execution_count": 16,
   "metadata": {},
   "outputs": [],
   "source": [
    "y = df[['price']]\n",
    "X = df.drop(columns=['price'])"
   ]
  },
  {
   "source": [
    "## Train/Test Split"
   ],
   "cell_type": "markdown",
   "metadata": {}
  },
  {
   "cell_type": "code",
   "execution_count": 17,
   "metadata": {},
   "outputs": [],
   "source": [
    "train, test, train_y, test_y = train_test_split(X, y, test_size=0.2, random_state=42)"
   ]
  },
  {
   "cell_type": "code",
   "execution_count": 18,
   "metadata": {},
   "outputs": [
    {
     "output_type": "stream",
     "name": "stdout",
     "text": [
      "(29053, 218)\n(29053, 1)\n(7264, 218)\n(7264, 1)\n"
     ]
    }
   ],
   "source": [
    "print(train.shape)\n",
    "print(train_y.shape)\n",
    "print(test.shape)\n",
    "print(test_y.shape)"
   ]
  },
  {
   "source": [
    "## Model 1"
   ],
   "cell_type": "markdown",
   "metadata": {}
  },
  {
   "cell_type": "code",
   "execution_count": 19,
   "metadata": {},
   "outputs": [
    {
     "output_type": "execute_result",
     "data": {
      "text/plain": [
       "LinearRegression()"
      ]
     },
     "metadata": {},
     "execution_count": 19
    }
   ],
   "source": [
    "lin_reg = LinearRegression()\n",
    "lin_reg.fit(train, train_y)"
   ]
  },
  {
   "cell_type": "code",
   "execution_count": 20,
   "metadata": {},
   "outputs": [
    {
     "output_type": "execute_result",
     "data": {
      "text/plain": [
       "5420.980512595291"
      ]
     },
     "metadata": {},
     "execution_count": 20
    }
   ],
   "source": [
    "predictions = lin_reg.predict(train)\n",
    "lin_mse = mean_squared_error(train_y, predictions)\n",
    "lin_rmse = np.sqrt(lin_mse)\n",
    "lin_rmse"
   ]
  },
  {
   "cell_type": "code",
   "execution_count": 21,
   "metadata": {},
   "outputs": [
    {
     "output_type": "execute_result",
     "data": {
      "text/plain": [
       "0.625656871393679"
      ]
     },
     "metadata": {},
     "execution_count": 21
    }
   ],
   "source": [
    "lin_reg.score(train, train_y)"
   ]
  },
  {
   "source": [
    "## Model 2"
   ],
   "cell_type": "markdown",
   "metadata": {}
  },
  {
   "cell_type": "code",
   "execution_count": 22,
   "metadata": {},
   "outputs": [
    {
     "output_type": "execute_result",
     "data": {
      "text/plain": [
       "DecisionTreeRegressor(random_state=42)"
      ]
     },
     "metadata": {},
     "execution_count": 22
    }
   ],
   "source": [
    "tree_reg = DecisionTreeRegressor(random_state=42)\n",
    "tree_reg.fit(train, train_y)"
   ]
  },
  {
   "cell_type": "code",
   "execution_count": 23,
   "metadata": {},
   "outputs": [
    {
     "output_type": "execute_result",
     "data": {
      "text/plain": [
       "0.9967437266932734"
      ]
     },
     "metadata": {},
     "execution_count": 23
    }
   ],
   "source": [
    "tree_reg.score(train, train_y)"
   ]
  },
  {
   "cell_type": "code",
   "execution_count": 24,
   "metadata": {},
   "outputs": [
    {
     "output_type": "execute_result",
     "data": {
      "text/plain": [
       "0.8394390401668732"
      ]
     },
     "metadata": {},
     "execution_count": 24
    }
   ],
   "source": [
    "tree_reg.score(test, test_y)"
   ]
  },
  {
   "cell_type": "code",
   "execution_count": 25,
   "metadata": {},
   "outputs": [
    {
     "output_type": "execute_result",
     "data": {
      "text/plain": [
       "505.59566052944575"
      ]
     },
     "metadata": {},
     "execution_count": 25
    }
   ],
   "source": [
    "predictions = tree_reg.predict(train)\n",
    "lin_mse = mean_squared_error(train_y, predictions)\n",
    "lin_rmse = np.sqrt(lin_mse)\n",
    "lin_rmse"
   ]
  },
  {
   "source": [
    "## Model 3"
   ],
   "cell_type": "markdown",
   "metadata": {}
  },
  {
   "cell_type": "code",
   "execution_count": 26,
   "metadata": {},
   "outputs": [
    {
     "output_type": "execute_result",
     "data": {
      "text/plain": [
       "RandomForestClassifier(max_depth=12, random_state=42)"
      ]
     },
     "metadata": {},
     "execution_count": 26
    }
   ],
   "source": [
    "clf = RandomForestClassifier(max_depth=12, random_state=42)\n",
    "clf.fit(train, train_y)"
   ]
  },
  {
   "cell_type": "code",
   "execution_count": 27,
   "metadata": {},
   "outputs": [
    {
     "output_type": "execute_result",
     "data": {
      "text/plain": [
       "0.3959315733314976"
      ]
     },
     "metadata": {},
     "execution_count": 27
    }
   ],
   "source": [
    "clf.score(train, train_y)"
   ]
  },
  {
   "source": [
    "Model 2 using a Decision Tree Regressor, seems to have had the best reults. Now I will try to fine tune this model and get better results. "
   ],
   "cell_type": "markdown",
   "metadata": {}
  },
  {
   "source": [
    "## Grid Search"
   ],
   "cell_type": "markdown",
   "metadata": {}
  },
  {
   "cell_type": "code",
   "execution_count": 28,
   "metadata": {},
   "outputs": [],
   "source": [
    "# from sklearn.model_selection import GridSearchCV\n",
    "# param_grid = {   \n",
    "#         'pca__n_components': [1, 2],     \n",
    "#         'clf__n_estimators': [1, 3, 5, 10],\n",
    "# }\n",
    "# grid_search = GridSearchCV(tree_reg, param_grid, cv=3) \n",
    "\n",
    "# # fine-tune the hyperparameters\n",
    "# grid_search.fit(train, train_y)\n",
    "\n",
    "# # get the best model\n",
    "# final_model = grid_search.best_estimator_"
   ]
  },
  {
   "cell_type": "code",
   "execution_count": null,
   "metadata": {},
   "outputs": [],
   "source": []
  }
 ]
}