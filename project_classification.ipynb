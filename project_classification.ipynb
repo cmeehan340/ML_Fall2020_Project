{
 "metadata": {
  "language_info": {
   "codemirror_mode": {
    "name": "ipython",
    "version": 3
   },
   "file_extension": ".py",
   "mimetype": "text/x-python",
   "name": "python",
   "nbconvert_exporter": "python",
   "pygments_lexer": "ipython3",
   "version": "3.8.3-final"
  },
  "orig_nbformat": 2,
  "kernelspec": {
   "name": "python3",
   "display_name": "Python 3"
  }
 },
 "nbformat": 4,
 "nbformat_minor": 2,
 "cells": [
  {
   "cell_type": "code",
   "execution_count": 62,
   "metadata": {},
   "outputs": [],
   "source": [
    "import numpy as np\n",
    "import pandas as pd\n",
    "import pickle as pk\n",
    "from sklearn.preprocessing import OneHotEncoder\n",
    "from sklearn.preprocessing import LabelBinarizer\n",
    "from sklearn.pipeline import Pipeline\n",
    "from sklearn.preprocessing import StandardScaler\n",
    "from sklearn.model_selection import train_test_split\n",
    "from sklearn.linear_model import LinearRegression\n",
    "from sklearn.tree import DecisionTreeRegressor\n",
    "from sklearn.metrics import mean_squared_error\n",
    "\n"
   ]
  },
  {
   "cell_type": "code",
   "execution_count": 63,
   "metadata": {},
   "outputs": [],
   "source": [
    "file = open('Data/vehicles_new', 'rb')\n",
    "df = pk.load(file)\n",
    "file.close()"
   ]
  },
  {
   "cell_type": "code",
   "execution_count": 64,
   "metadata": {},
   "outputs": [
    {
     "output_type": "execute_result",
     "data": {
      "text/plain": [
       "<bound method NDFrame.head of         price  year manufacturer                model  condition    cylinders  \\\n",
       "1        8750  2013      hyundai               sonata  excellent  4 cylinders   \n",
       "2       10900  2013       toyota                prius       good  4 cylinders   \n",
       "5       13995  2012         ford                f-150       good  6 cylinders   \n",
       "6        7995  2010    chevrolet              equinox       good  4 cylinders   \n",
       "7        8995  2011    chevrolet             traverse       good  6 cylinders   \n",
       "...       ...   ...          ...                  ...        ...          ...   \n",
       "423843  29500  2015       toyota  tacoma trd off road   like new  6 cylinders   \n",
       "423845   1600  2004        volvo                 xc70  excellent  5 cylinders   \n",
       "423852   1600  2006      hyundai               sonata       fair  6 cylinders   \n",
       "423853   9000  2003       toyota      sequoia limited  excellent  8 cylinders   \n",
       "423854    700  1994         ford                f-150       fair  6 cylinders   \n",
       "\n",
       "          fuel  odometer title_status transmission drive paint_color  \n",
       "1          gas   90821.0        clean    automatic   fwd        grey  \n",
       "2       hybrid   92800.0        clean    automatic   fwd        blue  \n",
       "5          gas  188406.0        clean    automatic   4wd        grey  \n",
       "6          gas  108124.0        clean    automatic   4wd        grey  \n",
       "7          gas  178054.0        clean    automatic   4wd       white  \n",
       "...        ...       ...          ...          ...   ...         ...  \n",
       "423843     gas   75000.0        clean    automatic   4wd        blue  \n",
       "423845     gas  292255.0        clean    automatic   4wd        blue  \n",
       "423852     gas  159980.0        clean    automatic   fwd        blue  \n",
       "423853     gas  160000.0        clean    automatic   4wd       green  \n",
       "423854     gas  212000.0        clean       manual   rwd       green  \n",
       "\n",
       "[68847 rows x 12 columns]>"
      ]
     },
     "metadata": {},
     "execution_count": 64
    }
   ],
   "source": [
    "df.head"
   ]
  },
  {
   "cell_type": "code",
   "execution_count": 65,
   "metadata": {},
   "outputs": [
    {
     "output_type": "execute_result",
     "data": {
      "text/plain": [
       "Index(['price', 'year', 'manufacturer', 'model', 'condition', 'cylinders',\n",
       "       'fuel', 'odometer', 'title_status', 'transmission', 'drive',\n",
       "       'paint_color'],\n",
       "      dtype='object')"
      ]
     },
     "metadata": {},
     "execution_count": 65
    }
   ],
   "source": [
    "df.columns"
   ]
  },
  {
   "cell_type": "code",
   "execution_count": 66,
   "metadata": {},
   "outputs": [],
   "source": [
    "condition = pd.get_dummies(df['condition'])\n",
    "df = df.drop('condition',axis=1)\n",
    "df = df.join(condition)"
   ]
  },
  {
   "cell_type": "code",
   "execution_count": 67,
   "metadata": {},
   "outputs": [],
   "source": [
    "df['cylinders'] = df['cylinders'].str.strip('cylinders')"
   ]
  },
  {
   "cell_type": "code",
   "execution_count": 68,
   "metadata": {},
   "outputs": [],
   "source": [
    "paint = pd.get_dummies(df['paint_color'])\n",
    "df = df.drop('paint_color',axis=1)\n",
    "df = df.join(paint)"
   ]
  },
  {
   "cell_type": "code",
   "execution_count": 69,
   "metadata": {},
   "outputs": [],
   "source": [
    "fuel = pd.get_dummies(df['fuel'])\n",
    "df = df.drop('fuel',axis=1)\n",
    "df = df.join(fuel)"
   ]
  },
  {
   "cell_type": "code",
   "execution_count": 70,
   "metadata": {},
   "outputs": [],
   "source": [
    "title = pd.get_dummies(df['title_status'])\n",
    "df = df.drop('title_status',axis=1)\n",
    "df = df.join(title)"
   ]
  },
  {
   "cell_type": "code",
   "execution_count": 71,
   "metadata": {},
   "outputs": [],
   "source": [
    "make = pd.get_dummies(df['manufacturer'])\n",
    "df = df.drop('manufacturer',axis=1)\n",
    "df = df.join(make)"
   ]
  },
  {
   "cell_type": "code",
   "execution_count": 72,
   "metadata": {},
   "outputs": [],
   "source": [
    "model = pd.get_dummies(df['model'])\n",
    "df = df.drop('model',axis=1)\n",
    "df = df.join(model)"
   ]
  },
  {
   "cell_type": "code",
   "execution_count": 73,
   "metadata": {},
   "outputs": [],
   "source": [
    "trans = pd.get_dummies(df['transmission'])\n",
    "df = df.drop('transmission',axis=1)\n",
    "df = df.join(trans)"
   ]
  },
  {
   "cell_type": "code",
   "execution_count": 74,
   "metadata": {},
   "outputs": [],
   "source": [
    "drive = pd.get_dummies(df['drive'])\n",
    "df = df.drop('drive',axis=1)\n",
    "df = df.join(drive)"
   ]
  },
  {
   "cell_type": "code",
   "execution_count": 75,
   "metadata": {},
   "outputs": [],
   "source": [
    "scl = StandardScaler()\n",
    "odo_scale = df[['odometer']]\n",
    "odo_scale = scl.fit_transform(odo_scale)\n",
    "df['odometer'] = odo_scale"
   ]
  },
  {
   "cell_type": "code",
   "execution_count": 76,
   "metadata": {},
   "outputs": [],
   "source": [
    "cyl_scale = df[['cylinders']]\n",
    "cyl_scale = scl.fit_transform(cyl_scale)\n",
    "df['cylinders'] = cyl_scale"
   ]
  },
  {
   "cell_type": "code",
   "execution_count": 77,
   "metadata": {},
   "outputs": [
    {
     "output_type": "execute_result",
     "data": {
      "text/plain": [
       "        price  year  cylinders  odometer  excellent  fair  good  like new  \\\n",
       "1        8750  2013  -1.106740 -0.220969          1     0     0         0   \n",
       "2       10900  2013  -1.106740 -0.205092          0     0     1         0   \n",
       "5       13995  2012   0.133415  0.561928          0     0     1         0   \n",
       "6        7995  2010  -1.106740 -0.082152          0     0     1         0   \n",
       "7        8995  2011   0.133415  0.478877          0     0     1         0   \n",
       "...       ...   ...        ...       ...        ...   ...   ...       ...   \n",
       "423843  29500  2015   0.133415 -0.347896          0     0     0         1   \n",
       "423845   1600  2004  -0.486663  1.395079          1     0     0         0   \n",
       "423852   1600  2006   0.133415  0.333874          0     1     0         0   \n",
       "423853   9000  2003   1.373569  0.334035          1     0     0         0   \n",
       "423854    700  1994   0.133415  0.751216          0     1     0         0   \n",
       "\n",
       "        new  salvage  ...  z4  z4 3.0i  z4 3.0si  zdx  zephyr  automatic  \\\n",
       "1         0        0  ...   0        0         0    0       0          1   \n",
       "2         0        0  ...   0        0         0    0       0          1   \n",
       "5         0        0  ...   0        0         0    0       0          1   \n",
       "6         0        0  ...   0        0         0    0       0          1   \n",
       "7         0        0  ...   0        0         0    0       0          1   \n",
       "...     ...      ...  ...  ..      ...       ...  ...     ...        ...   \n",
       "423843    0        0  ...   0        0         0    0       0          1   \n",
       "423845    0        0  ...   0        0         0    0       0          1   \n",
       "423852    0        0  ...   0        0         0    0       0          1   \n",
       "423853    0        0  ...   0        0         0    0       0          1   \n",
       "423854    0        0  ...   0        0         0    0       0          0   \n",
       "\n",
       "        manual  4wd  fwd  rwd  \n",
       "1            0    0    1    0  \n",
       "2            0    0    1    0  \n",
       "5            0    1    0    0  \n",
       "6            0    1    0    0  \n",
       "7            0    1    0    0  \n",
       "...        ...  ...  ...  ...  \n",
       "423843       0    1    0    0  \n",
       "423845       0    1    0    0  \n",
       "423852       0    0    1    0  \n",
       "423853       0    1    0    0  \n",
       "423854       1    0    0    1  \n",
       "\n",
       "[68847 rows x 2415 columns]"
      ],
      "text/html": "<div>\n<style scoped>\n    .dataframe tbody tr th:only-of-type {\n        vertical-align: middle;\n    }\n\n    .dataframe tbody tr th {\n        vertical-align: top;\n    }\n\n    .dataframe thead th {\n        text-align: right;\n    }\n</style>\n<table border=\"1\" class=\"dataframe\">\n  <thead>\n    <tr style=\"text-align: right;\">\n      <th></th>\n      <th>price</th>\n      <th>year</th>\n      <th>cylinders</th>\n      <th>odometer</th>\n      <th>excellent</th>\n      <th>fair</th>\n      <th>good</th>\n      <th>like new</th>\n      <th>new</th>\n      <th>salvage</th>\n      <th>...</th>\n      <th>z4</th>\n      <th>z4 3.0i</th>\n      <th>z4 3.0si</th>\n      <th>zdx</th>\n      <th>zephyr</th>\n      <th>automatic</th>\n      <th>manual</th>\n      <th>4wd</th>\n      <th>fwd</th>\n      <th>rwd</th>\n    </tr>\n  </thead>\n  <tbody>\n    <tr>\n      <th>1</th>\n      <td>8750</td>\n      <td>2013</td>\n      <td>-1.106740</td>\n      <td>-0.220969</td>\n      <td>1</td>\n      <td>0</td>\n      <td>0</td>\n      <td>0</td>\n      <td>0</td>\n      <td>0</td>\n      <td>...</td>\n      <td>0</td>\n      <td>0</td>\n      <td>0</td>\n      <td>0</td>\n      <td>0</td>\n      <td>1</td>\n      <td>0</td>\n      <td>0</td>\n      <td>1</td>\n      <td>0</td>\n    </tr>\n    <tr>\n      <th>2</th>\n      <td>10900</td>\n      <td>2013</td>\n      <td>-1.106740</td>\n      <td>-0.205092</td>\n      <td>0</td>\n      <td>0</td>\n      <td>1</td>\n      <td>0</td>\n      <td>0</td>\n      <td>0</td>\n      <td>...</td>\n      <td>0</td>\n      <td>0</td>\n      <td>0</td>\n      <td>0</td>\n      <td>0</td>\n      <td>1</td>\n      <td>0</td>\n      <td>0</td>\n      <td>1</td>\n      <td>0</td>\n    </tr>\n    <tr>\n      <th>5</th>\n      <td>13995</td>\n      <td>2012</td>\n      <td>0.133415</td>\n      <td>0.561928</td>\n      <td>0</td>\n      <td>0</td>\n      <td>1</td>\n      <td>0</td>\n      <td>0</td>\n      <td>0</td>\n      <td>...</td>\n      <td>0</td>\n      <td>0</td>\n      <td>0</td>\n      <td>0</td>\n      <td>0</td>\n      <td>1</td>\n      <td>0</td>\n      <td>1</td>\n      <td>0</td>\n      <td>0</td>\n    </tr>\n    <tr>\n      <th>6</th>\n      <td>7995</td>\n      <td>2010</td>\n      <td>-1.106740</td>\n      <td>-0.082152</td>\n      <td>0</td>\n      <td>0</td>\n      <td>1</td>\n      <td>0</td>\n      <td>0</td>\n      <td>0</td>\n      <td>...</td>\n      <td>0</td>\n      <td>0</td>\n      <td>0</td>\n      <td>0</td>\n      <td>0</td>\n      <td>1</td>\n      <td>0</td>\n      <td>1</td>\n      <td>0</td>\n      <td>0</td>\n    </tr>\n    <tr>\n      <th>7</th>\n      <td>8995</td>\n      <td>2011</td>\n      <td>0.133415</td>\n      <td>0.478877</td>\n      <td>0</td>\n      <td>0</td>\n      <td>1</td>\n      <td>0</td>\n      <td>0</td>\n      <td>0</td>\n      <td>...</td>\n      <td>0</td>\n      <td>0</td>\n      <td>0</td>\n      <td>0</td>\n      <td>0</td>\n      <td>1</td>\n      <td>0</td>\n      <td>1</td>\n      <td>0</td>\n      <td>0</td>\n    </tr>\n    <tr>\n      <th>...</th>\n      <td>...</td>\n      <td>...</td>\n      <td>...</td>\n      <td>...</td>\n      <td>...</td>\n      <td>...</td>\n      <td>...</td>\n      <td>...</td>\n      <td>...</td>\n      <td>...</td>\n      <td>...</td>\n      <td>...</td>\n      <td>...</td>\n      <td>...</td>\n      <td>...</td>\n      <td>...</td>\n      <td>...</td>\n      <td>...</td>\n      <td>...</td>\n      <td>...</td>\n      <td>...</td>\n    </tr>\n    <tr>\n      <th>423843</th>\n      <td>29500</td>\n      <td>2015</td>\n      <td>0.133415</td>\n      <td>-0.347896</td>\n      <td>0</td>\n      <td>0</td>\n      <td>0</td>\n      <td>1</td>\n      <td>0</td>\n      <td>0</td>\n      <td>...</td>\n      <td>0</td>\n      <td>0</td>\n      <td>0</td>\n      <td>0</td>\n      <td>0</td>\n      <td>1</td>\n      <td>0</td>\n      <td>1</td>\n      <td>0</td>\n      <td>0</td>\n    </tr>\n    <tr>\n      <th>423845</th>\n      <td>1600</td>\n      <td>2004</td>\n      <td>-0.486663</td>\n      <td>1.395079</td>\n      <td>1</td>\n      <td>0</td>\n      <td>0</td>\n      <td>0</td>\n      <td>0</td>\n      <td>0</td>\n      <td>...</td>\n      <td>0</td>\n      <td>0</td>\n      <td>0</td>\n      <td>0</td>\n      <td>0</td>\n      <td>1</td>\n      <td>0</td>\n      <td>1</td>\n      <td>0</td>\n      <td>0</td>\n    </tr>\n    <tr>\n      <th>423852</th>\n      <td>1600</td>\n      <td>2006</td>\n      <td>0.133415</td>\n      <td>0.333874</td>\n      <td>0</td>\n      <td>1</td>\n      <td>0</td>\n      <td>0</td>\n      <td>0</td>\n      <td>0</td>\n      <td>...</td>\n      <td>0</td>\n      <td>0</td>\n      <td>0</td>\n      <td>0</td>\n      <td>0</td>\n      <td>1</td>\n      <td>0</td>\n      <td>0</td>\n      <td>1</td>\n      <td>0</td>\n    </tr>\n    <tr>\n      <th>423853</th>\n      <td>9000</td>\n      <td>2003</td>\n      <td>1.373569</td>\n      <td>0.334035</td>\n      <td>1</td>\n      <td>0</td>\n      <td>0</td>\n      <td>0</td>\n      <td>0</td>\n      <td>0</td>\n      <td>...</td>\n      <td>0</td>\n      <td>0</td>\n      <td>0</td>\n      <td>0</td>\n      <td>0</td>\n      <td>1</td>\n      <td>0</td>\n      <td>1</td>\n      <td>0</td>\n      <td>0</td>\n    </tr>\n    <tr>\n      <th>423854</th>\n      <td>700</td>\n      <td>1994</td>\n      <td>0.133415</td>\n      <td>0.751216</td>\n      <td>0</td>\n      <td>1</td>\n      <td>0</td>\n      <td>0</td>\n      <td>0</td>\n      <td>0</td>\n      <td>...</td>\n      <td>0</td>\n      <td>0</td>\n      <td>0</td>\n      <td>0</td>\n      <td>0</td>\n      <td>0</td>\n      <td>1</td>\n      <td>0</td>\n      <td>0</td>\n      <td>1</td>\n    </tr>\n  </tbody>\n</table>\n<p>68847 rows × 2415 columns</p>\n</div>"
     },
     "metadata": {},
     "execution_count": 77
    }
   ],
   "source": [
    "df"
   ]
  },
  {
   "cell_type": "code",
   "execution_count": 78,
   "metadata": {},
   "outputs": [],
   "source": [
    "y = df[['price']]\n",
    "X = df.drop(columns=['price'])"
   ]
  },
  {
   "cell_type": "code",
   "execution_count": 79,
   "metadata": {},
   "outputs": [],
   "source": [
    "train, test, train_y, test_y = train_test_split(X, y, test_size=0.2, random_state=42)"
   ]
  },
  {
   "cell_type": "code",
   "execution_count": 80,
   "metadata": {},
   "outputs": [],
   "source": [
    "train, valid, train_y, valid_y = train_test_split(train, train_y, test_size=0.02, random_state=42)"
   ]
  },
  {
   "cell_type": "code",
   "execution_count": 81,
   "metadata": {},
   "outputs": [
    {
     "output_type": "stream",
     "name": "stdout",
     "text": [
      "(53975, 2414)\n(53975, 1)\n(1102, 2414)\n(1102, 1)\n(13770, 2414)\n(13770, 1)\n"
     ]
    }
   ],
   "source": [
    "print(train.shape)\n",
    "print(train_y.shape)\n",
    "print(valid.shape)\n",
    "print(valid_y.shape)\n",
    "print(test.shape)\n",
    "print(test_y.shape)"
   ]
  },
  {
   "cell_type": "code",
   "execution_count": 82,
   "metadata": {},
   "outputs": [
    {
     "output_type": "execute_result",
     "data": {
      "text/plain": [
       "LinearRegression()"
      ]
     },
     "metadata": {},
     "execution_count": 82
    }
   ],
   "source": [
    "lin_reg = LinearRegression()\n",
    "lin_reg.fit(train, train_y)"
   ]
  },
  {
   "cell_type": "code",
   "execution_count": 83,
   "metadata": {},
   "outputs": [
    {
     "output_type": "execute_result",
     "data": {
      "text/plain": [
       "DecisionTreeRegressor(random_state=42)"
      ]
     },
     "metadata": {},
     "execution_count": 83
    }
   ],
   "source": [
    "tree_reg = DecisionTreeRegressor(random_state=42)\n",
    "tree_reg.fit(train, train_y)"
   ]
  },
  {
   "cell_type": "code",
   "execution_count": 84,
   "metadata": {},
   "outputs": [
    {
     "output_type": "execute_result",
     "data": {
      "text/plain": [
       "10659625.859908745"
      ]
     },
     "metadata": {},
     "execution_count": 84
    }
   ],
   "source": [
    "predictions = lin_reg.predict(train)\n",
    "lin_mse = mean_squared_error(train_y, predictions)\n",
    "lin_rmse = np.sqrt(lin_mse)\n",
    "lin_rmse"
   ]
  },
  {
   "cell_type": "code",
   "execution_count": 85,
   "metadata": {},
   "outputs": [
    {
     "output_type": "execute_result",
     "data": {
      "text/plain": [
       "0.013630962397797597"
      ]
     },
     "metadata": {},
     "execution_count": 85
    }
   ],
   "source": [
    "lin_reg.score(train, train_y)"
   ]
  },
  {
   "cell_type": "code",
   "execution_count": 87,
   "metadata": {},
   "outputs": [
    {
     "output_type": "execute_result",
     "data": {
      "text/plain": [
       "0.048106687192195796"
      ]
     },
     "metadata": {},
     "execution_count": 87
    }
   ],
   "source": [
    "tree_reg.score(valid, valid_y)"
   ]
  },
  {
   "cell_type": "code",
   "execution_count": 93,
   "metadata": {},
   "outputs": [
    {
     "output_type": "execute_result",
     "data": {
      "text/plain": [
       "726.3901179220035"
      ]
     },
     "metadata": {},
     "execution_count": 93
    }
   ],
   "source": [
    "predictions = tree_reg.predict(train)\n",
    "lin_mse = mean_squared_error(train_y, predictions)\n",
    "lin_rmse = np.sqrt(lin_mse)\n",
    "lin_rmse"
   ]
  },
  {
   "cell_type": "code",
   "execution_count": null,
   "metadata": {},
   "outputs": [],
   "source": []
  }
 ]
}