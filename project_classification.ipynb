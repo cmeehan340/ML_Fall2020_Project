{
 "metadata": {
  "language_info": {
   "codemirror_mode": {
    "name": "ipython",
    "version": 3
   },
   "file_extension": ".py",
   "mimetype": "text/x-python",
   "name": "python",
   "nbconvert_exporter": "python",
   "pygments_lexer": "ipython3",
   "version": "3.8.3-final"
  },
  "orig_nbformat": 2,
  "kernelspec": {
   "name": "python3",
   "display_name": "Python 3"
  }
 },
 "nbformat": 4,
 "nbformat_minor": 2,
 "cells": [
  {
   "cell_type": "code",
   "execution_count": 1,
   "metadata": {},
   "outputs": [],
   "source": [
    "import numpy as np\n",
    "import pandas as pd\n",
    "import pickle as pk\n",
    "from sklearn.preprocessing import OneHotEncoder\n",
    "from sklearn.preprocessing import LabelBinarizer\n",
    "from sklearn.pipeline import Pipeline\n",
    "from sklearn.preprocessing import StandardScaler\n",
    "from sklearn.model_selection import train_test_split"
   ]
  },
  {
   "cell_type": "code",
   "execution_count": 2,
   "metadata": {},
   "outputs": [],
   "source": [
    "file = open('Data/vehicles_new', 'rb')\n",
    "df = pk.load(file)"
   ]
  },
  {
   "cell_type": "code",
   "execution_count": 3,
   "metadata": {},
   "outputs": [
    {
     "output_type": "execute_result",
     "data": {
      "text/plain": [
       "<bound method NDFrame.head of         price    year manufacturer                model  condition  \\\n",
       "1        8750  2013.0      hyundai               sonata  excellent   \n",
       "2       10900  2013.0       toyota                prius       good   \n",
       "5       13995  2012.0         ford                f-150       good   \n",
       "6        7995  2010.0    chevrolet              equinox       good   \n",
       "7        8995  2011.0    chevrolet             traverse       good   \n",
       "...       ...     ...          ...                  ...        ...   \n",
       "423843  29500  2015.0       toyota  tacoma trd off road   like new   \n",
       "423845   1600  2004.0        volvo                 xc70  excellent   \n",
       "423852   1600  2006.0      hyundai               sonata       fair   \n",
       "423853   9000  2003.0       toyota      sequoia limited  excellent   \n",
       "423854    700  1994.0         ford                f-150       fair   \n",
       "\n",
       "          cylinders    fuel  odometer title_status transmission drive  \\\n",
       "1       4 cylinders     gas   90821.0        clean    automatic   fwd   \n",
       "2       4 cylinders  hybrid   92800.0        clean    automatic   fwd   \n",
       "5       6 cylinders     gas  188406.0        clean    automatic   4wd   \n",
       "6       4 cylinders     gas  108124.0        clean    automatic   4wd   \n",
       "7       6 cylinders     gas  178054.0        clean    automatic   4wd   \n",
       "...             ...     ...       ...          ...          ...   ...   \n",
       "423843  6 cylinders     gas   75000.0        clean    automatic   4wd   \n",
       "423845  5 cylinders     gas  292255.0        clean    automatic   4wd   \n",
       "423852  6 cylinders     gas  159980.0        clean    automatic   fwd   \n",
       "423853  8 cylinders     gas  160000.0        clean    automatic   4wd   \n",
       "423854  6 cylinders     gas  212000.0        clean       manual   rwd   \n",
       "\n",
       "       paint_color  \n",
       "1             grey  \n",
       "2             blue  \n",
       "5             grey  \n",
       "6             grey  \n",
       "7            white  \n",
       "...            ...  \n",
       "423843        blue  \n",
       "423845        blue  \n",
       "423852        blue  \n",
       "423853       green  \n",
       "423854       green  \n",
       "\n",
       "[69923 rows x 12 columns]>"
      ]
     },
     "metadata": {},
     "execution_count": 3
    }
   ],
   "source": [
    "df.head"
   ]
  },
  {
   "cell_type": "code",
   "execution_count": 4,
   "metadata": {},
   "outputs": [
    {
     "output_type": "execute_result",
     "data": {
      "text/plain": [
       "Index(['price', 'year', 'manufacturer', 'model', 'condition', 'cylinders',\n",
       "       'fuel', 'odometer', 'title_status', 'transmission', 'drive',\n",
       "       'paint_color'],\n",
       "      dtype='object')"
      ]
     },
     "metadata": {},
     "execution_count": 4
    }
   ],
   "source": [
    "df.columns"
   ]
  },
  {
   "cell_type": "code",
   "execution_count": 5,
   "metadata": {},
   "outputs": [
    {
     "output_type": "execute_result",
     "data": {
      "text/plain": [
       "<69923x11 sparse matrix of type '<class 'numpy.float64'>'\n",
       "\twith 69923 stored elements in Compressed Sparse Row format>"
      ]
     },
     "metadata": {},
     "execution_count": 5
    }
   ],
   "source": [
    "enc = OneHotEncoder(handle_unknown='ignore')\n",
    "color_cat = df[['paint_color']]\n",
    "color_enc = enc.fit_transform(color_cat)\n",
    "color_enc"
   ]
  },
  {
   "cell_type": "code",
   "execution_count": 6,
   "metadata": {},
   "outputs": [
    {
     "output_type": "execute_result",
     "data": {
      "text/plain": [
       "[array(['black', 'blue', 'brown', 'green', 'grey', 'orange', 'purple',\n",
       "        'red', 'silver', 'white', 'yellow'], dtype=object)]"
      ]
     },
     "metadata": {},
     "execution_count": 6
    }
   ],
   "source": [
    "enc.categories_"
   ]
  },
  {
   "cell_type": "code",
   "execution_count": 7,
   "metadata": {},
   "outputs": [],
   "source": [
    "lb_bin = LabelBinarizer()\n",
    "color_cat_lbn = lb_bin.fit_transform(color_enc)"
   ]
  },
  {
   "cell_type": "code",
   "execution_count": 8,
   "metadata": {},
   "outputs": [
    {
     "output_type": "execute_result",
     "data": {
      "text/plain": [
       "<69923x11 sparse matrix of type '<class 'numpy.float64'>'\n",
       "\twith 69923 stored elements in Compressed Sparse Row format>"
      ]
     },
     "metadata": {},
     "execution_count": 8
    }
   ],
   "source": [
    "color_enc"
   ]
  },
  {
   "cell_type": "code",
   "execution_count": 9,
   "metadata": {},
   "outputs": [
    {
     "output_type": "execute_result",
     "data": {
      "text/plain": [
       "array([[1, 0, 0, 0, 0, 0],\n",
       "       [0, 0, 1, 0, 0, 0],\n",
       "       [0, 0, 1, 0, 0, 0],\n",
       "       ...,\n",
       "       [0, 1, 0, 0, 0, 0],\n",
       "       [1, 0, 0, 0, 0, 0],\n",
       "       [0, 1, 0, 0, 0, 0]])"
      ]
     },
     "metadata": {},
     "execution_count": 9
    }
   ],
   "source": [
    "condition_cat = df[['condition']]\n",
    "condition_cat = enc.fit_transform(condition_cat)\n",
    "condition_cat_lbn = lb_bin.fit_transform(condition_cat)\n",
    "condition_cat_lbn"
   ]
  },
  {
   "cell_type": "code",
   "execution_count": 10,
   "metadata": {},
   "outputs": [],
   "source": [
    "df['cylinders'] = df['cylinders'].str.strip('cylinders')"
   ]
  },
  {
   "cell_type": "code",
   "execution_count": 11,
   "metadata": {},
   "outputs": [],
   "source": [
    "df['paint_color'] = color_cat_lbn"
   ]
  },
  {
   "cell_type": "code",
   "execution_count": 12,
   "metadata": {},
   "outputs": [
    {
     "output_type": "execute_result",
     "data": {
      "text/plain": [
       "        price    year manufacturer                model  condition cylinders  \\\n",
       "1        8750  2013.0      hyundai               sonata  excellent        4    \n",
       "2       10900  2013.0       toyota                prius       good        4    \n",
       "5       13995  2012.0         ford                f-150       good        6    \n",
       "6        7995  2010.0    chevrolet              equinox       good        4    \n",
       "7        8995  2011.0    chevrolet             traverse       good        6    \n",
       "...       ...     ...          ...                  ...        ...       ...   \n",
       "423843  29500  2015.0       toyota  tacoma trd off road   like new        6    \n",
       "423845   1600  2004.0        volvo                 xc70  excellent        5    \n",
       "423852   1600  2006.0      hyundai               sonata       fair        6    \n",
       "423853   9000  2003.0       toyota      sequoia limited  excellent        8    \n",
       "423854    700  1994.0         ford                f-150       fair        6    \n",
       "\n",
       "          fuel  odometer title_status transmission drive  paint_color  \n",
       "1          gas   90821.0        clean    automatic   fwd            0  \n",
       "2       hybrid   92800.0        clean    automatic   fwd            0  \n",
       "5          gas  188406.0        clean    automatic   4wd            0  \n",
       "6          gas  108124.0        clean    automatic   4wd            0  \n",
       "7          gas  178054.0        clean    automatic   4wd            0  \n",
       "...        ...       ...          ...          ...   ...          ...  \n",
       "423843     gas   75000.0        clean    automatic   4wd            0  \n",
       "423845     gas  292255.0        clean    automatic   4wd            0  \n",
       "423852     gas  159980.0        clean    automatic   fwd            0  \n",
       "423853     gas  160000.0        clean    automatic   4wd            0  \n",
       "423854     gas  212000.0        clean       manual   rwd            0  \n",
       "\n",
       "[69923 rows x 12 columns]"
      ],
      "text/html": "<div>\n<style scoped>\n    .dataframe tbody tr th:only-of-type {\n        vertical-align: middle;\n    }\n\n    .dataframe tbody tr th {\n        vertical-align: top;\n    }\n\n    .dataframe thead th {\n        text-align: right;\n    }\n</style>\n<table border=\"1\" class=\"dataframe\">\n  <thead>\n    <tr style=\"text-align: right;\">\n      <th></th>\n      <th>price</th>\n      <th>year</th>\n      <th>manufacturer</th>\n      <th>model</th>\n      <th>condition</th>\n      <th>cylinders</th>\n      <th>fuel</th>\n      <th>odometer</th>\n      <th>title_status</th>\n      <th>transmission</th>\n      <th>drive</th>\n      <th>paint_color</th>\n    </tr>\n  </thead>\n  <tbody>\n    <tr>\n      <th>1</th>\n      <td>8750</td>\n      <td>2013.0</td>\n      <td>hyundai</td>\n      <td>sonata</td>\n      <td>excellent</td>\n      <td>4</td>\n      <td>gas</td>\n      <td>90821.0</td>\n      <td>clean</td>\n      <td>automatic</td>\n      <td>fwd</td>\n      <td>0</td>\n    </tr>\n    <tr>\n      <th>2</th>\n      <td>10900</td>\n      <td>2013.0</td>\n      <td>toyota</td>\n      <td>prius</td>\n      <td>good</td>\n      <td>4</td>\n      <td>hybrid</td>\n      <td>92800.0</td>\n      <td>clean</td>\n      <td>automatic</td>\n      <td>fwd</td>\n      <td>0</td>\n    </tr>\n    <tr>\n      <th>5</th>\n      <td>13995</td>\n      <td>2012.0</td>\n      <td>ford</td>\n      <td>f-150</td>\n      <td>good</td>\n      <td>6</td>\n      <td>gas</td>\n      <td>188406.0</td>\n      <td>clean</td>\n      <td>automatic</td>\n      <td>4wd</td>\n      <td>0</td>\n    </tr>\n    <tr>\n      <th>6</th>\n      <td>7995</td>\n      <td>2010.0</td>\n      <td>chevrolet</td>\n      <td>equinox</td>\n      <td>good</td>\n      <td>4</td>\n      <td>gas</td>\n      <td>108124.0</td>\n      <td>clean</td>\n      <td>automatic</td>\n      <td>4wd</td>\n      <td>0</td>\n    </tr>\n    <tr>\n      <th>7</th>\n      <td>8995</td>\n      <td>2011.0</td>\n      <td>chevrolet</td>\n      <td>traverse</td>\n      <td>good</td>\n      <td>6</td>\n      <td>gas</td>\n      <td>178054.0</td>\n      <td>clean</td>\n      <td>automatic</td>\n      <td>4wd</td>\n      <td>0</td>\n    </tr>\n    <tr>\n      <th>...</th>\n      <td>...</td>\n      <td>...</td>\n      <td>...</td>\n      <td>...</td>\n      <td>...</td>\n      <td>...</td>\n      <td>...</td>\n      <td>...</td>\n      <td>...</td>\n      <td>...</td>\n      <td>...</td>\n      <td>...</td>\n    </tr>\n    <tr>\n      <th>423843</th>\n      <td>29500</td>\n      <td>2015.0</td>\n      <td>toyota</td>\n      <td>tacoma trd off road</td>\n      <td>like new</td>\n      <td>6</td>\n      <td>gas</td>\n      <td>75000.0</td>\n      <td>clean</td>\n      <td>automatic</td>\n      <td>4wd</td>\n      <td>0</td>\n    </tr>\n    <tr>\n      <th>423845</th>\n      <td>1600</td>\n      <td>2004.0</td>\n      <td>volvo</td>\n      <td>xc70</td>\n      <td>excellent</td>\n      <td>5</td>\n      <td>gas</td>\n      <td>292255.0</td>\n      <td>clean</td>\n      <td>automatic</td>\n      <td>4wd</td>\n      <td>0</td>\n    </tr>\n    <tr>\n      <th>423852</th>\n      <td>1600</td>\n      <td>2006.0</td>\n      <td>hyundai</td>\n      <td>sonata</td>\n      <td>fair</td>\n      <td>6</td>\n      <td>gas</td>\n      <td>159980.0</td>\n      <td>clean</td>\n      <td>automatic</td>\n      <td>fwd</td>\n      <td>0</td>\n    </tr>\n    <tr>\n      <th>423853</th>\n      <td>9000</td>\n      <td>2003.0</td>\n      <td>toyota</td>\n      <td>sequoia limited</td>\n      <td>excellent</td>\n      <td>8</td>\n      <td>gas</td>\n      <td>160000.0</td>\n      <td>clean</td>\n      <td>automatic</td>\n      <td>4wd</td>\n      <td>0</td>\n    </tr>\n    <tr>\n      <th>423854</th>\n      <td>700</td>\n      <td>1994.0</td>\n      <td>ford</td>\n      <td>f-150</td>\n      <td>fair</td>\n      <td>6</td>\n      <td>gas</td>\n      <td>212000.0</td>\n      <td>clean</td>\n      <td>manual</td>\n      <td>rwd</td>\n      <td>0</td>\n    </tr>\n  </tbody>\n</table>\n<p>69923 rows × 12 columns</p>\n</div>"
     },
     "metadata": {},
     "execution_count": 12
    }
   ],
   "source": [
    "df"
   ]
  },
  {
   "cell_type": "code",
   "execution_count": 13,
   "metadata": {},
   "outputs": [],
   "source": [
    "df['conditon'] = condition_cat"
   ]
  },
  {
   "cell_type": "code",
   "execution_count": 14,
   "metadata": {},
   "outputs": [],
   "source": [
    "fuel_cat = df[['fuel']]\n",
    "fuel_cat = enc.fit_transform(fuel_cat)\n",
    "df['fuel'] = fuel_cat"
   ]
  },
  {
   "cell_type": "code",
   "execution_count": 15,
   "metadata": {},
   "outputs": [],
   "source": [
    "title_cat = df[['title_status']]\n",
    "title_cat = enc.fit_transform(title_cat)\n",
    "df['title_status'] = title_cat"
   ]
  },
  {
   "cell_type": "code",
   "execution_count": 16,
   "metadata": {},
   "outputs": [],
   "source": [
    "make_cat = df[['manufacturer']]\n",
    "make_cat = enc.fit_transform(make_cat)\n",
    "df['manufacturer'] = make_cat"
   ]
  },
  {
   "cell_type": "code",
   "execution_count": 17,
   "metadata": {},
   "outputs": [],
   "source": [
    "model_cat = df[['model']]\n",
    "model_cat = enc.fit_transform(model_cat)\n",
    "df['model'] = model_cat"
   ]
  },
  {
   "cell_type": "code",
   "execution_count": 18,
   "metadata": {},
   "outputs": [],
   "source": [
    "cond_cat = df[['condition']]\n",
    "cond_cat = enc.fit_transform(cond_cat)\n",
    "df['condition'] = cond_cat"
   ]
  },
  {
   "cell_type": "code",
   "execution_count": 19,
   "metadata": {},
   "outputs": [],
   "source": [
    "trans_cat = df[['transmission']]\n",
    "trans_cat = enc.fit_transform(trans_cat)\n",
    "df['transmission'] = trans_cat"
   ]
  },
  {
   "cell_type": "code",
   "execution_count": 20,
   "metadata": {},
   "outputs": [],
   "source": [
    "drive_cat = df[['drive']]\n",
    "drive_cat = enc.fit_transform(drive_cat)\n",
    "df['drive'] = drive_cat"
   ]
  },
  {
   "cell_type": "code",
   "execution_count": 21,
   "metadata": {},
   "outputs": [],
   "source": [
    "scl = StandardScaler()\n",
    "odo_scale = df[['odometer']]\n",
    "odo_scale = scl.fit_transform(odo_scale)\n",
    "df['odometer'] = odo_scale"
   ]
  },
  {
   "cell_type": "code",
   "execution_count": 22,
   "metadata": {},
   "outputs": [],
   "source": [
    "cyl_scale = df[['cylinders']]\n",
    "cyl_scale = scl.fit_transform(cyl_scale)\n",
    "df['cylinders'] = cyl_scale"
   ]
  },
  {
   "cell_type": "code",
   "execution_count": 23,
   "metadata": {},
   "outputs": [],
   "source": [
    "y = df[['price']]\n",
    "X = df.drop(columns=['price'])"
   ]
  },
  {
   "cell_type": "code",
   "execution_count": 24,
   "metadata": {},
   "outputs": [],
   "source": [
    "train, test, train_y, test_y = train_test_split(X, y, test_size=0.2, random_state=42)"
   ]
  },
  {
   "cell_type": "code",
   "execution_count": 25,
   "metadata": {},
   "outputs": [
    {
     "output_type": "stream",
     "name": "stdout",
     "text": [
      "(55938, 12)\n(55938, 1)\n(13985, 12)\n(13985, 1)\n"
     ]
    }
   ],
   "source": [
    "print(train.shape)\n",
    "print(train_y.shape)\n",
    "print(test.shape)\n",
    "print(test_y.shape)"
   ]
  },
  {
   "cell_type": "code",
   "execution_count": 26,
   "metadata": {},
   "outputs": [],
   "source": [
    "# from sklearn.linear_model import LinearRegression\n",
    "\n",
    "# lin_reg = LinearRegression()\n",
    "# lin_reg.fit(train, train_y)"
   ]
  },
  {
   "cell_type": "code",
   "execution_count": null,
   "metadata": {},
   "outputs": [],
   "source": []
  }
 ]
}