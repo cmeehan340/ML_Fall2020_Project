{
 "metadata": {
  "language_info": {
   "codemirror_mode": {
    "name": "ipython",
    "version": 3
   },
   "file_extension": ".py",
   "mimetype": "text/x-python",
   "name": "python",
   "nbconvert_exporter": "python",
   "pygments_lexer": "ipython3",
   "version": "3.8.3-final"
  },
  "orig_nbformat": 2,
  "kernelspec": {
   "name": "python3",
   "display_name": "Python 3"
  }
 },
 "nbformat": 4,
 "nbformat_minor": 2,
 "cells": [
  {
   "source": [
    "# Classifiying Car Prices\n",
    "## Chris Meehan\n",
    "## 11/15/2020\n",
    "## COMP740 Machine Learning - Fall 2020\n",
    "\n",
    "```project_classification.ipynb``` - Data Encoding, Scaling, and Classification\n",
    "\n",
    "Original Data Source: https://www.kaggle.com/austinreese/craigslist-carstrucks-data"
   ],
   "cell_type": "markdown",
   "metadata": {}
  },
  {
   "cell_type": "code",
   "execution_count": 66,
   "metadata": {},
   "outputs": [],
   "source": [
    "import numpy as np\n",
    "import pandas as pd\n",
    "import pickle as pk\n",
    "from sklearn.preprocessing import StandardScaler\n",
    "from sklearn.preprocessing import OneHotEncoder\n",
    "from sklearn.model_selection import train_test_split\n",
    "from sklearn.model_selection import GridSearchCV\n",
    "from sklearn.model_selection import cross_val_score\n",
    "from sklearn.model_selection import RandomizedSearchCV\n",
    "from sklearn.linear_model import LinearRegression\n",
    "from sklearn.tree import DecisionTreeRegressor\n",
    "from sklearn.ensemble import RandomForestClassifier\n",
    "from sklearn.metrics import mean_squared_error\n",
    "from sklearn.pipeline import Pipeline\n",
    "from sklearn.impute import SimpleImputer\n",
    "from sklearn.compose import ColumnTransformer\n",
    "from scipy.stats import randint"
   ]
  },
  {
   "cell_type": "code",
   "execution_count": 67,
   "metadata": {},
   "outputs": [],
   "source": [
    "file = open('Data/vehicles_new', 'rb')\n",
    "df = pk.load(file)\n",
    "file.close()"
   ]
  },
  {
   "cell_type": "code",
   "execution_count": 68,
   "metadata": {},
   "outputs": [
    {
     "output_type": "execute_result",
     "data": {
      "text/plain": [
       "<bound method NDFrame.head of         price  year manufacturer     model  condition cylinders    fuel  \\\n",
       "1        8750  2013      hyundai    sonata  excellent        4      gas   \n",
       "2       10900  2013       toyota     prius       good        4   hybrid   \n",
       "5       13995  2012         ford     f-150       good        6      gas   \n",
       "6        7995  2010    chevrolet   equinox       good        4      gas   \n",
       "7        8995  2011    chevrolet  traverse       good        6      gas   \n",
       "...       ...   ...          ...       ...        ...       ...     ...   \n",
       "423823   9584  2012       toyota     camry  excellent        4      gas   \n",
       "423824   1000  2004         ford     f-150       fair        8      gas   \n",
       "423825  11750  2013        honda  civic ex  excellent        4      gas   \n",
       "423852   1600  2006      hyundai    sonata       fair        6      gas   \n",
       "423854    700  1994         ford     f-150       fair        6      gas   \n",
       "\n",
       "        odometer title_status transmission drive paint_color  \n",
       "1        90821.0        clean    automatic   fwd        grey  \n",
       "2        92800.0        clean    automatic   fwd        blue  \n",
       "5       188406.0        clean    automatic   4wd        grey  \n",
       "6       108124.0        clean    automatic   4wd        grey  \n",
       "7       178054.0        clean    automatic   4wd       white  \n",
       "...          ...          ...          ...   ...         ...  \n",
       "423823  145000.0        clean    automatic   fwd        grey  \n",
       "423824  177000.0        clean    automatic   4wd        blue  \n",
       "423825   57600.0        clean    automatic   fwd      silver  \n",
       "423852  159980.0        clean    automatic   fwd        blue  \n",
       "423854  212000.0        clean       manual   rwd       green  \n",
       "\n",
       "[36317 rows x 12 columns]>"
      ]
     },
     "metadata": {},
     "execution_count": 68
    }
   ],
   "source": [
    "df.head"
   ]
  },
  {
   "cell_type": "code",
   "execution_count": 69,
   "metadata": {},
   "outputs": [
    {
     "output_type": "execute_result",
     "data": {
      "text/plain": [
       "Index(['price', 'year', 'manufacturer', 'model', 'condition', 'cylinders',\n",
       "       'fuel', 'odometer', 'title_status', 'transmission', 'drive',\n",
       "       'paint_color'],\n",
       "      dtype='object')"
      ]
     },
     "metadata": {},
     "execution_count": 69
    }
   ],
   "source": [
    "df.columns"
   ]
  },
  {
   "source": [
    "## One Hot Encoding"
   ],
   "cell_type": "markdown",
   "metadata": {}
  },
  {
   "cell_type": "code",
   "execution_count": 70,
   "metadata": {},
   "outputs": [
    {
     "output_type": "execute_result",
     "data": {
      "text/plain": [
       "        price  year manufacturer     model  condition cylinders    fuel  \\\n",
       "1        8750  2013      hyundai    sonata  excellent        4      gas   \n",
       "2       10900  2013       toyota     prius       good        4   hybrid   \n",
       "5       13995  2012         ford     f-150       good        6      gas   \n",
       "6        7995  2010    chevrolet   equinox       good        4      gas   \n",
       "7        8995  2011    chevrolet  traverse       good        6      gas   \n",
       "...       ...   ...          ...       ...        ...       ...     ...   \n",
       "423823   9584  2012       toyota     camry  excellent        4      gas   \n",
       "423824   1000  2004         ford     f-150       fair        8      gas   \n",
       "423825  11750  2013        honda  civic ex  excellent        4      gas   \n",
       "423852   1600  2006      hyundai    sonata       fair        6      gas   \n",
       "423854    700  1994         ford     f-150       fair        6      gas   \n",
       "\n",
       "        odometer title_status transmission drive paint_color  \n",
       "1        90821.0        clean    automatic   fwd        grey  \n",
       "2        92800.0        clean    automatic   fwd        blue  \n",
       "5       188406.0        clean    automatic   4wd        grey  \n",
       "6       108124.0        clean    automatic   4wd        grey  \n",
       "7       178054.0        clean    automatic   4wd       white  \n",
       "...          ...          ...          ...   ...         ...  \n",
       "423823  145000.0        clean    automatic   fwd        grey  \n",
       "423824  177000.0        clean    automatic   4wd        blue  \n",
       "423825   57600.0        clean    automatic   fwd      silver  \n",
       "423852  159980.0        clean    automatic   fwd        blue  \n",
       "423854  212000.0        clean       manual   rwd       green  \n",
       "\n",
       "[36317 rows x 12 columns]"
      ],
      "text/html": "<div>\n<style scoped>\n    .dataframe tbody tr th:only-of-type {\n        vertical-align: middle;\n    }\n\n    .dataframe tbody tr th {\n        vertical-align: top;\n    }\n\n    .dataframe thead th {\n        text-align: right;\n    }\n</style>\n<table border=\"1\" class=\"dataframe\">\n  <thead>\n    <tr style=\"text-align: right;\">\n      <th></th>\n      <th>price</th>\n      <th>year</th>\n      <th>manufacturer</th>\n      <th>model</th>\n      <th>condition</th>\n      <th>cylinders</th>\n      <th>fuel</th>\n      <th>odometer</th>\n      <th>title_status</th>\n      <th>transmission</th>\n      <th>drive</th>\n      <th>paint_color</th>\n    </tr>\n  </thead>\n  <tbody>\n    <tr>\n      <th>1</th>\n      <td>8750</td>\n      <td>2013</td>\n      <td>hyundai</td>\n      <td>sonata</td>\n      <td>excellent</td>\n      <td>4</td>\n      <td>gas</td>\n      <td>90821.0</td>\n      <td>clean</td>\n      <td>automatic</td>\n      <td>fwd</td>\n      <td>grey</td>\n    </tr>\n    <tr>\n      <th>2</th>\n      <td>10900</td>\n      <td>2013</td>\n      <td>toyota</td>\n      <td>prius</td>\n      <td>good</td>\n      <td>4</td>\n      <td>hybrid</td>\n      <td>92800.0</td>\n      <td>clean</td>\n      <td>automatic</td>\n      <td>fwd</td>\n      <td>blue</td>\n    </tr>\n    <tr>\n      <th>5</th>\n      <td>13995</td>\n      <td>2012</td>\n      <td>ford</td>\n      <td>f-150</td>\n      <td>good</td>\n      <td>6</td>\n      <td>gas</td>\n      <td>188406.0</td>\n      <td>clean</td>\n      <td>automatic</td>\n      <td>4wd</td>\n      <td>grey</td>\n    </tr>\n    <tr>\n      <th>6</th>\n      <td>7995</td>\n      <td>2010</td>\n      <td>chevrolet</td>\n      <td>equinox</td>\n      <td>good</td>\n      <td>4</td>\n      <td>gas</td>\n      <td>108124.0</td>\n      <td>clean</td>\n      <td>automatic</td>\n      <td>4wd</td>\n      <td>grey</td>\n    </tr>\n    <tr>\n      <th>7</th>\n      <td>8995</td>\n      <td>2011</td>\n      <td>chevrolet</td>\n      <td>traverse</td>\n      <td>good</td>\n      <td>6</td>\n      <td>gas</td>\n      <td>178054.0</td>\n      <td>clean</td>\n      <td>automatic</td>\n      <td>4wd</td>\n      <td>white</td>\n    </tr>\n    <tr>\n      <th>...</th>\n      <td>...</td>\n      <td>...</td>\n      <td>...</td>\n      <td>...</td>\n      <td>...</td>\n      <td>...</td>\n      <td>...</td>\n      <td>...</td>\n      <td>...</td>\n      <td>...</td>\n      <td>...</td>\n      <td>...</td>\n    </tr>\n    <tr>\n      <th>423823</th>\n      <td>9584</td>\n      <td>2012</td>\n      <td>toyota</td>\n      <td>camry</td>\n      <td>excellent</td>\n      <td>4</td>\n      <td>gas</td>\n      <td>145000.0</td>\n      <td>clean</td>\n      <td>automatic</td>\n      <td>fwd</td>\n      <td>grey</td>\n    </tr>\n    <tr>\n      <th>423824</th>\n      <td>1000</td>\n      <td>2004</td>\n      <td>ford</td>\n      <td>f-150</td>\n      <td>fair</td>\n      <td>8</td>\n      <td>gas</td>\n      <td>177000.0</td>\n      <td>clean</td>\n      <td>automatic</td>\n      <td>4wd</td>\n      <td>blue</td>\n    </tr>\n    <tr>\n      <th>423825</th>\n      <td>11750</td>\n      <td>2013</td>\n      <td>honda</td>\n      <td>civic ex</td>\n      <td>excellent</td>\n      <td>4</td>\n      <td>gas</td>\n      <td>57600.0</td>\n      <td>clean</td>\n      <td>automatic</td>\n      <td>fwd</td>\n      <td>silver</td>\n    </tr>\n    <tr>\n      <th>423852</th>\n      <td>1600</td>\n      <td>2006</td>\n      <td>hyundai</td>\n      <td>sonata</td>\n      <td>fair</td>\n      <td>6</td>\n      <td>gas</td>\n      <td>159980.0</td>\n      <td>clean</td>\n      <td>automatic</td>\n      <td>fwd</td>\n      <td>blue</td>\n    </tr>\n    <tr>\n      <th>423854</th>\n      <td>700</td>\n      <td>1994</td>\n      <td>ford</td>\n      <td>f-150</td>\n      <td>fair</td>\n      <td>6</td>\n      <td>gas</td>\n      <td>212000.0</td>\n      <td>clean</td>\n      <td>manual</td>\n      <td>rwd</td>\n      <td>green</td>\n    </tr>\n  </tbody>\n</table>\n<p>36317 rows × 12 columns</p>\n</div>"
     },
     "metadata": {},
     "execution_count": 70
    }
   ],
   "source": [
    "df"
   ]
  },
  {
   "cell_type": "code",
   "execution_count": 71,
   "metadata": {},
   "outputs": [],
   "source": [
    "condition = pd.get_dummies(df['condition'])\n",
    "df = df.drop('condition',axis=1)\n",
    "df = df.join(condition)"
   ]
  },
  {
   "cell_type": "code",
   "execution_count": 72,
   "metadata": {},
   "outputs": [],
   "source": [
    "paint = pd.get_dummies(df['paint_color'])\n",
    "df = df.drop('paint_color',axis=1)\n",
    "df = df.join(paint)"
   ]
  },
  {
   "cell_type": "code",
   "execution_count": 73,
   "metadata": {},
   "outputs": [],
   "source": [
    "fuel = pd.get_dummies(df['fuel'])\n",
    "df = df.drop('fuel',axis=1)\n",
    "df = df.join(fuel)"
   ]
  },
  {
   "cell_type": "code",
   "execution_count": 74,
   "metadata": {},
   "outputs": [],
   "source": [
    "title = pd.get_dummies(df['title_status'])\n",
    "df = df.drop('title_status',axis=1)\n",
    "df = df.join(title)"
   ]
  },
  {
   "cell_type": "code",
   "execution_count": 75,
   "metadata": {},
   "outputs": [],
   "source": [
    "make = pd.get_dummies(df['manufacturer'])\n",
    "df = df.drop('manufacturer',axis=1)\n",
    "df = df.join(make)"
   ]
  },
  {
   "cell_type": "code",
   "execution_count": 76,
   "metadata": {},
   "outputs": [],
   "source": [
    "model = pd.get_dummies(df['model'])\n",
    "df = df.drop('model',axis=1)\n",
    "df = df.join(model)"
   ]
  },
  {
   "cell_type": "code",
   "execution_count": 77,
   "metadata": {},
   "outputs": [],
   "source": [
    "trans = pd.get_dummies(df['transmission'])\n",
    "df = df.drop('transmission',axis=1)\n",
    "df = df.join(trans)"
   ]
  },
  {
   "cell_type": "code",
   "execution_count": 78,
   "metadata": {},
   "outputs": [],
   "source": [
    "drive = pd.get_dummies(df['drive'])\n",
    "df = df.drop('drive',axis=1)\n",
    "df = df.join(drive)"
   ]
  },
  {
   "cell_type": "code",
   "execution_count": 79,
   "metadata": {},
   "outputs": [
    {
     "output_type": "execute_result",
     "data": {
      "text/plain": [
       "        price  year cylinders  odometer  excellent  fair  good  like new  new  \\\n",
       "1        8750  2013        4    90821.0          1     0     0         0    0   \n",
       "2       10900  2013        4    92800.0          0     0     1         0    0   \n",
       "5       13995  2012        6   188406.0          0     0     1         0    0   \n",
       "6        7995  2010        4   108124.0          0     0     1         0    0   \n",
       "7        8995  2011        6   178054.0          0     0     1         0    0   \n",
       "...       ...   ...       ...       ...        ...   ...   ...       ...  ...   \n",
       "423823   9584  2012        4   145000.0          1     0     0         0    0   \n",
       "423824   1000  2004        8   177000.0          0     1     0         0    0   \n",
       "423825  11750  2013        4    57600.0          1     0     0         0    0   \n",
       "423852   1600  2006        6   159980.0          0     1     0         0    0   \n",
       "423854    700  1994        6   212000.0          0     1     0         0    0   \n",
       "\n",
       "        black  ...  x3  x5  xterra  yukon  yukon xl  automatic  manual  4wd  \\\n",
       "1           0  ...   0   0       0      0         0          1       0    0   \n",
       "2           0  ...   0   0       0      0         0          1       0    0   \n",
       "5           0  ...   0   0       0      0         0          1       0    1   \n",
       "6           0  ...   0   0       0      0         0          1       0    1   \n",
       "7           0  ...   0   0       0      0         0          1       0    1   \n",
       "...       ...  ...  ..  ..     ...    ...       ...        ...     ...  ...   \n",
       "423823      0  ...   0   0       0      0         0          1       0    0   \n",
       "423824      0  ...   0   0       0      0         0          1       0    1   \n",
       "423825      0  ...   0   0       0      0         0          1       0    0   \n",
       "423852      0  ...   0   0       0      0         0          1       0    0   \n",
       "423854      0  ...   0   0       0      0         0          0       1    0   \n",
       "\n",
       "        fwd  rwd  \n",
       "1         1    0  \n",
       "2         1    0  \n",
       "5         0    0  \n",
       "6         0    0  \n",
       "7         0    0  \n",
       "...     ...  ...  \n",
       "423823    1    0  \n",
       "423824    0    0  \n",
       "423825    1    0  \n",
       "423852    1    0  \n",
       "423854    0    1  \n",
       "\n",
       "[36317 rows x 219 columns]"
      ],
      "text/html": "<div>\n<style scoped>\n    .dataframe tbody tr th:only-of-type {\n        vertical-align: middle;\n    }\n\n    .dataframe tbody tr th {\n        vertical-align: top;\n    }\n\n    .dataframe thead th {\n        text-align: right;\n    }\n</style>\n<table border=\"1\" class=\"dataframe\">\n  <thead>\n    <tr style=\"text-align: right;\">\n      <th></th>\n      <th>price</th>\n      <th>year</th>\n      <th>cylinders</th>\n      <th>odometer</th>\n      <th>excellent</th>\n      <th>fair</th>\n      <th>good</th>\n      <th>like new</th>\n      <th>new</th>\n      <th>black</th>\n      <th>...</th>\n      <th>x3</th>\n      <th>x5</th>\n      <th>xterra</th>\n      <th>yukon</th>\n      <th>yukon xl</th>\n      <th>automatic</th>\n      <th>manual</th>\n      <th>4wd</th>\n      <th>fwd</th>\n      <th>rwd</th>\n    </tr>\n  </thead>\n  <tbody>\n    <tr>\n      <th>1</th>\n      <td>8750</td>\n      <td>2013</td>\n      <td>4</td>\n      <td>90821.0</td>\n      <td>1</td>\n      <td>0</td>\n      <td>0</td>\n      <td>0</td>\n      <td>0</td>\n      <td>0</td>\n      <td>...</td>\n      <td>0</td>\n      <td>0</td>\n      <td>0</td>\n      <td>0</td>\n      <td>0</td>\n      <td>1</td>\n      <td>0</td>\n      <td>0</td>\n      <td>1</td>\n      <td>0</td>\n    </tr>\n    <tr>\n      <th>2</th>\n      <td>10900</td>\n      <td>2013</td>\n      <td>4</td>\n      <td>92800.0</td>\n      <td>0</td>\n      <td>0</td>\n      <td>1</td>\n      <td>0</td>\n      <td>0</td>\n      <td>0</td>\n      <td>...</td>\n      <td>0</td>\n      <td>0</td>\n      <td>0</td>\n      <td>0</td>\n      <td>0</td>\n      <td>1</td>\n      <td>0</td>\n      <td>0</td>\n      <td>1</td>\n      <td>0</td>\n    </tr>\n    <tr>\n      <th>5</th>\n      <td>13995</td>\n      <td>2012</td>\n      <td>6</td>\n      <td>188406.0</td>\n      <td>0</td>\n      <td>0</td>\n      <td>1</td>\n      <td>0</td>\n      <td>0</td>\n      <td>0</td>\n      <td>...</td>\n      <td>0</td>\n      <td>0</td>\n      <td>0</td>\n      <td>0</td>\n      <td>0</td>\n      <td>1</td>\n      <td>0</td>\n      <td>1</td>\n      <td>0</td>\n      <td>0</td>\n    </tr>\n    <tr>\n      <th>6</th>\n      <td>7995</td>\n      <td>2010</td>\n      <td>4</td>\n      <td>108124.0</td>\n      <td>0</td>\n      <td>0</td>\n      <td>1</td>\n      <td>0</td>\n      <td>0</td>\n      <td>0</td>\n      <td>...</td>\n      <td>0</td>\n      <td>0</td>\n      <td>0</td>\n      <td>0</td>\n      <td>0</td>\n      <td>1</td>\n      <td>0</td>\n      <td>1</td>\n      <td>0</td>\n      <td>0</td>\n    </tr>\n    <tr>\n      <th>7</th>\n      <td>8995</td>\n      <td>2011</td>\n      <td>6</td>\n      <td>178054.0</td>\n      <td>0</td>\n      <td>0</td>\n      <td>1</td>\n      <td>0</td>\n      <td>0</td>\n      <td>0</td>\n      <td>...</td>\n      <td>0</td>\n      <td>0</td>\n      <td>0</td>\n      <td>0</td>\n      <td>0</td>\n      <td>1</td>\n      <td>0</td>\n      <td>1</td>\n      <td>0</td>\n      <td>0</td>\n    </tr>\n    <tr>\n      <th>...</th>\n      <td>...</td>\n      <td>...</td>\n      <td>...</td>\n      <td>...</td>\n      <td>...</td>\n      <td>...</td>\n      <td>...</td>\n      <td>...</td>\n      <td>...</td>\n      <td>...</td>\n      <td>...</td>\n      <td>...</td>\n      <td>...</td>\n      <td>...</td>\n      <td>...</td>\n      <td>...</td>\n      <td>...</td>\n      <td>...</td>\n      <td>...</td>\n      <td>...</td>\n      <td>...</td>\n    </tr>\n    <tr>\n      <th>423823</th>\n      <td>9584</td>\n      <td>2012</td>\n      <td>4</td>\n      <td>145000.0</td>\n      <td>1</td>\n      <td>0</td>\n      <td>0</td>\n      <td>0</td>\n      <td>0</td>\n      <td>0</td>\n      <td>...</td>\n      <td>0</td>\n      <td>0</td>\n      <td>0</td>\n      <td>0</td>\n      <td>0</td>\n      <td>1</td>\n      <td>0</td>\n      <td>0</td>\n      <td>1</td>\n      <td>0</td>\n    </tr>\n    <tr>\n      <th>423824</th>\n      <td>1000</td>\n      <td>2004</td>\n      <td>8</td>\n      <td>177000.0</td>\n      <td>0</td>\n      <td>1</td>\n      <td>0</td>\n      <td>0</td>\n      <td>0</td>\n      <td>0</td>\n      <td>...</td>\n      <td>0</td>\n      <td>0</td>\n      <td>0</td>\n      <td>0</td>\n      <td>0</td>\n      <td>1</td>\n      <td>0</td>\n      <td>1</td>\n      <td>0</td>\n      <td>0</td>\n    </tr>\n    <tr>\n      <th>423825</th>\n      <td>11750</td>\n      <td>2013</td>\n      <td>4</td>\n      <td>57600.0</td>\n      <td>1</td>\n      <td>0</td>\n      <td>0</td>\n      <td>0</td>\n      <td>0</td>\n      <td>0</td>\n      <td>...</td>\n      <td>0</td>\n      <td>0</td>\n      <td>0</td>\n      <td>0</td>\n      <td>0</td>\n      <td>1</td>\n      <td>0</td>\n      <td>0</td>\n      <td>1</td>\n      <td>0</td>\n    </tr>\n    <tr>\n      <th>423852</th>\n      <td>1600</td>\n      <td>2006</td>\n      <td>6</td>\n      <td>159980.0</td>\n      <td>0</td>\n      <td>1</td>\n      <td>0</td>\n      <td>0</td>\n      <td>0</td>\n      <td>0</td>\n      <td>...</td>\n      <td>0</td>\n      <td>0</td>\n      <td>0</td>\n      <td>0</td>\n      <td>0</td>\n      <td>1</td>\n      <td>0</td>\n      <td>0</td>\n      <td>1</td>\n      <td>0</td>\n    </tr>\n    <tr>\n      <th>423854</th>\n      <td>700</td>\n      <td>1994</td>\n      <td>6</td>\n      <td>212000.0</td>\n      <td>0</td>\n      <td>1</td>\n      <td>0</td>\n      <td>0</td>\n      <td>0</td>\n      <td>0</td>\n      <td>...</td>\n      <td>0</td>\n      <td>0</td>\n      <td>0</td>\n      <td>0</td>\n      <td>0</td>\n      <td>0</td>\n      <td>1</td>\n      <td>0</td>\n      <td>0</td>\n      <td>1</td>\n    </tr>\n  </tbody>\n</table>\n<p>36317 rows × 219 columns</p>\n</div>"
     },
     "metadata": {},
     "execution_count": 79
    }
   ],
   "source": [
    "df"
   ]
  },
  {
   "source": [
    "## Scaling"
   ],
   "cell_type": "markdown",
   "metadata": {}
  },
  {
   "cell_type": "code",
   "execution_count": 80,
   "metadata": {},
   "outputs": [],
   "source": [
    "scl = StandardScaler()\n",
    "odo_scale = df[['odometer']]\n",
    "odo_scale = scl.fit_transform(odo_scale)\n",
    "df['odometer'] = odo_scale"
   ]
  },
  {
   "cell_type": "code",
   "execution_count": 81,
   "metadata": {},
   "outputs": [],
   "source": [
    "cyl_scale = df[['cylinders']]\n",
    "cyl_scale = scl.fit_transform(cyl_scale)\n",
    "df['cylinders'] = cyl_scale"
   ]
  },
  {
   "cell_type": "code",
   "execution_count": 82,
   "metadata": {},
   "outputs": [
    {
     "output_type": "execute_result",
     "data": {
      "text/plain": [
       "        price  year  cylinders  odometer  excellent  fair  good  like new  \\\n",
       "1        8750  2013  -1.071751 -0.228601          1     0     0         0   \n",
       "2       10900  2013  -1.071751 -0.214288          0     0     1         0   \n",
       "5       13995  2012   0.163814  0.477191          0     0     1         0   \n",
       "6        7995  2010  -1.071751 -0.103456          0     0     1         0   \n",
       "7        8995  2011   0.163814  0.402320          0     0     1         0   \n",
       "...       ...   ...        ...       ...        ...   ...   ...       ...   \n",
       "423823   9584  2012  -1.071751  0.163253          1     0     0         0   \n",
       "423824   1000  2004   1.399380  0.394696          0     1     0         0   \n",
       "423825  11750  2013  -1.071751 -0.468875          1     0     0         0   \n",
       "423852   1600  2006   0.163814  0.271598          0     1     0         0   \n",
       "423854    700  1994   0.163814  0.647837          0     1     0         0   \n",
       "\n",
       "        new  black  ...  x3  x5  xterra  yukon  yukon xl  automatic  manual  \\\n",
       "1         0      0  ...   0   0       0      0         0          1       0   \n",
       "2         0      0  ...   0   0       0      0         0          1       0   \n",
       "5         0      0  ...   0   0       0      0         0          1       0   \n",
       "6         0      0  ...   0   0       0      0         0          1       0   \n",
       "7         0      0  ...   0   0       0      0         0          1       0   \n",
       "...     ...    ...  ...  ..  ..     ...    ...       ...        ...     ...   \n",
       "423823    0      0  ...   0   0       0      0         0          1       0   \n",
       "423824    0      0  ...   0   0       0      0         0          1       0   \n",
       "423825    0      0  ...   0   0       0      0         0          1       0   \n",
       "423852    0      0  ...   0   0       0      0         0          1       0   \n",
       "423854    0      0  ...   0   0       0      0         0          0       1   \n",
       "\n",
       "        4wd  fwd  rwd  \n",
       "1         0    1    0  \n",
       "2         0    1    0  \n",
       "5         1    0    0  \n",
       "6         1    0    0  \n",
       "7         1    0    0  \n",
       "...     ...  ...  ...  \n",
       "423823    0    1    0  \n",
       "423824    1    0    0  \n",
       "423825    0    1    0  \n",
       "423852    0    1    0  \n",
       "423854    0    0    1  \n",
       "\n",
       "[36317 rows x 219 columns]"
      ],
      "text/html": "<div>\n<style scoped>\n    .dataframe tbody tr th:only-of-type {\n        vertical-align: middle;\n    }\n\n    .dataframe tbody tr th {\n        vertical-align: top;\n    }\n\n    .dataframe thead th {\n        text-align: right;\n    }\n</style>\n<table border=\"1\" class=\"dataframe\">\n  <thead>\n    <tr style=\"text-align: right;\">\n      <th></th>\n      <th>price</th>\n      <th>year</th>\n      <th>cylinders</th>\n      <th>odometer</th>\n      <th>excellent</th>\n      <th>fair</th>\n      <th>good</th>\n      <th>like new</th>\n      <th>new</th>\n      <th>black</th>\n      <th>...</th>\n      <th>x3</th>\n      <th>x5</th>\n      <th>xterra</th>\n      <th>yukon</th>\n      <th>yukon xl</th>\n      <th>automatic</th>\n      <th>manual</th>\n      <th>4wd</th>\n      <th>fwd</th>\n      <th>rwd</th>\n    </tr>\n  </thead>\n  <tbody>\n    <tr>\n      <th>1</th>\n      <td>8750</td>\n      <td>2013</td>\n      <td>-1.071751</td>\n      <td>-0.228601</td>\n      <td>1</td>\n      <td>0</td>\n      <td>0</td>\n      <td>0</td>\n      <td>0</td>\n      <td>0</td>\n      <td>...</td>\n      <td>0</td>\n      <td>0</td>\n      <td>0</td>\n      <td>0</td>\n      <td>0</td>\n      <td>1</td>\n      <td>0</td>\n      <td>0</td>\n      <td>1</td>\n      <td>0</td>\n    </tr>\n    <tr>\n      <th>2</th>\n      <td>10900</td>\n      <td>2013</td>\n      <td>-1.071751</td>\n      <td>-0.214288</td>\n      <td>0</td>\n      <td>0</td>\n      <td>1</td>\n      <td>0</td>\n      <td>0</td>\n      <td>0</td>\n      <td>...</td>\n      <td>0</td>\n      <td>0</td>\n      <td>0</td>\n      <td>0</td>\n      <td>0</td>\n      <td>1</td>\n      <td>0</td>\n      <td>0</td>\n      <td>1</td>\n      <td>0</td>\n    </tr>\n    <tr>\n      <th>5</th>\n      <td>13995</td>\n      <td>2012</td>\n      <td>0.163814</td>\n      <td>0.477191</td>\n      <td>0</td>\n      <td>0</td>\n      <td>1</td>\n      <td>0</td>\n      <td>0</td>\n      <td>0</td>\n      <td>...</td>\n      <td>0</td>\n      <td>0</td>\n      <td>0</td>\n      <td>0</td>\n      <td>0</td>\n      <td>1</td>\n      <td>0</td>\n      <td>1</td>\n      <td>0</td>\n      <td>0</td>\n    </tr>\n    <tr>\n      <th>6</th>\n      <td>7995</td>\n      <td>2010</td>\n      <td>-1.071751</td>\n      <td>-0.103456</td>\n      <td>0</td>\n      <td>0</td>\n      <td>1</td>\n      <td>0</td>\n      <td>0</td>\n      <td>0</td>\n      <td>...</td>\n      <td>0</td>\n      <td>0</td>\n      <td>0</td>\n      <td>0</td>\n      <td>0</td>\n      <td>1</td>\n      <td>0</td>\n      <td>1</td>\n      <td>0</td>\n      <td>0</td>\n    </tr>\n    <tr>\n      <th>7</th>\n      <td>8995</td>\n      <td>2011</td>\n      <td>0.163814</td>\n      <td>0.402320</td>\n      <td>0</td>\n      <td>0</td>\n      <td>1</td>\n      <td>0</td>\n      <td>0</td>\n      <td>0</td>\n      <td>...</td>\n      <td>0</td>\n      <td>0</td>\n      <td>0</td>\n      <td>0</td>\n      <td>0</td>\n      <td>1</td>\n      <td>0</td>\n      <td>1</td>\n      <td>0</td>\n      <td>0</td>\n    </tr>\n    <tr>\n      <th>...</th>\n      <td>...</td>\n      <td>...</td>\n      <td>...</td>\n      <td>...</td>\n      <td>...</td>\n      <td>...</td>\n      <td>...</td>\n      <td>...</td>\n      <td>...</td>\n      <td>...</td>\n      <td>...</td>\n      <td>...</td>\n      <td>...</td>\n      <td>...</td>\n      <td>...</td>\n      <td>...</td>\n      <td>...</td>\n      <td>...</td>\n      <td>...</td>\n      <td>...</td>\n      <td>...</td>\n    </tr>\n    <tr>\n      <th>423823</th>\n      <td>9584</td>\n      <td>2012</td>\n      <td>-1.071751</td>\n      <td>0.163253</td>\n      <td>1</td>\n      <td>0</td>\n      <td>0</td>\n      <td>0</td>\n      <td>0</td>\n      <td>0</td>\n      <td>...</td>\n      <td>0</td>\n      <td>0</td>\n      <td>0</td>\n      <td>0</td>\n      <td>0</td>\n      <td>1</td>\n      <td>0</td>\n      <td>0</td>\n      <td>1</td>\n      <td>0</td>\n    </tr>\n    <tr>\n      <th>423824</th>\n      <td>1000</td>\n      <td>2004</td>\n      <td>1.399380</td>\n      <td>0.394696</td>\n      <td>0</td>\n      <td>1</td>\n      <td>0</td>\n      <td>0</td>\n      <td>0</td>\n      <td>0</td>\n      <td>...</td>\n      <td>0</td>\n      <td>0</td>\n      <td>0</td>\n      <td>0</td>\n      <td>0</td>\n      <td>1</td>\n      <td>0</td>\n      <td>1</td>\n      <td>0</td>\n      <td>0</td>\n    </tr>\n    <tr>\n      <th>423825</th>\n      <td>11750</td>\n      <td>2013</td>\n      <td>-1.071751</td>\n      <td>-0.468875</td>\n      <td>1</td>\n      <td>0</td>\n      <td>0</td>\n      <td>0</td>\n      <td>0</td>\n      <td>0</td>\n      <td>...</td>\n      <td>0</td>\n      <td>0</td>\n      <td>0</td>\n      <td>0</td>\n      <td>0</td>\n      <td>1</td>\n      <td>0</td>\n      <td>0</td>\n      <td>1</td>\n      <td>0</td>\n    </tr>\n    <tr>\n      <th>423852</th>\n      <td>1600</td>\n      <td>2006</td>\n      <td>0.163814</td>\n      <td>0.271598</td>\n      <td>0</td>\n      <td>1</td>\n      <td>0</td>\n      <td>0</td>\n      <td>0</td>\n      <td>0</td>\n      <td>...</td>\n      <td>0</td>\n      <td>0</td>\n      <td>0</td>\n      <td>0</td>\n      <td>0</td>\n      <td>1</td>\n      <td>0</td>\n      <td>0</td>\n      <td>1</td>\n      <td>0</td>\n    </tr>\n    <tr>\n      <th>423854</th>\n      <td>700</td>\n      <td>1994</td>\n      <td>0.163814</td>\n      <td>0.647837</td>\n      <td>0</td>\n      <td>1</td>\n      <td>0</td>\n      <td>0</td>\n      <td>0</td>\n      <td>0</td>\n      <td>...</td>\n      <td>0</td>\n      <td>0</td>\n      <td>0</td>\n      <td>0</td>\n      <td>0</td>\n      <td>0</td>\n      <td>1</td>\n      <td>0</td>\n      <td>0</td>\n      <td>1</td>\n    </tr>\n  </tbody>\n</table>\n<p>36317 rows × 219 columns</p>\n</div>"
     },
     "metadata": {},
     "execution_count": 82
    }
   ],
   "source": [
    "df"
   ]
  },
  {
   "source": [
    "## Splitting Target"
   ],
   "cell_type": "markdown",
   "metadata": {}
  },
  {
   "cell_type": "code",
   "execution_count": 83,
   "metadata": {},
   "outputs": [],
   "source": [
    "y = df[['price']]\n",
    "X = df.drop(columns=['price'])"
   ]
  },
  {
   "source": [
    "## Train/Test Split"
   ],
   "cell_type": "markdown",
   "metadata": {}
  },
  {
   "cell_type": "code",
   "execution_count": 84,
   "metadata": {},
   "outputs": [],
   "source": [
    "train, test, train_y, test_y = train_test_split(X, y, test_size=0.2, random_state=42)"
   ]
  },
  {
   "cell_type": "code",
   "execution_count": 85,
   "metadata": {},
   "outputs": [
    {
     "output_type": "stream",
     "name": "stdout",
     "text": [
      "(29053, 218)\n(29053, 1)\n(7264, 218)\n(7264, 1)\n"
     ]
    }
   ],
   "source": [
    "print(train.shape)\n",
    "print(train_y.shape)\n",
    "print(test.shape)\n",
    "print(test_y.shape)"
   ]
  },
  {
   "source": [
    "## Model 1"
   ],
   "cell_type": "markdown",
   "metadata": {}
  },
  {
   "cell_type": "code",
   "execution_count": 86,
   "metadata": {},
   "outputs": [
    {
     "output_type": "execute_result",
     "data": {
      "text/plain": [
       "LinearRegression()"
      ]
     },
     "metadata": {},
     "execution_count": 86
    }
   ],
   "source": [
    "lin_reg = LinearRegression()\n",
    "lin_reg.fit(train, train_y)"
   ]
  },
  {
   "cell_type": "code",
   "execution_count": 87,
   "metadata": {},
   "outputs": [
    {
     "output_type": "execute_result",
     "data": {
      "text/plain": [
       "5420.980512595291"
      ]
     },
     "metadata": {},
     "execution_count": 87
    }
   ],
   "source": [
    "predictions = lin_reg.predict(train)\n",
    "lin_mse = mean_squared_error(train_y, predictions)\n",
    "lin_rmse = np.sqrt(lin_mse)\n",
    "lin_rmse"
   ]
  },
  {
   "cell_type": "code",
   "execution_count": 88,
   "metadata": {},
   "outputs": [
    {
     "output_type": "execute_result",
     "data": {
      "text/plain": [
       "0.625656871393679"
      ]
     },
     "metadata": {},
     "execution_count": 88
    }
   ],
   "source": [
    "lin_reg.score(train, train_y)"
   ]
  },
  {
   "source": [
    "## Model 2"
   ],
   "cell_type": "markdown",
   "metadata": {}
  },
  {
   "cell_type": "code",
   "execution_count": 89,
   "metadata": {},
   "outputs": [
    {
     "output_type": "execute_result",
     "data": {
      "text/plain": [
       "DecisionTreeRegressor()"
      ]
     },
     "metadata": {},
     "execution_count": 89
    }
   ],
   "source": [
    "tree_reg = DecisionTreeRegressor()\n",
    "tree_reg.fit(train, train_y)"
   ]
  },
  {
   "cell_type": "code",
   "execution_count": 90,
   "metadata": {},
   "outputs": [
    {
     "output_type": "execute_result",
     "data": {
      "text/plain": [
       "0.9967437266932734"
      ]
     },
     "metadata": {},
     "execution_count": 90
    }
   ],
   "source": [
    "tree_reg.score(train, train_y)"
   ]
  },
  {
   "cell_type": "code",
   "execution_count": 91,
   "metadata": {},
   "outputs": [
    {
     "output_type": "execute_result",
     "data": {
      "text/plain": [
       "0.845564470006375"
      ]
     },
     "metadata": {},
     "execution_count": 91
    }
   ],
   "source": [
    "tree_reg.score(test, test_y)"
   ]
  },
  {
   "cell_type": "code",
   "execution_count": 92,
   "metadata": {},
   "outputs": [
    {
     "output_type": "execute_result",
     "data": {
      "text/plain": [
       "505.59566052944575"
      ]
     },
     "metadata": {},
     "execution_count": 92
    }
   ],
   "source": [
    "predictions = tree_reg.predict(train)\n",
    "lin_mse = mean_squared_error(train_y, predictions)\n",
    "lin_rmse = np.sqrt(lin_mse)\n",
    "lin_rmse"
   ]
  },
  {
   "source": [
    "## Model 3"
   ],
   "cell_type": "markdown",
   "metadata": {}
  },
  {
   "cell_type": "code",
   "execution_count": 93,
   "metadata": {},
   "outputs": [
    {
     "output_type": "execute_result",
     "data": {
      "text/plain": [
       "RandomForestClassifier(max_depth=12, random_state=42)"
      ]
     },
     "metadata": {},
     "execution_count": 93
    }
   ],
   "source": [
    "clf = RandomForestClassifier(max_depth=12, random_state=42)\n",
    "clf.fit(train, train_y)"
   ]
  },
  {
   "cell_type": "code",
   "execution_count": 94,
   "metadata": {},
   "outputs": [
    {
     "output_type": "execute_result",
     "data": {
      "text/plain": [
       "0.3959315733314976"
      ]
     },
     "metadata": {},
     "execution_count": 94
    }
   ],
   "source": [
    "clf.score(train, train_y)"
   ]
  },
  {
   "source": [
    "Model 2 using a Decision Tree Regressor, seems to have had the best reults. Now I will try to fine tune this model and get better results. "
   ],
   "cell_type": "markdown",
   "metadata": {}
  },
  {
   "source": [
    "## Grid Search"
   ],
   "cell_type": "markdown",
   "metadata": {}
  },
  {
   "cell_type": "code",
   "execution_count": 95,
   "metadata": {},
   "outputs": [],
   "source": [
    "param_grid = {   \n",
    "        'max_depth': [16, 32, 64],     \n",
    "        'min_samples_split': [5, 10, 15],\n",
    "        'min_samples_leaf' : [1, 2, 3], \n",
    "}\n",
    "grid_search = GridSearchCV(tree_reg, param_grid, cv=5, scoring='neg_mean_squared_error')\n",
    "grid_search.fit(train, train_y)\n",
    "final_model = grid_search.best_estimator_"
   ]
  },
  {
   "cell_type": "code",
   "execution_count": 96,
   "metadata": {},
   "outputs": [
    {
     "output_type": "execute_result",
     "data": {
      "text/plain": [
       "DecisionTreeRegressor(max_depth=32, min_samples_leaf=2, min_samples_split=15)"
      ]
     },
     "metadata": {},
     "execution_count": 96
    }
   ],
   "source": [
    "final_model"
   ]
  },
  {
   "cell_type": "code",
   "execution_count": 97,
   "metadata": {},
   "outputs": [
    {
     "output_type": "execute_result",
     "data": {
      "text/plain": [
       "0.850873700687546"
      ]
     },
     "metadata": {},
     "execution_count": 97
    }
   ],
   "source": [
    "final_model.score(test, test_y)"
   ]
  },
  {
   "cell_type": "code",
   "execution_count": 98,
   "metadata": {},
   "outputs": [],
   "source": [
    "scores = cross_val_score(final_model, test, test_y,\n",
    "                         scoring=\"neg_mean_squared_error\", cv=10)\n",
    "clf_rmse_scores = np.sqrt(-scores)"
   ]
  },
  {
   "cell_type": "code",
   "execution_count": 99,
   "metadata": {},
   "outputs": [],
   "source": [
    "def display_scores(scores):\n",
    "    print(\"Scores:\", scores)\n",
    "    print(\"Mean:\", scores.mean())\n",
    "    print(\"Standard deviation:\", scores.std())"
   ]
  },
  {
   "cell_type": "code",
   "execution_count": 100,
   "metadata": {},
   "outputs": [
    {
     "output_type": "stream",
     "name": "stdout",
     "text": [
      "Scores: [4433.88805934 4226.49209585 4271.6402489  4316.20419788 4248.78603207\n 4458.72230499 4452.71161883 4482.97362977 4502.1960544  3922.75140215]\nMean: 4331.636564417373\nStandard deviation: 167.9890267721334\n"
     ]
    }
   ],
   "source": [
    "display_scores(clf_rmse_scores)"
   ]
  },
  {
   "source": [
    "## Random Search"
   ],
   "cell_type": "markdown",
   "metadata": {}
  },
  {
   "cell_type": "code",
   "execution_count": 101,
   "metadata": {},
   "outputs": [
    {
     "output_type": "execute_result",
     "data": {
      "text/plain": [
       "RandomizedSearchCV(cv=5, estimator=DecisionTreeRegressor(random_state=42),\n",
       "                   param_distributions={'max_depth': <scipy.stats._distn_infrastructure.rv_frozen object at 0x000001B2409A7730>,\n",
       "                                        'min_samples_leaf': <scipy.stats._distn_infrastructure.rv_frozen object at 0x000001B2407DEB20>,\n",
       "                                        'min_samples_split': <scipy.stats._distn_infrastructure.rv_frozen object at 0x000001B2407E4970>},\n",
       "                   random_state=42)"
      ]
     },
     "metadata": {},
     "execution_count": 101
    }
   ],
   "source": [
    "param_distribs = {\n",
    "        'max_depth': randint(low=1, high=200),\n",
    "        'min_samples_split': randint(low=1, high=8),\n",
    "        'min_samples_leaf' : randint(low=1, high=8)\n",
    "    }\n",
    "\n",
    "tree_reg = DecisionTreeRegressor(random_state=42)\n",
    "rnd_search = RandomizedSearchCV(tree_reg, param_distributions=param_distribs,\n",
    "                                n_iter=10, cv=5, random_state=42)\n",
    "rnd_search.fit(train, train_y)"
   ]
  },
  {
   "cell_type": "code",
   "execution_count": 102,
   "metadata": {},
   "outputs": [
    {
     "output_type": "execute_result",
     "data": {
      "text/plain": [
       "0.8356933136105672"
      ]
     },
     "metadata": {},
     "execution_count": 102
    }
   ],
   "source": [
    "rnd_search.score(test, test_y)"
   ]
  },
  {
   "cell_type": "code",
   "execution_count": 103,
   "metadata": {},
   "outputs": [
    {
     "output_type": "execute_result",
     "data": {
      "text/plain": [
       "DecisionTreeRegressor(max_depth=15, min_samples_leaf=3, min_samples_split=5,\n",
       "                      random_state=42)"
      ]
     },
     "metadata": {},
     "execution_count": 103
    }
   ],
   "source": [
    "rnd_search.best_estimator_"
   ]
  },
  {
   "source": [
    "## Throw it all together into a pipeline"
   ],
   "cell_type": "markdown",
   "metadata": {}
  },
  {
   "cell_type": "code",
   "execution_count": 104,
   "metadata": {},
   "outputs": [],
   "source": [
    "numeric_features = ['odometer', 'cylinders']\n",
    "numeric_transformer = Pipeline(steps=[\n",
    "    ('imputer', SimpleImputer(strategy='median')),\n",
    "    ('scaler', StandardScaler())])"
   ]
  },
  {
   "cell_type": "code",
   "execution_count": 105,
   "metadata": {},
   "outputs": [],
   "source": [
    "categorical_features = ['manufacturer', 'model', 'condition', 'fuel', 'title_status', 'transmission', 'drive', 'paint_color']\n",
    "categorical_transformer = Pipeline(steps=[\n",
    "    ('imputer', SimpleImputer(strategy='constant', fill_value='missing')),\n",
    "    ('onehot', OneHotEncoder())])"
   ]
  },
  {
   "cell_type": "code",
   "execution_count": 118,
   "metadata": {},
   "outputs": [],
   "source": [
    "preprocessor = ColumnTransformer(\n",
    "    transformers=[\n",
    "        ('num', numeric_transformer, numeric_features),\n",
    "        ('cat', categorical_transformer, categorical_features)])"
   ]
  },
  {
   "cell_type": "code",
   "execution_count": 119,
   "metadata": {},
   "outputs": [],
   "source": [
    "clf = Pipeline(steps=[('preprocessor', preprocessor),\n",
    "                      ('classifier', DecisionTreeRegressor(max_depth=32, min_samples_leaf=2, min_samples_split=15,\n",
    "                      random_state=42))])"
   ]
  },
  {
   "source": [
    "## Grab clean data from the pickle file"
   ],
   "cell_type": "markdown",
   "metadata": {}
  },
  {
   "cell_type": "code",
   "execution_count": 108,
   "metadata": {},
   "outputs": [],
   "source": [
    "file = open('Data/vehicles_new', 'rb')\n",
    "data = pk.load(file)\n",
    "file.close()"
   ]
  },
  {
   "cell_type": "code",
   "execution_count": 109,
   "metadata": {},
   "outputs": [
    {
     "output_type": "execute_result",
     "data": {
      "text/plain": [
       "        price  year manufacturer     model  condition cylinders    fuel  \\\n",
       "1        8750  2013      hyundai    sonata  excellent        4      gas   \n",
       "2       10900  2013       toyota     prius       good        4   hybrid   \n",
       "5       13995  2012         ford     f-150       good        6      gas   \n",
       "6        7995  2010    chevrolet   equinox       good        4      gas   \n",
       "7        8995  2011    chevrolet  traverse       good        6      gas   \n",
       "...       ...   ...          ...       ...        ...       ...     ...   \n",
       "423823   9584  2012       toyota     camry  excellent        4      gas   \n",
       "423824   1000  2004         ford     f-150       fair        8      gas   \n",
       "423825  11750  2013        honda  civic ex  excellent        4      gas   \n",
       "423852   1600  2006      hyundai    sonata       fair        6      gas   \n",
       "423854    700  1994         ford     f-150       fair        6      gas   \n",
       "\n",
       "        odometer title_status transmission drive paint_color  \n",
       "1        90821.0        clean    automatic   fwd        grey  \n",
       "2        92800.0        clean    automatic   fwd        blue  \n",
       "5       188406.0        clean    automatic   4wd        grey  \n",
       "6       108124.0        clean    automatic   4wd        grey  \n",
       "7       178054.0        clean    automatic   4wd       white  \n",
       "...          ...          ...          ...   ...         ...  \n",
       "423823  145000.0        clean    automatic   fwd        grey  \n",
       "423824  177000.0        clean    automatic   4wd        blue  \n",
       "423825   57600.0        clean    automatic   fwd      silver  \n",
       "423852  159980.0        clean    automatic   fwd        blue  \n",
       "423854  212000.0        clean       manual   rwd       green  \n",
       "\n",
       "[36317 rows x 12 columns]"
      ],
      "text/html": "<div>\n<style scoped>\n    .dataframe tbody tr th:only-of-type {\n        vertical-align: middle;\n    }\n\n    .dataframe tbody tr th {\n        vertical-align: top;\n    }\n\n    .dataframe thead th {\n        text-align: right;\n    }\n</style>\n<table border=\"1\" class=\"dataframe\">\n  <thead>\n    <tr style=\"text-align: right;\">\n      <th></th>\n      <th>price</th>\n      <th>year</th>\n      <th>manufacturer</th>\n      <th>model</th>\n      <th>condition</th>\n      <th>cylinders</th>\n      <th>fuel</th>\n      <th>odometer</th>\n      <th>title_status</th>\n      <th>transmission</th>\n      <th>drive</th>\n      <th>paint_color</th>\n    </tr>\n  </thead>\n  <tbody>\n    <tr>\n      <th>1</th>\n      <td>8750</td>\n      <td>2013</td>\n      <td>hyundai</td>\n      <td>sonata</td>\n      <td>excellent</td>\n      <td>4</td>\n      <td>gas</td>\n      <td>90821.0</td>\n      <td>clean</td>\n      <td>automatic</td>\n      <td>fwd</td>\n      <td>grey</td>\n    </tr>\n    <tr>\n      <th>2</th>\n      <td>10900</td>\n      <td>2013</td>\n      <td>toyota</td>\n      <td>prius</td>\n      <td>good</td>\n      <td>4</td>\n      <td>hybrid</td>\n      <td>92800.0</td>\n      <td>clean</td>\n      <td>automatic</td>\n      <td>fwd</td>\n      <td>blue</td>\n    </tr>\n    <tr>\n      <th>5</th>\n      <td>13995</td>\n      <td>2012</td>\n      <td>ford</td>\n      <td>f-150</td>\n      <td>good</td>\n      <td>6</td>\n      <td>gas</td>\n      <td>188406.0</td>\n      <td>clean</td>\n      <td>automatic</td>\n      <td>4wd</td>\n      <td>grey</td>\n    </tr>\n    <tr>\n      <th>6</th>\n      <td>7995</td>\n      <td>2010</td>\n      <td>chevrolet</td>\n      <td>equinox</td>\n      <td>good</td>\n      <td>4</td>\n      <td>gas</td>\n      <td>108124.0</td>\n      <td>clean</td>\n      <td>automatic</td>\n      <td>4wd</td>\n      <td>grey</td>\n    </tr>\n    <tr>\n      <th>7</th>\n      <td>8995</td>\n      <td>2011</td>\n      <td>chevrolet</td>\n      <td>traverse</td>\n      <td>good</td>\n      <td>6</td>\n      <td>gas</td>\n      <td>178054.0</td>\n      <td>clean</td>\n      <td>automatic</td>\n      <td>4wd</td>\n      <td>white</td>\n    </tr>\n    <tr>\n      <th>...</th>\n      <td>...</td>\n      <td>...</td>\n      <td>...</td>\n      <td>...</td>\n      <td>...</td>\n      <td>...</td>\n      <td>...</td>\n      <td>...</td>\n      <td>...</td>\n      <td>...</td>\n      <td>...</td>\n      <td>...</td>\n    </tr>\n    <tr>\n      <th>423823</th>\n      <td>9584</td>\n      <td>2012</td>\n      <td>toyota</td>\n      <td>camry</td>\n      <td>excellent</td>\n      <td>4</td>\n      <td>gas</td>\n      <td>145000.0</td>\n      <td>clean</td>\n      <td>automatic</td>\n      <td>fwd</td>\n      <td>grey</td>\n    </tr>\n    <tr>\n      <th>423824</th>\n      <td>1000</td>\n      <td>2004</td>\n      <td>ford</td>\n      <td>f-150</td>\n      <td>fair</td>\n      <td>8</td>\n      <td>gas</td>\n      <td>177000.0</td>\n      <td>clean</td>\n      <td>automatic</td>\n      <td>4wd</td>\n      <td>blue</td>\n    </tr>\n    <tr>\n      <th>423825</th>\n      <td>11750</td>\n      <td>2013</td>\n      <td>honda</td>\n      <td>civic ex</td>\n      <td>excellent</td>\n      <td>4</td>\n      <td>gas</td>\n      <td>57600.0</td>\n      <td>clean</td>\n      <td>automatic</td>\n      <td>fwd</td>\n      <td>silver</td>\n    </tr>\n    <tr>\n      <th>423852</th>\n      <td>1600</td>\n      <td>2006</td>\n      <td>hyundai</td>\n      <td>sonata</td>\n      <td>fair</td>\n      <td>6</td>\n      <td>gas</td>\n      <td>159980.0</td>\n      <td>clean</td>\n      <td>automatic</td>\n      <td>fwd</td>\n      <td>blue</td>\n    </tr>\n    <tr>\n      <th>423854</th>\n      <td>700</td>\n      <td>1994</td>\n      <td>ford</td>\n      <td>f-150</td>\n      <td>fair</td>\n      <td>6</td>\n      <td>gas</td>\n      <td>212000.0</td>\n      <td>clean</td>\n      <td>manual</td>\n      <td>rwd</td>\n      <td>green</td>\n    </tr>\n  </tbody>\n</table>\n<p>36317 rows × 12 columns</p>\n</div>"
     },
     "metadata": {},
     "execution_count": 109
    }
   ],
   "source": [
    "data"
   ]
  },
  {
   "cell_type": "code",
   "execution_count": 110,
   "metadata": {},
   "outputs": [],
   "source": [
    "y = data[['price']]\n",
    "X = data.drop(columns=['price'])"
   ]
  },
  {
   "cell_type": "code",
   "execution_count": 111,
   "metadata": {},
   "outputs": [],
   "source": [
    "train, test, train_y, test_y = train_test_split(X, y, test_size=0.2, random_state=42)"
   ]
  },
  {
   "cell_type": "code",
   "execution_count": 120,
   "metadata": {},
   "outputs": [
    {
     "output_type": "execute_result",
     "data": {
      "text/plain": [
       "Pipeline(steps=[('preprocessor',\n",
       "                 ColumnTransformer(transformers=[('num',\n",
       "                                                  Pipeline(steps=[('imputer',\n",
       "                                                                   SimpleImputer(strategy='median')),\n",
       "                                                                  ('scaler',\n",
       "                                                                   MinMaxScaler())]),\n",
       "                                                  ['odometer', 'cylinders']),\n",
       "                                                 ('cat',\n",
       "                                                  Pipeline(steps=[('imputer',\n",
       "                                                                   SimpleImputer(fill_value='missing',\n",
       "                                                                                 strategy='constant')),\n",
       "                                                                  ('onehot',\n",
       "                                                                   OneHotEncoder())]),\n",
       "                                                  ['manufacturer', 'model',\n",
       "                                                   'condition', 'fuel',\n",
       "                                                   'title_status',\n",
       "                                                   'transmission', 'drive',\n",
       "                                                   'paint_color'])])),\n",
       "                ('classifier',\n",
       "                 DecisionTreeRegressor(max_depth=32, min_samples_leaf=2,\n",
       "                                       min_samples_split=15,\n",
       "                                       random_state=42))])"
      ]
     },
     "metadata": {},
     "execution_count": 120
    }
   ],
   "source": [
    "clf.fit(train, train_y)"
   ]
  },
  {
   "cell_type": "code",
   "execution_count": 121,
   "metadata": {},
   "outputs": [
    {
     "output_type": "execute_result",
     "data": {
      "text/plain": [
       "0.8728292777429425"
      ]
     },
     "metadata": {},
     "execution_count": 121
    }
   ],
   "source": [
    "clf.score(train,train_y)"
   ]
  },
  {
   "cell_type": "code",
   "execution_count": 122,
   "metadata": {},
   "outputs": [
    {
     "output_type": "execute_result",
     "data": {
      "text/plain": [
       "0.7134572842715283"
      ]
     },
     "metadata": {},
     "execution_count": 122
    }
   ],
   "source": [
    "clf.score(test,test_y)"
   ]
  },
  {
   "cell_type": "code",
   "execution_count": 115,
   "metadata": {},
   "outputs": [],
   "source": [
    "scores = cross_val_score(clf, train, train_y,\n",
    "                         scoring=\"neg_mean_squared_error\", cv=10)\n",
    "clf_rmse_scores = np.sqrt(-scores)"
   ]
  },
  {
   "cell_type": "code",
   "execution_count": 116,
   "metadata": {},
   "outputs": [
    {
     "output_type": "stream",
     "name": "stdout",
     "text": [
      "Scores: [4946.00717097 5117.67314542 4795.67320131 5122.21472662 5047.08115023\n 4822.5015245  4938.80748139 4861.83120753 5069.2617497  5122.95291804]\nMean: 4984.400427571452\nStandard deviation: 121.44410289962335\n"
     ]
    }
   ],
   "source": [
    "display_scores(clf_rmse_scores)"
   ]
  },
  {
   "cell_type": "code",
   "execution_count": null,
   "metadata": {},
   "outputs": [],
   "source": []
  }
 ]
}