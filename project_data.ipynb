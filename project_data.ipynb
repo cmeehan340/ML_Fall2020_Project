{
 "metadata": {
  "language_info": {
   "codemirror_mode": {
    "name": "ipython",
    "version": 3
   },
   "file_extension": ".py",
   "mimetype": "text/x-python",
   "name": "python",
   "nbconvert_exporter": "python",
   "pygments_lexer": "ipython3",
   "version": "3.8.3-final"
  },
  "orig_nbformat": 2,
  "kernelspec": {
   "name": "python3",
   "display_name": "Python 3"
  }
 },
 "nbformat": 4,
 "nbformat_minor": 2,
 "cells": [
  {
   "cell_type": "code",
   "execution_count": 2,
   "metadata": {},
   "outputs": [],
   "source": [
    "import numpy as np\n",
    "import pandas as pd\n",
    "import matplotlib.pyplot as plt\n",
    "import seaborn as sns\n",
    "import pickle as pk"
   ]
  },
  {
   "cell_type": "code",
   "execution_count": 3,
   "metadata": {},
   "outputs": [],
   "source": [
    "df = pd.read_csv('Data/vehicles.csv')"
   ]
  },
  {
   "cell_type": "code",
   "execution_count": 4,
   "metadata": {},
   "outputs": [
    {
     "output_type": "execute_result",
     "data": {
      "text/plain": [
       "                id                                                url  \\\n",
       "0       7184791621  https://duluth.craigslist.org/ctd/d/duluth-200...   \n",
       "1       7184773187  https://duluth.craigslist.org/cto/d/saginaw-20...   \n",
       "2       7193375964  https://newhaven.craigslist.org/cto/d/stratfor...   \n",
       "3       7195108810  https://albuquerque.craigslist.org/cto/d/albuq...   \n",
       "4       7184712241  https://duluth.craigslist.org/ctd/d/rush-city-...   \n",
       "...            ...                                                ...   \n",
       "423852  7184919761  https://duluth.craigslist.org/cto/d/duluth-200...   \n",
       "423853  7184844576  https://duluth.craigslist.org/cto/d/duluth-200...   \n",
       "423854  7184805809  https://duluth.craigslist.org/cto/d/duluth-94-...   \n",
       "423855  7184791927  https://duluth.craigslist.org/ctd/d/duluth-199...   \n",
       "423856  7195109037  https://albuquerque.craigslist.org/ctd/d/albuq...   \n",
       "\n",
       "                   region                          region_url  price    year  \\\n",
       "0       duluth / superior       https://duluth.craigslist.org   6995  2000.0   \n",
       "1       duluth / superior       https://duluth.craigslist.org   8750  2013.0   \n",
       "2               new haven     https://newhaven.craigslist.org  10900  2013.0   \n",
       "3             albuquerque  https://albuquerque.craigslist.org  12500  2003.0   \n",
       "4       duluth / superior       https://duluth.craigslist.org  16995  2007.0   \n",
       "...                   ...                                 ...    ...     ...   \n",
       "423852  duluth / superior       https://duluth.craigslist.org   1600  2006.0   \n",
       "423853  duluth / superior       https://duluth.craigslist.org   9000  2003.0   \n",
       "423854  duluth / superior       https://duluth.craigslist.org    700  1994.0   \n",
       "423855  duluth / superior       https://duluth.craigslist.org   3800  1999.0   \n",
       "423856        albuquerque  https://albuquerque.craigslist.org   8650  2015.0   \n",
       "\n",
       "       manufacturer                  model  condition    cylinders  ... drive  \\\n",
       "0               gmc        new sierra 1500  excellent  8 cylinders  ...   4wd   \n",
       "1           hyundai                 sonata  excellent  4 cylinders  ...   fwd   \n",
       "2            toyota                  prius       good  4 cylinders  ...   fwd   \n",
       "3        mitsubishi                 lancer       good  4 cylinders  ...   4wd   \n",
       "4               gmc  sierra classic 2500hd       good  8 cylinders  ...   4wd   \n",
       "...             ...                    ...        ...          ...  ...   ...   \n",
       "423852      hyundai                 sonata       fair  6 cylinders  ...   fwd   \n",
       "423853       toyota        sequoia limited  excellent  8 cylinders  ...   4wd   \n",
       "423854         ford                  f-150       fair  6 cylinders  ...   rwd   \n",
       "423855      lincoln               town car  excellent  8 cylinders  ...   rwd   \n",
       "423856       nissan                  versa        NaN          NaN  ...   fwd   \n",
       "\n",
       "             size   type paint_color  \\\n",
       "0             NaN    NaN         red   \n",
       "1             NaN    NaN        grey   \n",
       "2             NaN    NaN        blue   \n",
       "3        mid-size  sedan        grey   \n",
       "4       full-size  truck       white   \n",
       "...           ...    ...         ...   \n",
       "423852        NaN  sedan        blue   \n",
       "423853  full-size    SUV       green   \n",
       "423854        NaN    NaN       green   \n",
       "423855        NaN  sedan         NaN   \n",
       "423856    compact  sedan      silver   \n",
       "\n",
       "                                                image_url  \\\n",
       "0       https://images.craigslist.org/00n0n_f06ykBMcdh...   \n",
       "1       https://images.craigslist.org/00d0d_kgZ6xoeRw2...   \n",
       "2       https://images.craigslist.org/00d0d_3sHGxPbY2O...   \n",
       "3       https://images.craigslist.org/00m0m_4a8Pb6JbMG...   \n",
       "4       https://images.craigslist.org/01414_g093aPtSMW...   \n",
       "...                                                   ...   \n",
       "423852  https://images.craigslist.org/00E0E_8o5RKLUz3o...   \n",
       "423853  https://images.craigslist.org/00G0G_BT0Ha3X736...   \n",
       "423854  https://images.craigslist.org/00L0L_2MgECwYWhp...   \n",
       "423855  https://images.craigslist.org/00q0q_6msyGUIqK3...   \n",
       "423856  https://images.craigslist.org/00e0e_aTHizIb1II...   \n",
       "\n",
       "                                              description county state  \\\n",
       "0       2000 *** GMC New Sierra 1500 Ext Cab 157.5  WB...    NaN    mn   \n",
       "1       For Sale:  2013 Hyundai Sonata GLS - $8750.  O...    NaN    mn   \n",
       "2       2013 Prius V Model Two. One owner—must sell my...    NaN    ct   \n",
       "3       2003 Mitsubishi Lancer Evolution, silver.  Abo...    NaN    nm   \n",
       "4       **Bad Credit, No Credit... No Problem!**2007 G...    NaN    mn   \n",
       "...                                                   ...    ...   ...   \n",
       "423852  Motor runs and drives good. Transmission shift...    NaN    mn   \n",
       "423853  2 owner 0 rust not from here... Leather ,roof ...    NaN    mn   \n",
       "423854  I'm selling this beautiful old pickup that I j...    NaN    mn   \n",
       "423855  1999 *** Lincoln Town Car 4dr Sdn Signature Se...    NaN    mn   \n",
       "423856  2015 Nissan Versa S     Offered by: Southwest ...    NaN    nm   \n",
       "\n",
       "            lat      long  \n",
       "0       46.8433  -92.2550  \n",
       "1       46.9074  -92.4638  \n",
       "2       41.1770  -73.1336  \n",
       "3       35.1868 -106.6650  \n",
       "4       45.6836  -92.9648  \n",
       "...         ...       ...  \n",
       "423852  46.8348  -92.0742  \n",
       "423853  46.9369  -91.9325  \n",
       "423854  46.7715  -92.1279  \n",
       "423855  46.8433  -92.2550  \n",
       "423856  35.1851 -106.5850  \n",
       "\n",
       "[423857 rows x 25 columns]"
      ],
      "text/html": "<div>\n<style scoped>\n    .dataframe tbody tr th:only-of-type {\n        vertical-align: middle;\n    }\n\n    .dataframe tbody tr th {\n        vertical-align: top;\n    }\n\n    .dataframe thead th {\n        text-align: right;\n    }\n</style>\n<table border=\"1\" class=\"dataframe\">\n  <thead>\n    <tr style=\"text-align: right;\">\n      <th></th>\n      <th>id</th>\n      <th>url</th>\n      <th>region</th>\n      <th>region_url</th>\n      <th>price</th>\n      <th>year</th>\n      <th>manufacturer</th>\n      <th>model</th>\n      <th>condition</th>\n      <th>cylinders</th>\n      <th>...</th>\n      <th>drive</th>\n      <th>size</th>\n      <th>type</th>\n      <th>paint_color</th>\n      <th>image_url</th>\n      <th>description</th>\n      <th>county</th>\n      <th>state</th>\n      <th>lat</th>\n      <th>long</th>\n    </tr>\n  </thead>\n  <tbody>\n    <tr>\n      <th>0</th>\n      <td>7184791621</td>\n      <td>https://duluth.craigslist.org/ctd/d/duluth-200...</td>\n      <td>duluth / superior</td>\n      <td>https://duluth.craigslist.org</td>\n      <td>6995</td>\n      <td>2000.0</td>\n      <td>gmc</td>\n      <td>new sierra 1500</td>\n      <td>excellent</td>\n      <td>8 cylinders</td>\n      <td>...</td>\n      <td>4wd</td>\n      <td>NaN</td>\n      <td>NaN</td>\n      <td>red</td>\n      <td>https://images.craigslist.org/00n0n_f06ykBMcdh...</td>\n      <td>2000 *** GMC New Sierra 1500 Ext Cab 157.5  WB...</td>\n      <td>NaN</td>\n      <td>mn</td>\n      <td>46.8433</td>\n      <td>-92.2550</td>\n    </tr>\n    <tr>\n      <th>1</th>\n      <td>7184773187</td>\n      <td>https://duluth.craigslist.org/cto/d/saginaw-20...</td>\n      <td>duluth / superior</td>\n      <td>https://duluth.craigslist.org</td>\n      <td>8750</td>\n      <td>2013.0</td>\n      <td>hyundai</td>\n      <td>sonata</td>\n      <td>excellent</td>\n      <td>4 cylinders</td>\n      <td>...</td>\n      <td>fwd</td>\n      <td>NaN</td>\n      <td>NaN</td>\n      <td>grey</td>\n      <td>https://images.craigslist.org/00d0d_kgZ6xoeRw2...</td>\n      <td>For Sale:  2013 Hyundai Sonata GLS - $8750.  O...</td>\n      <td>NaN</td>\n      <td>mn</td>\n      <td>46.9074</td>\n      <td>-92.4638</td>\n    </tr>\n    <tr>\n      <th>2</th>\n      <td>7193375964</td>\n      <td>https://newhaven.craigslist.org/cto/d/stratfor...</td>\n      <td>new haven</td>\n      <td>https://newhaven.craigslist.org</td>\n      <td>10900</td>\n      <td>2013.0</td>\n      <td>toyota</td>\n      <td>prius</td>\n      <td>good</td>\n      <td>4 cylinders</td>\n      <td>...</td>\n      <td>fwd</td>\n      <td>NaN</td>\n      <td>NaN</td>\n      <td>blue</td>\n      <td>https://images.craigslist.org/00d0d_3sHGxPbY2O...</td>\n      <td>2013 Prius V Model Two. One owner—must sell my...</td>\n      <td>NaN</td>\n      <td>ct</td>\n      <td>41.1770</td>\n      <td>-73.1336</td>\n    </tr>\n    <tr>\n      <th>3</th>\n      <td>7195108810</td>\n      <td>https://albuquerque.craigslist.org/cto/d/albuq...</td>\n      <td>albuquerque</td>\n      <td>https://albuquerque.craigslist.org</td>\n      <td>12500</td>\n      <td>2003.0</td>\n      <td>mitsubishi</td>\n      <td>lancer</td>\n      <td>good</td>\n      <td>4 cylinders</td>\n      <td>...</td>\n      <td>4wd</td>\n      <td>mid-size</td>\n      <td>sedan</td>\n      <td>grey</td>\n      <td>https://images.craigslist.org/00m0m_4a8Pb6JbMG...</td>\n      <td>2003 Mitsubishi Lancer Evolution, silver.  Abo...</td>\n      <td>NaN</td>\n      <td>nm</td>\n      <td>35.1868</td>\n      <td>-106.6650</td>\n    </tr>\n    <tr>\n      <th>4</th>\n      <td>7184712241</td>\n      <td>https://duluth.craigslist.org/ctd/d/rush-city-...</td>\n      <td>duluth / superior</td>\n      <td>https://duluth.craigslist.org</td>\n      <td>16995</td>\n      <td>2007.0</td>\n      <td>gmc</td>\n      <td>sierra classic 2500hd</td>\n      <td>good</td>\n      <td>8 cylinders</td>\n      <td>...</td>\n      <td>4wd</td>\n      <td>full-size</td>\n      <td>truck</td>\n      <td>white</td>\n      <td>https://images.craigslist.org/01414_g093aPtSMW...</td>\n      <td>**Bad Credit, No Credit... No Problem!**2007 G...</td>\n      <td>NaN</td>\n      <td>mn</td>\n      <td>45.6836</td>\n      <td>-92.9648</td>\n    </tr>\n    <tr>\n      <th>...</th>\n      <td>...</td>\n      <td>...</td>\n      <td>...</td>\n      <td>...</td>\n      <td>...</td>\n      <td>...</td>\n      <td>...</td>\n      <td>...</td>\n      <td>...</td>\n      <td>...</td>\n      <td>...</td>\n      <td>...</td>\n      <td>...</td>\n      <td>...</td>\n      <td>...</td>\n      <td>...</td>\n      <td>...</td>\n      <td>...</td>\n      <td>...</td>\n      <td>...</td>\n      <td>...</td>\n    </tr>\n    <tr>\n      <th>423852</th>\n      <td>7184919761</td>\n      <td>https://duluth.craigslist.org/cto/d/duluth-200...</td>\n      <td>duluth / superior</td>\n      <td>https://duluth.craigslist.org</td>\n      <td>1600</td>\n      <td>2006.0</td>\n      <td>hyundai</td>\n      <td>sonata</td>\n      <td>fair</td>\n      <td>6 cylinders</td>\n      <td>...</td>\n      <td>fwd</td>\n      <td>NaN</td>\n      <td>sedan</td>\n      <td>blue</td>\n      <td>https://images.craigslist.org/00E0E_8o5RKLUz3o...</td>\n      <td>Motor runs and drives good. Transmission shift...</td>\n      <td>NaN</td>\n      <td>mn</td>\n      <td>46.8348</td>\n      <td>-92.0742</td>\n    </tr>\n    <tr>\n      <th>423853</th>\n      <td>7184844576</td>\n      <td>https://duluth.craigslist.org/cto/d/duluth-200...</td>\n      <td>duluth / superior</td>\n      <td>https://duluth.craigslist.org</td>\n      <td>9000</td>\n      <td>2003.0</td>\n      <td>toyota</td>\n      <td>sequoia limited</td>\n      <td>excellent</td>\n      <td>8 cylinders</td>\n      <td>...</td>\n      <td>4wd</td>\n      <td>full-size</td>\n      <td>SUV</td>\n      <td>green</td>\n      <td>https://images.craigslist.org/00G0G_BT0Ha3X736...</td>\n      <td>2 owner 0 rust not from here... Leather ,roof ...</td>\n      <td>NaN</td>\n      <td>mn</td>\n      <td>46.9369</td>\n      <td>-91.9325</td>\n    </tr>\n    <tr>\n      <th>423854</th>\n      <td>7184805809</td>\n      <td>https://duluth.craigslist.org/cto/d/duluth-94-...</td>\n      <td>duluth / superior</td>\n      <td>https://duluth.craigslist.org</td>\n      <td>700</td>\n      <td>1994.0</td>\n      <td>ford</td>\n      <td>f-150</td>\n      <td>fair</td>\n      <td>6 cylinders</td>\n      <td>...</td>\n      <td>rwd</td>\n      <td>NaN</td>\n      <td>NaN</td>\n      <td>green</td>\n      <td>https://images.craigslist.org/00L0L_2MgECwYWhp...</td>\n      <td>I'm selling this beautiful old pickup that I j...</td>\n      <td>NaN</td>\n      <td>mn</td>\n      <td>46.7715</td>\n      <td>-92.1279</td>\n    </tr>\n    <tr>\n      <th>423855</th>\n      <td>7184791927</td>\n      <td>https://duluth.craigslist.org/ctd/d/duluth-199...</td>\n      <td>duluth / superior</td>\n      <td>https://duluth.craigslist.org</td>\n      <td>3800</td>\n      <td>1999.0</td>\n      <td>lincoln</td>\n      <td>town car</td>\n      <td>excellent</td>\n      <td>8 cylinders</td>\n      <td>...</td>\n      <td>rwd</td>\n      <td>NaN</td>\n      <td>sedan</td>\n      <td>NaN</td>\n      <td>https://images.craigslist.org/00q0q_6msyGUIqK3...</td>\n      <td>1999 *** Lincoln Town Car 4dr Sdn Signature Se...</td>\n      <td>NaN</td>\n      <td>mn</td>\n      <td>46.8433</td>\n      <td>-92.2550</td>\n    </tr>\n    <tr>\n      <th>423856</th>\n      <td>7195109037</td>\n      <td>https://albuquerque.craigslist.org/ctd/d/albuq...</td>\n      <td>albuquerque</td>\n      <td>https://albuquerque.craigslist.org</td>\n      <td>8650</td>\n      <td>2015.0</td>\n      <td>nissan</td>\n      <td>versa</td>\n      <td>NaN</td>\n      <td>NaN</td>\n      <td>...</td>\n      <td>fwd</td>\n      <td>compact</td>\n      <td>sedan</td>\n      <td>silver</td>\n      <td>https://images.craigslist.org/00e0e_aTHizIb1II...</td>\n      <td>2015 Nissan Versa S     Offered by: Southwest ...</td>\n      <td>NaN</td>\n      <td>nm</td>\n      <td>35.1851</td>\n      <td>-106.5850</td>\n    </tr>\n  </tbody>\n</table>\n<p>423857 rows × 25 columns</p>\n</div>"
     },
     "metadata": {},
     "execution_count": 4
    }
   ],
   "source": [
    "df"
   ]
  },
  {
   "source": [
    "df.columns"
   ],
   "cell_type": "code",
   "metadata": {},
   "execution_count": 5,
   "outputs": [
    {
     "output_type": "execute_result",
     "data": {
      "text/plain": [
       "Index(['id', 'url', 'region', 'region_url', 'price', 'year', 'manufacturer',\n",
       "       'model', 'condition', 'cylinders', 'fuel', 'odometer', 'title_status',\n",
       "       'transmission', 'vin', 'drive', 'size', 'type', 'paint_color',\n",
       "       'image_url', 'description', 'county', 'state', 'lat', 'long'],\n",
       "      dtype='object')"
      ]
     },
     "metadata": {},
     "execution_count": 5
    }
   ]
  },
  {
   "cell_type": "code",
   "execution_count": 6,
   "metadata": {},
   "outputs": [],
   "source": [
    "df = df.drop(columns=['id', 'url', 'region', 'region_url', 'county', 'image_url', 'county','state','lat','long','vin','size','type','description'])"
   ]
  },
  {
   "cell_type": "code",
   "execution_count": 7,
   "metadata": {},
   "outputs": [
    {
     "output_type": "execute_result",
     "data": {
      "text/plain": [
       "f-150                             6073\n",
       "silverado 1500                    3878\n",
       "escape                            3208\n",
       "camry                             2906\n",
       "1500                              2898\n",
       "                                  ... \n",
       "2017 Mirai Hydrogen Fuel Cell!       1\n",
       "camry 2010se                         1\n",
       "odyssey van ex-                      1\n",
       "Equinox LT                           1\n",
       "rlx advance pkg                      1\n",
       "Name: model, Length: 27042, dtype: int64"
      ]
     },
     "metadata": {},
     "execution_count": 7
    }
   ],
   "source": [
    "df['model'].value_counts()"
   ]
  },
  {
   "cell_type": "code",
   "execution_count": 8,
   "metadata": {},
   "outputs": [],
   "source": [
    "counts = df['model'].value_counts()\n",
    "to_remove = counts[counts <= 10].index\n",
    "df = df[~df.model.isin(to_remove)]"
   ]
  },
  {
   "cell_type": "code",
   "execution_count": 9,
   "metadata": {},
   "outputs": [
    {
     "output_type": "execute_result",
     "data": {
      "text/plain": [
       "f-150                 6073\n",
       "silverado 1500        3878\n",
       "escape                3208\n",
       "camry                 2906\n",
       "1500                  2898\n",
       "                      ... \n",
       "nova ss                 11\n",
       "z4 3.0si                11\n",
       "town & country tou      11\n",
       "sorento lx v6           11\n",
       "ats luxury              11\n",
       "Name: model, Length: 3071, dtype: int64"
      ]
     },
     "metadata": {},
     "execution_count": 9
    }
   ],
   "source": [
    "df['model'].value_counts()"
   ]
  },
  {
   "cell_type": "code",
   "execution_count": 10,
   "metadata": {},
   "outputs": [
    {
     "output_type": "execute_result",
     "data": {
      "text/plain": [
       "(372656, 12)"
      ]
     },
     "metadata": {},
     "execution_count": 10
    }
   ],
   "source": [
    "df.shape"
   ]
  },
  {
   "cell_type": "code",
   "execution_count": 11,
   "metadata": {},
   "outputs": [
    {
     "output_type": "execute_result",
     "data": {
      "text/plain": [
       "4 cylinders     60030\n",
       "6 cylinders     58322\n",
       "8 cylinders     43692\n",
       "5 cylinders      1238\n",
       "10 cylinders      655\n",
       "other             534\n",
       "3 cylinders       286\n",
       "12 cylinders       54\n",
       "Name: cylinders, dtype: int64"
      ]
     },
     "metadata": {},
     "execution_count": 11
    }
   ],
   "source": [
    "df['cylinders'].value_counts()"
   ]
  },
  {
   "cell_type": "code",
   "execution_count": 12,
   "metadata": {},
   "outputs": [],
   "source": [
    "df.drop(df[df['cylinders'] == 'other'].index, inplace = True) "
   ]
  },
  {
   "cell_type": "code",
   "execution_count": 13,
   "metadata": {},
   "outputs": [
    {
     "output_type": "execute_result",
     "data": {
      "text/plain": [
       "4 cylinders     60030\n",
       "6 cylinders     58322\n",
       "8 cylinders     43692\n",
       "5 cylinders      1238\n",
       "10 cylinders      655\n",
       "3 cylinders       286\n",
       "12 cylinders       54\n",
       "Name: cylinders, dtype: int64"
      ]
     },
     "metadata": {},
     "execution_count": 13
    }
   ],
   "source": [
    "df['cylinders'].value_counts()"
   ]
  },
  {
   "cell_type": "code",
   "execution_count": 14,
   "metadata": {},
   "outputs": [
    {
     "output_type": "execute_result",
     "data": {
      "text/plain": [
       "clean         266601\n",
       "rebuilt         5136\n",
       "salvage         2697\n",
       "lien            1566\n",
       "missing          427\n",
       "parts only       156\n",
       "Name: title_status, dtype: int64"
      ]
     },
     "metadata": {},
     "execution_count": 14
    }
   ],
   "source": [
    "df['title_status'].value_counts()"
   ]
  },
  {
   "cell_type": "code",
   "execution_count": 15,
   "metadata": {},
   "outputs": [
    {
     "output_type": "execute_result",
     "data": {
      "text/plain": [
       "<matplotlib.axes._subplots.AxesSubplot at 0x22b00043490>"
      ]
     },
     "metadata": {},
     "execution_count": 15
    },
    {
     "output_type": "display_data",
     "data": {
      "text/plain": "<Figure size 432x288 with 1 Axes>",
      "image/svg+xml": "<?xml version=\"1.0\" encoding=\"utf-8\" standalone=\"no\"?>\r\n<!DOCTYPE svg PUBLIC \"-//W3C//DTD SVG 1.1//EN\"\r\n  \"http://www.w3.org/Graphics/SVG/1.1/DTD/svg11.dtd\">\r\n<!-- Created with matplotlib (https://matplotlib.org/) -->\r\n<svg height=\"248.518125pt\" version=\"1.1\" viewBox=\"0 0 362.5625 248.518125\" width=\"362.5625pt\" xmlns=\"http://www.w3.org/2000/svg\" xmlns:xlink=\"http://www.w3.org/1999/xlink\">\r\n <defs>\r\n  <style type=\"text/css\">\r\n*{stroke-linecap:butt;stroke-linejoin:round;}\r\n  </style>\r\n </defs>\r\n <g id=\"figure_1\">\r\n  <g id=\"patch_1\">\r\n   <path d=\"M 0 248.518125 \r\nL 362.5625 248.518125 \r\nL 362.5625 0 \r\nL 0 0 \r\nz\r\n\" style=\"fill:none;\"/>\r\n  </g>\r\n  <g id=\"axes_1\">\r\n   <g id=\"patch_2\">\r\n    <path d=\"M 20.5625 224.64 \r\nL 355.3625 224.64 \r\nL 355.3625 7.2 \r\nL 20.5625 7.2 \r\nz\r\n\" style=\"fill:#ffffff;\"/>\r\n   </g>\r\n   <g id=\"patch_3\">\r\n    <path clip-path=\"url(#p584fab4afb)\" d=\"M 35.780682 224.64 \r\nL 66.217045 224.64 \r\nL 66.217045 17.554286 \r\nL 35.780682 17.554286 \r\nz\r\n\" style=\"fill:#1f77b4;\"/>\r\n   </g>\r\n   <g id=\"patch_4\">\r\n    <path clip-path=\"url(#p584fab4afb)\" d=\"M 66.217045 224.64 \r\nL 96.653409 224.64 \r\nL 96.653409 224.64 \r\nL 66.217045 224.64 \r\nz\r\n\" style=\"fill:#1f77b4;\"/>\r\n   </g>\r\n   <g id=\"patch_5\">\r\n    <path clip-path=\"url(#p584fab4afb)\" d=\"M 96.653409 224.64 \r\nL 127.089773 224.64 \r\nL 127.089773 224.64 \r\nL 96.653409 224.64 \r\nz\r\n\" style=\"fill:#1f77b4;\"/>\r\n   </g>\r\n   <g id=\"patch_6\">\r\n    <path clip-path=\"url(#p584fab4afb)\" d=\"M 127.089773 224.64 \r\nL 157.526136 224.64 \r\nL 157.526136 224.64 \r\nL 127.089773 224.64 \r\nz\r\n\" style=\"fill:#1f77b4;\"/>\r\n   </g>\r\n   <g id=\"patch_7\">\r\n    <path clip-path=\"url(#p584fab4afb)\" d=\"M 157.526136 224.64 \r\nL 187.9625 224.64 \r\nL 187.9625 224.64 \r\nL 157.526136 224.64 \r\nz\r\n\" style=\"fill:#1f77b4;\"/>\r\n   </g>\r\n   <g id=\"patch_8\">\r\n    <path clip-path=\"url(#p584fab4afb)\" d=\"M 187.9625 224.64 \r\nL 218.398864 224.64 \r\nL 218.398864 224.64 \r\nL 187.9625 224.64 \r\nz\r\n\" style=\"fill:#1f77b4;\"/>\r\n   </g>\r\n   <g id=\"patch_9\">\r\n    <path clip-path=\"url(#p584fab4afb)\" d=\"M 218.398864 224.64 \r\nL 248.835227 224.64 \r\nL 248.835227 224.64 \r\nL 218.398864 224.64 \r\nz\r\n\" style=\"fill:#1f77b4;\"/>\r\n   </g>\r\n   <g id=\"patch_10\">\r\n    <path clip-path=\"url(#p584fab4afb)\" d=\"M 248.835227 224.64 \r\nL 279.271591 224.64 \r\nL 279.271591 224.64 \r\nL 248.835227 224.64 \r\nz\r\n\" style=\"fill:#1f77b4;\"/>\r\n   </g>\r\n   <g id=\"patch_11\">\r\n    <path clip-path=\"url(#p584fab4afb)\" d=\"M 279.271591 224.64 \r\nL 309.707955 224.64 \r\nL 309.707955 224.64 \r\nL 279.271591 224.64 \r\nz\r\n\" style=\"fill:#1f77b4;\"/>\r\n   </g>\r\n   <g id=\"patch_12\">\r\n    <path clip-path=\"url(#p584fab4afb)\" d=\"M 309.707955 224.64 \r\nL 340.144318 224.64 \r\nL 340.144318 183.222857 \r\nL 309.707955 183.222857 \r\nz\r\n\" style=\"fill:#1f77b4;\"/>\r\n   </g>\r\n   <g id=\"matplotlib.axis_1\">\r\n    <g id=\"xtick_1\">\r\n     <g id=\"line2d_1\">\r\n      <path clip-path=\"url(#p584fab4afb)\" d=\"M 35.602481 224.64 \r\nL 35.602481 7.2 \r\n\" style=\"fill:none;stroke:#b0b0b0;stroke-linecap:square;stroke-width:0.8;\"/>\r\n     </g>\r\n     <g id=\"line2d_2\">\r\n      <defs>\r\n       <path d=\"M 0 0 \r\nL 0 3.5 \r\n\" id=\"m1ff25b8961\" style=\"stroke:#000000;stroke-width:0.8;\"/>\r\n      </defs>\r\n      <g>\r\n       <use style=\"stroke:#000000;stroke-width:0.8;\" x=\"35.602481\" xlink:href=\"#m1ff25b8961\" y=\"224.64\"/>\r\n      </g>\r\n     </g>\r\n     <g id=\"text_1\">\r\n      <!-- 0 -->\r\n      <defs>\r\n       <path d=\"M 31.78125 66.40625 \r\nQ 24.171875 66.40625 20.328125 58.90625 \r\nQ 16.5 51.421875 16.5 36.375 \r\nQ 16.5 21.390625 20.328125 13.890625 \r\nQ 24.171875 6.390625 31.78125 6.390625 \r\nQ 39.453125 6.390625 43.28125 13.890625 \r\nQ 47.125 21.390625 47.125 36.375 \r\nQ 47.125 51.421875 43.28125 58.90625 \r\nQ 39.453125 66.40625 31.78125 66.40625 \r\nz\r\nM 31.78125 74.21875 \r\nQ 44.046875 74.21875 50.515625 64.515625 \r\nQ 56.984375 54.828125 56.984375 36.375 \r\nQ 56.984375 17.96875 50.515625 8.265625 \r\nQ 44.046875 -1.421875 31.78125 -1.421875 \r\nQ 19.53125 -1.421875 13.0625 8.265625 \r\nQ 6.59375 17.96875 6.59375 36.375 \r\nQ 6.59375 54.828125 13.0625 64.515625 \r\nQ 19.53125 74.21875 31.78125 74.21875 \r\nz\r\n\" id=\"DejaVuSans-48\"/>\r\n      </defs>\r\n      <g transform=\"translate(32.421231 239.238437)scale(0.1 -0.1)\">\r\n       <use xlink:href=\"#DejaVuSans-48\"/>\r\n      </g>\r\n     </g>\r\n    </g>\r\n    <g id=\"xtick_2\">\r\n     <g id=\"line2d_3\">\r\n      <path clip-path=\"url(#p584fab4afb)\" d=\"M 92.71814 224.64 \r\nL 92.71814 7.2 \r\n\" style=\"fill:none;stroke:#b0b0b0;stroke-linecap:square;stroke-width:0.8;\"/>\r\n     </g>\r\n     <g id=\"line2d_4\">\r\n      <g>\r\n       <use style=\"stroke:#000000;stroke-width:0.8;\" x=\"92.71814\" xlink:href=\"#m1ff25b8961\" y=\"224.64\"/>\r\n      </g>\r\n     </g>\r\n     <g id=\"text_2\">\r\n      <!-- 50000 -->\r\n      <defs>\r\n       <path d=\"M 10.796875 72.90625 \r\nL 49.515625 72.90625 \r\nL 49.515625 64.59375 \r\nL 19.828125 64.59375 \r\nL 19.828125 46.734375 \r\nQ 21.96875 47.46875 24.109375 47.828125 \r\nQ 26.265625 48.1875 28.421875 48.1875 \r\nQ 40.625 48.1875 47.75 41.5 \r\nQ 54.890625 34.8125 54.890625 23.390625 \r\nQ 54.890625 11.625 47.5625 5.09375 \r\nQ 40.234375 -1.421875 26.90625 -1.421875 \r\nQ 22.3125 -1.421875 17.546875 -0.640625 \r\nQ 12.796875 0.140625 7.71875 1.703125 \r\nL 7.71875 11.625 \r\nQ 12.109375 9.234375 16.796875 8.0625 \r\nQ 21.484375 6.890625 26.703125 6.890625 \r\nQ 35.15625 6.890625 40.078125 11.328125 \r\nQ 45.015625 15.765625 45.015625 23.390625 \r\nQ 45.015625 31 40.078125 35.4375 \r\nQ 35.15625 39.890625 26.703125 39.890625 \r\nQ 22.75 39.890625 18.8125 39.015625 \r\nQ 14.890625 38.140625 10.796875 36.28125 \r\nz\r\n\" id=\"DejaVuSans-53\"/>\r\n      </defs>\r\n      <g transform=\"translate(76.81189 239.238437)scale(0.1 -0.1)\">\r\n       <use xlink:href=\"#DejaVuSans-53\"/>\r\n       <use x=\"63.623047\" xlink:href=\"#DejaVuSans-48\"/>\r\n       <use x=\"127.246094\" xlink:href=\"#DejaVuSans-48\"/>\r\n       <use x=\"190.869141\" xlink:href=\"#DejaVuSans-48\"/>\r\n       <use x=\"254.492188\" xlink:href=\"#DejaVuSans-48\"/>\r\n      </g>\r\n     </g>\r\n    </g>\r\n    <g id=\"xtick_3\">\r\n     <g id=\"line2d_5\">\r\n      <path clip-path=\"url(#p584fab4afb)\" d=\"M 149.833799 224.64 \r\nL 149.833799 7.2 \r\n\" style=\"fill:none;stroke:#b0b0b0;stroke-linecap:square;stroke-width:0.8;\"/>\r\n     </g>\r\n     <g id=\"line2d_6\">\r\n      <g>\r\n       <use style=\"stroke:#000000;stroke-width:0.8;\" x=\"149.833799\" xlink:href=\"#m1ff25b8961\" y=\"224.64\"/>\r\n      </g>\r\n     </g>\r\n     <g id=\"text_3\">\r\n      <!-- 100000 -->\r\n      <defs>\r\n       <path d=\"M 12.40625 8.296875 \r\nL 28.515625 8.296875 \r\nL 28.515625 63.921875 \r\nL 10.984375 60.40625 \r\nL 10.984375 69.390625 \r\nL 28.421875 72.90625 \r\nL 38.28125 72.90625 \r\nL 38.28125 8.296875 \r\nL 54.390625 8.296875 \r\nL 54.390625 0 \r\nL 12.40625 0 \r\nz\r\n\" id=\"DejaVuSans-49\"/>\r\n      </defs>\r\n      <g transform=\"translate(130.746299 239.238437)scale(0.1 -0.1)\">\r\n       <use xlink:href=\"#DejaVuSans-49\"/>\r\n       <use x=\"63.623047\" xlink:href=\"#DejaVuSans-48\"/>\r\n       <use x=\"127.246094\" xlink:href=\"#DejaVuSans-48\"/>\r\n       <use x=\"190.869141\" xlink:href=\"#DejaVuSans-48\"/>\r\n       <use x=\"254.492188\" xlink:href=\"#DejaVuSans-48\"/>\r\n       <use x=\"318.115234\" xlink:href=\"#DejaVuSans-48\"/>\r\n      </g>\r\n     </g>\r\n    </g>\r\n    <g id=\"xtick_4\">\r\n     <g id=\"line2d_7\">\r\n      <path clip-path=\"url(#p584fab4afb)\" d=\"M 206.949459 224.64 \r\nL 206.949459 7.2 \r\n\" style=\"fill:none;stroke:#b0b0b0;stroke-linecap:square;stroke-width:0.8;\"/>\r\n     </g>\r\n     <g id=\"line2d_8\">\r\n      <g>\r\n       <use style=\"stroke:#000000;stroke-width:0.8;\" x=\"206.949459\" xlink:href=\"#m1ff25b8961\" y=\"224.64\"/>\r\n      </g>\r\n     </g>\r\n     <g id=\"text_4\">\r\n      <!-- 150000 -->\r\n      <g transform=\"translate(187.861959 239.238437)scale(0.1 -0.1)\">\r\n       <use xlink:href=\"#DejaVuSans-49\"/>\r\n       <use x=\"63.623047\" xlink:href=\"#DejaVuSans-53\"/>\r\n       <use x=\"127.246094\" xlink:href=\"#DejaVuSans-48\"/>\r\n       <use x=\"190.869141\" xlink:href=\"#DejaVuSans-48\"/>\r\n       <use x=\"254.492188\" xlink:href=\"#DejaVuSans-48\"/>\r\n       <use x=\"318.115234\" xlink:href=\"#DejaVuSans-48\"/>\r\n      </g>\r\n     </g>\r\n    </g>\r\n    <g id=\"xtick_5\">\r\n     <g id=\"line2d_9\">\r\n      <path clip-path=\"url(#p584fab4afb)\" d=\"M 264.065118 224.64 \r\nL 264.065118 7.2 \r\n\" style=\"fill:none;stroke:#b0b0b0;stroke-linecap:square;stroke-width:0.8;\"/>\r\n     </g>\r\n     <g id=\"line2d_10\">\r\n      <g>\r\n       <use style=\"stroke:#000000;stroke-width:0.8;\" x=\"264.065118\" xlink:href=\"#m1ff25b8961\" y=\"224.64\"/>\r\n      </g>\r\n     </g>\r\n     <g id=\"text_5\">\r\n      <!-- 200000 -->\r\n      <defs>\r\n       <path d=\"M 19.1875 8.296875 \r\nL 53.609375 8.296875 \r\nL 53.609375 0 \r\nL 7.328125 0 \r\nL 7.328125 8.296875 \r\nQ 12.9375 14.109375 22.625 23.890625 \r\nQ 32.328125 33.6875 34.8125 36.53125 \r\nQ 39.546875 41.84375 41.421875 45.53125 \r\nQ 43.3125 49.21875 43.3125 52.78125 \r\nQ 43.3125 58.59375 39.234375 62.25 \r\nQ 35.15625 65.921875 28.609375 65.921875 \r\nQ 23.96875 65.921875 18.8125 64.3125 \r\nQ 13.671875 62.703125 7.8125 59.421875 \r\nL 7.8125 69.390625 \r\nQ 13.765625 71.78125 18.9375 73 \r\nQ 24.125 74.21875 28.421875 74.21875 \r\nQ 39.75 74.21875 46.484375 68.546875 \r\nQ 53.21875 62.890625 53.21875 53.421875 \r\nQ 53.21875 48.921875 51.53125 44.890625 \r\nQ 49.859375 40.875 45.40625 35.40625 \r\nQ 44.1875 33.984375 37.640625 27.21875 \r\nQ 31.109375 20.453125 19.1875 8.296875 \r\nz\r\n\" id=\"DejaVuSans-50\"/>\r\n      </defs>\r\n      <g transform=\"translate(244.977618 239.238437)scale(0.1 -0.1)\">\r\n       <use xlink:href=\"#DejaVuSans-50\"/>\r\n       <use x=\"63.623047\" xlink:href=\"#DejaVuSans-48\"/>\r\n       <use x=\"127.246094\" xlink:href=\"#DejaVuSans-48\"/>\r\n       <use x=\"190.869141\" xlink:href=\"#DejaVuSans-48\"/>\r\n       <use x=\"254.492188\" xlink:href=\"#DejaVuSans-48\"/>\r\n       <use x=\"318.115234\" xlink:href=\"#DejaVuSans-48\"/>\r\n      </g>\r\n     </g>\r\n    </g>\r\n    <g id=\"xtick_6\">\r\n     <g id=\"line2d_11\">\r\n      <path clip-path=\"url(#p584fab4afb)\" d=\"M 321.180777 224.64 \r\nL 321.180777 7.2 \r\n\" style=\"fill:none;stroke:#b0b0b0;stroke-linecap:square;stroke-width:0.8;\"/>\r\n     </g>\r\n     <g id=\"line2d_12\">\r\n      <g>\r\n       <use style=\"stroke:#000000;stroke-width:0.8;\" x=\"321.180777\" xlink:href=\"#m1ff25b8961\" y=\"224.64\"/>\r\n      </g>\r\n     </g>\r\n     <g id=\"text_6\">\r\n      <!-- 250000 -->\r\n      <g transform=\"translate(302.093277 239.238437)scale(0.1 -0.1)\">\r\n       <use xlink:href=\"#DejaVuSans-50\"/>\r\n       <use x=\"63.623047\" xlink:href=\"#DejaVuSans-53\"/>\r\n       <use x=\"127.246094\" xlink:href=\"#DejaVuSans-48\"/>\r\n       <use x=\"190.869141\" xlink:href=\"#DejaVuSans-48\"/>\r\n       <use x=\"254.492188\" xlink:href=\"#DejaVuSans-48\"/>\r\n       <use x=\"318.115234\" xlink:href=\"#DejaVuSans-48\"/>\r\n      </g>\r\n     </g>\r\n    </g>\r\n   </g>\r\n   <g id=\"matplotlib.axis_2\">\r\n    <g id=\"ytick_1\">\r\n     <g id=\"line2d_13\">\r\n      <path clip-path=\"url(#p584fab4afb)\" d=\"M 20.5625 224.64 \r\nL 355.3625 224.64 \r\n\" style=\"fill:none;stroke:#b0b0b0;stroke-linecap:square;stroke-width:0.8;\"/>\r\n     </g>\r\n     <g id=\"line2d_14\">\r\n      <defs>\r\n       <path d=\"M 0 0 \r\nL -3.5 0 \r\n\" id=\"m1334625aa5\" style=\"stroke:#000000;stroke-width:0.8;\"/>\r\n      </defs>\r\n      <g>\r\n       <use style=\"stroke:#000000;stroke-width:0.8;\" x=\"20.5625\" xlink:href=\"#m1334625aa5\" y=\"224.64\"/>\r\n      </g>\r\n     </g>\r\n     <g id=\"text_7\">\r\n      <!-- 0 -->\r\n      <g transform=\"translate(7.2 228.439219)scale(0.1 -0.1)\">\r\n       <use xlink:href=\"#DejaVuSans-48\"/>\r\n      </g>\r\n     </g>\r\n    </g>\r\n    <g id=\"ytick_2\">\r\n     <g id=\"line2d_15\">\r\n      <path clip-path=\"url(#p584fab4afb)\" d=\"M 20.5625 183.222857 \r\nL 355.3625 183.222857 \r\n\" style=\"fill:none;stroke:#b0b0b0;stroke-linecap:square;stroke-width:0.8;\"/>\r\n     </g>\r\n     <g id=\"line2d_16\">\r\n      <g>\r\n       <use style=\"stroke:#000000;stroke-width:0.8;\" x=\"20.5625\" xlink:href=\"#m1334625aa5\" y=\"183.222857\"/>\r\n      </g>\r\n     </g>\r\n     <g id=\"text_8\">\r\n      <!-- 1 -->\r\n      <g transform=\"translate(7.2 187.022076)scale(0.1 -0.1)\">\r\n       <use xlink:href=\"#DejaVuSans-49\"/>\r\n      </g>\r\n     </g>\r\n    </g>\r\n    <g id=\"ytick_3\">\r\n     <g id=\"line2d_17\">\r\n      <path clip-path=\"url(#p584fab4afb)\" d=\"M 20.5625 141.805714 \r\nL 355.3625 141.805714 \r\n\" style=\"fill:none;stroke:#b0b0b0;stroke-linecap:square;stroke-width:0.8;\"/>\r\n     </g>\r\n     <g id=\"line2d_18\">\r\n      <g>\r\n       <use style=\"stroke:#000000;stroke-width:0.8;\" x=\"20.5625\" xlink:href=\"#m1334625aa5\" y=\"141.805714\"/>\r\n      </g>\r\n     </g>\r\n     <g id=\"text_9\">\r\n      <!-- 2 -->\r\n      <g transform=\"translate(7.2 145.604933)scale(0.1 -0.1)\">\r\n       <use xlink:href=\"#DejaVuSans-50\"/>\r\n      </g>\r\n     </g>\r\n    </g>\r\n    <g id=\"ytick_4\">\r\n     <g id=\"line2d_19\">\r\n      <path clip-path=\"url(#p584fab4afb)\" d=\"M 20.5625 100.388571 \r\nL 355.3625 100.388571 \r\n\" style=\"fill:none;stroke:#b0b0b0;stroke-linecap:square;stroke-width:0.8;\"/>\r\n     </g>\r\n     <g id=\"line2d_20\">\r\n      <g>\r\n       <use style=\"stroke:#000000;stroke-width:0.8;\" x=\"20.5625\" xlink:href=\"#m1334625aa5\" y=\"100.388571\"/>\r\n      </g>\r\n     </g>\r\n     <g id=\"text_10\">\r\n      <!-- 3 -->\r\n      <defs>\r\n       <path d=\"M 40.578125 39.3125 \r\nQ 47.65625 37.796875 51.625 33 \r\nQ 55.609375 28.21875 55.609375 21.1875 \r\nQ 55.609375 10.40625 48.1875 4.484375 \r\nQ 40.765625 -1.421875 27.09375 -1.421875 \r\nQ 22.515625 -1.421875 17.65625 -0.515625 \r\nQ 12.796875 0.390625 7.625 2.203125 \r\nL 7.625 11.71875 \r\nQ 11.71875 9.328125 16.59375 8.109375 \r\nQ 21.484375 6.890625 26.8125 6.890625 \r\nQ 36.078125 6.890625 40.9375 10.546875 \r\nQ 45.796875 14.203125 45.796875 21.1875 \r\nQ 45.796875 27.640625 41.28125 31.265625 \r\nQ 36.765625 34.90625 28.71875 34.90625 \r\nL 20.21875 34.90625 \r\nL 20.21875 43.015625 \r\nL 29.109375 43.015625 \r\nQ 36.375 43.015625 40.234375 45.921875 \r\nQ 44.09375 48.828125 44.09375 54.296875 \r\nQ 44.09375 59.90625 40.109375 62.90625 \r\nQ 36.140625 65.921875 28.71875 65.921875 \r\nQ 24.65625 65.921875 20.015625 65.03125 \r\nQ 15.375 64.15625 9.8125 62.3125 \r\nL 9.8125 71.09375 \r\nQ 15.4375 72.65625 20.34375 73.4375 \r\nQ 25.25 74.21875 29.59375 74.21875 \r\nQ 40.828125 74.21875 47.359375 69.109375 \r\nQ 53.90625 64.015625 53.90625 55.328125 \r\nQ 53.90625 49.265625 50.4375 45.09375 \r\nQ 46.96875 40.921875 40.578125 39.3125 \r\nz\r\n\" id=\"DejaVuSans-51\"/>\r\n      </defs>\r\n      <g transform=\"translate(7.2 104.18779)scale(0.1 -0.1)\">\r\n       <use xlink:href=\"#DejaVuSans-51\"/>\r\n      </g>\r\n     </g>\r\n    </g>\r\n    <g id=\"ytick_5\">\r\n     <g id=\"line2d_21\">\r\n      <path clip-path=\"url(#p584fab4afb)\" d=\"M 20.5625 58.971429 \r\nL 355.3625 58.971429 \r\n\" style=\"fill:none;stroke:#b0b0b0;stroke-linecap:square;stroke-width:0.8;\"/>\r\n     </g>\r\n     <g id=\"line2d_22\">\r\n      <g>\r\n       <use style=\"stroke:#000000;stroke-width:0.8;\" x=\"20.5625\" xlink:href=\"#m1334625aa5\" y=\"58.971429\"/>\r\n      </g>\r\n     </g>\r\n     <g id=\"text_11\">\r\n      <!-- 4 -->\r\n      <defs>\r\n       <path d=\"M 37.796875 64.3125 \r\nL 12.890625 25.390625 \r\nL 37.796875 25.390625 \r\nz\r\nM 35.203125 72.90625 \r\nL 47.609375 72.90625 \r\nL 47.609375 25.390625 \r\nL 58.015625 25.390625 \r\nL 58.015625 17.1875 \r\nL 47.609375 17.1875 \r\nL 47.609375 0 \r\nL 37.796875 0 \r\nL 37.796875 17.1875 \r\nL 4.890625 17.1875 \r\nL 4.890625 26.703125 \r\nz\r\n\" id=\"DejaVuSans-52\"/>\r\n      </defs>\r\n      <g transform=\"translate(7.2 62.770647)scale(0.1 -0.1)\">\r\n       <use xlink:href=\"#DejaVuSans-52\"/>\r\n      </g>\r\n     </g>\r\n    </g>\r\n    <g id=\"ytick_6\">\r\n     <g id=\"line2d_23\">\r\n      <path clip-path=\"url(#p584fab4afb)\" d=\"M 20.5625 17.554286 \r\nL 355.3625 17.554286 \r\n\" style=\"fill:none;stroke:#b0b0b0;stroke-linecap:square;stroke-width:0.8;\"/>\r\n     </g>\r\n     <g id=\"line2d_24\">\r\n      <g>\r\n       <use style=\"stroke:#000000;stroke-width:0.8;\" x=\"20.5625\" xlink:href=\"#m1334625aa5\" y=\"17.554286\"/>\r\n      </g>\r\n     </g>\r\n     <g id=\"text_12\">\r\n      <!-- 5 -->\r\n      <g transform=\"translate(7.2 21.353504)scale(0.1 -0.1)\">\r\n       <use xlink:href=\"#DejaVuSans-53\"/>\r\n      </g>\r\n     </g>\r\n    </g>\r\n   </g>\r\n   <g id=\"patch_13\">\r\n    <path d=\"M 20.5625 224.64 \r\nL 20.5625 7.2 \r\n\" style=\"fill:none;stroke:#000000;stroke-linecap:square;stroke-linejoin:miter;stroke-width:0.8;\"/>\r\n   </g>\r\n   <g id=\"patch_14\">\r\n    <path d=\"M 355.3625 224.64 \r\nL 355.3625 7.2 \r\n\" style=\"fill:none;stroke:#000000;stroke-linecap:square;stroke-linejoin:miter;stroke-width:0.8;\"/>\r\n   </g>\r\n   <g id=\"patch_15\">\r\n    <path d=\"M 20.5625 224.64 \r\nL 355.3625 224.64 \r\n\" style=\"fill:none;stroke:#000000;stroke-linecap:square;stroke-linejoin:miter;stroke-width:0.8;\"/>\r\n   </g>\r\n   <g id=\"patch_16\">\r\n    <path d=\"M 20.5625 7.2 \r\nL 355.3625 7.2 \r\n\" style=\"fill:none;stroke:#000000;stroke-linecap:square;stroke-linejoin:miter;stroke-width:0.8;\"/>\r\n   </g>\r\n  </g>\r\n </g>\r\n <defs>\r\n  <clipPath id=\"p584fab4afb\">\r\n   <rect height=\"217.44\" width=\"334.8\" x=\"20.5625\" y=\"7.2\"/>\r\n  </clipPath>\r\n </defs>\r\n</svg>\r\n",
      "image/png": "[encoded data removed]"
     },
     "metadata": {
      "needs_background": "light"
     }
    }
   ],
   "source": [
    "df['title_status'].value_counts().hist()"
   ]
  },
  {
   "cell_type": "code",
   "execution_count": 16,
   "metadata": {},
   "outputs": [],
   "source": [
    "df = df.drop(df.loc[df['title_status'] == 'salvage'].index)\n",
    "df = df.drop(df.loc[df['title_status'] == 'parts only'].index)\n",
    "df = df.drop(df.loc[df['title_status'] == 'missing'].index)"
   ]
  },
  {
   "cell_type": "code",
   "execution_count": 17,
   "metadata": {},
   "outputs": [
    {
     "output_type": "execute_result",
     "data": {
      "text/plain": [
       "clean      266601\n",
       "rebuilt      5136\n",
       "lien         1566\n",
       "Name: title_status, dtype: int64"
      ]
     },
     "metadata": {},
     "execution_count": 17
    }
   ],
   "source": [
    "df['title_status'].value_counts()"
   ]
  },
  {
   "cell_type": "code",
   "execution_count": null,
   "metadata": {},
   "outputs": [],
   "source": []
  },
  {
   "cell_type": "code",
   "execution_count": 18,
   "metadata": {},
   "outputs": [
    {
     "output_type": "execute_result",
     "data": {
      "text/plain": [
       "automatic    246788\n",
       "manual        17179\n",
       "other          9275\n",
       "Name: transmission, dtype: int64"
      ]
     },
     "metadata": {},
     "execution_count": 18
    }
   ],
   "source": [
    "df['transmission'].value_counts()"
   ]
  },
  {
   "cell_type": "code",
   "execution_count": 19,
   "metadata": {},
   "outputs": [],
   "source": [
    "df.drop(df[df['transmission'] == 'other'].index, inplace = True) "
   ]
  },
  {
   "cell_type": "code",
   "execution_count": 20,
   "metadata": {},
   "outputs": [
    {
     "output_type": "execute_result",
     "data": {
      "text/plain": [
       "automatic    246788\n",
       "manual        17179\n",
       "Name: transmission, dtype: int64"
      ]
     },
     "metadata": {},
     "execution_count": 20
    }
   ],
   "source": [
    "df['transmission'].value_counts()"
   ]
  },
  {
   "cell_type": "code",
   "execution_count": 21,
   "metadata": {},
   "outputs": [
    {
     "output_type": "execute_result",
     "data": {
      "text/plain": [
       "4wd    80488\n",
       "fwd    75197\n",
       "rwd    30823\n",
       "Name: drive, dtype: int64"
      ]
     },
     "metadata": {},
     "execution_count": 21
    }
   ],
   "source": [
    "df['drive'].value_counts()"
   ]
  },
  {
   "cell_type": "code",
   "execution_count": 22,
   "metadata": {},
   "outputs": [
    {
     "output_type": "execute_result",
     "data": {
      "text/plain": [
       "white     45502\n",
       "black     35116\n",
       "silver    26767\n",
       "blue      18554\n",
       "red       17625\n",
       "grey      17401\n",
       "custom     5350\n",
       "green      4690\n",
       "brown      3735\n",
       "yellow     1262\n",
       "orange     1099\n",
       "purple      537\n",
       "Name: paint_color, dtype: int64"
      ]
     },
     "metadata": {},
     "execution_count": 22
    }
   ],
   "source": [
    "df['paint_color'].value_counts()"
   ]
  },
  {
   "cell_type": "code",
   "execution_count": 23,
   "metadata": {},
   "outputs": [],
   "source": [
    "df.drop(df[df['paint_color'] == 'custom'].index, inplace = True) "
   ]
  },
  {
   "cell_type": "code",
   "execution_count": 24,
   "metadata": {},
   "outputs": [
    {
     "output_type": "execute_result",
     "data": {
      "text/plain": [
       "white     45502\n",
       "black     35116\n",
       "silver    26767\n",
       "blue      18554\n",
       "red       17625\n",
       "grey      17401\n",
       "green      4690\n",
       "brown      3735\n",
       "yellow     1262\n",
       "orange     1099\n",
       "purple      537\n",
       "Name: paint_color, dtype: int64"
      ]
     },
     "metadata": {},
     "execution_count": 24
    }
   ],
   "source": [
    "df['paint_color'].value_counts()"
   ]
  },
  {
   "cell_type": "code",
   "execution_count": 25,
   "metadata": {},
   "outputs": [
    {
     "output_type": "execute_result",
     "data": {
      "text/plain": [
       "1         False\n",
       "2         False\n",
       "3         False\n",
       "5         False\n",
       "6         False\n",
       "          ...  \n",
       "423852    False\n",
       "423853    False\n",
       "423854    False\n",
       "423855    False\n",
       "423856    False\n",
       "Name: paint_color, Length: 354217, dtype: bool"
      ]
     },
     "metadata": {},
     "execution_count": 25
    }
   ],
   "source": [
    "df['paint_color'] == 'Nan'"
   ]
  },
  {
   "cell_type": "code",
   "execution_count": 26,
   "metadata": {},
   "outputs": [
    {
     "output_type": "execute_result",
     "data": {
      "text/plain": [
       "(354217, 12)"
      ]
     },
     "metadata": {},
     "execution_count": 26
    }
   ],
   "source": [
    "df.shape"
   ]
  },
  {
   "cell_type": "code",
   "execution_count": 27,
   "metadata": {},
   "outputs": [
    {
     "output_type": "execute_result",
     "data": {
      "text/plain": [
       "gas         229835\n",
       "diesel       17773\n",
       "other         7891\n",
       "hybrid        2906\n",
       "electric       480\n",
       "Name: fuel, dtype: int64"
      ]
     },
     "metadata": {},
     "execution_count": 27
    }
   ],
   "source": [
    "df['fuel'].value_counts()"
   ]
  },
  {
   "cell_type": "code",
   "execution_count": 28,
   "metadata": {},
   "outputs": [],
   "source": [
    "df.drop(df[df['fuel'] == 'other'].index, inplace = True) "
   ]
  },
  {
   "cell_type": "code",
   "execution_count": 29,
   "metadata": {},
   "outputs": [
    {
     "output_type": "execute_result",
     "data": {
      "text/plain": [
       "gas         229835\n",
       "diesel       17773\n",
       "hybrid        2906\n",
       "electric       480\n",
       "Name: fuel, dtype: int64"
      ]
     },
     "metadata": {},
     "execution_count": 29
    }
   ],
   "source": [
    "df['fuel'].value_counts()"
   ]
  },
  {
   "cell_type": "code",
   "execution_count": 30,
   "metadata": {},
   "outputs": [
    {
     "output_type": "execute_result",
     "data": {
      "text/plain": [
       "excellent    68455\n",
       "good         43931\n",
       "like new     13535\n",
       "fair          4955\n",
       "new            713\n",
       "salvage        199\n",
       "Name: condition, dtype: int64"
      ]
     },
     "metadata": {},
     "execution_count": 30
    }
   ],
   "source": [
    "df['condition'].value_counts()"
   ]
  },
  {
   "cell_type": "code",
   "execution_count": 31,
   "metadata": {},
   "outputs": [
    {
     "output_type": "execute_result",
     "data": {
      "text/plain": [
       "ford               47278\n",
       "chevrolet          37529\n",
       "toyota             20638\n",
       "honda              15760\n",
       "nissan             14169\n",
       "jeep               11561\n",
       "gmc                 9767\n",
       "dodge               9699\n",
       "ram                 9384\n",
       "hyundai             7242\n",
       "subaru              6307\n",
       "kia                 5755\n",
       "bmw                 5542\n",
       "volkswagen          5401\n",
       "chrysler            4927\n",
       "mercedes-benz       4639\n",
       "buick               3609\n",
       "cadillac            3459\n",
       "lexus               2936\n",
       "mazda               2835\n",
       "audi                2213\n",
       "acura               2154\n",
       "lincoln             2037\n",
       "pontiac             1866\n",
       "infiniti            1676\n",
       "mitsubishi          1394\n",
       "volvo               1323\n",
       "mercury             1073\n",
       "mini                 973\n",
       "rover                893\n",
       "saturn               847\n",
       "jaguar               507\n",
       "fiat                 373\n",
       "tesla                134\n",
       "alfa-romeo            65\n",
       "harley-davidson       47\n",
       "datsun                46\n",
       "ferrari               14\n",
       "land rover             8\n",
       "aston-martin           2\n",
       "hennessey              1\n",
       "Name: manufacturer, dtype: int64"
      ]
     },
     "metadata": {},
     "execution_count": 31
    }
   ],
   "source": [
    "df['manufacturer'].value_counts()"
   ]
  },
  {
   "cell_type": "code",
   "execution_count": 32,
   "metadata": {},
   "outputs": [
    {
     "output_type": "execute_result",
     "data": {
      "text/plain": [
       "2017.0    23466\n",
       "2013.0    16936\n",
       "2015.0    16874\n",
       "2014.0    16862\n",
       "2016.0    16400\n",
       "          ...  \n",
       "1945.0        1\n",
       "1922.0        1\n",
       "1921.0        1\n",
       "1920.0        1\n",
       "1913.0        1\n",
       "Name: year, Length: 102, dtype: int64"
      ]
     },
     "metadata": {},
     "execution_count": 32
    }
   ],
   "source": [
    "df['year'].value_counts()"
   ]
  },
  {
   "cell_type": "code",
   "execution_count": 33,
   "metadata": {},
   "outputs": [
    {
     "output_type": "execute_result",
     "data": {
      "text/plain": [
       "0             29155\n",
       "3500           3246\n",
       "8995           3163\n",
       "7995           3048\n",
       "6995           3007\n",
       "              ...  \n",
       "16967             1\n",
       "16876             1\n",
       "6609              1\n",
       "6732              1\n",
       "2039470154        1\n",
       "Name: price, Length: 14597, dtype: int64"
      ]
     },
     "metadata": {},
     "execution_count": 33
    }
   ],
   "source": [
    "df['price'].value_counts()"
   ]
  },
  {
   "cell_type": "code",
   "execution_count": 34,
   "metadata": {},
   "outputs": [],
   "source": [
    "df.drop(df[df['price'] == 0].index, inplace = True) "
   ]
  },
  {
   "cell_type": "code",
   "execution_count": 35,
   "metadata": {},
   "outputs": [
    {
     "output_type": "execute_result",
     "data": {
      "text/plain": [
       "3500     3246\n",
       "8995     3163\n",
       "7995     3048\n",
       "6995     3007\n",
       "5995     2980\n",
       "         ... \n",
       "14538       1\n",
       "3730        1\n",
       "42631       1\n",
       "17819       1\n",
       "19255       1\n",
       "Name: price, Length: 14596, dtype: int64"
      ]
     },
     "metadata": {},
     "execution_count": 35
    }
   ],
   "source": [
    "df['price'].value_counts()"
   ]
  },
  {
   "cell_type": "code",
   "execution_count": 36,
   "metadata": {},
   "outputs": [
    {
     "output_type": "execute_result",
     "data": {
      "text/plain": [
       "(317171, 12)"
      ]
     },
     "metadata": {},
     "execution_count": 36
    }
   ],
   "source": [
    "df.shape"
   ]
  },
  {
   "cell_type": "code",
   "execution_count": 37,
   "metadata": {},
   "outputs": [
    {
     "output_type": "execute_result",
     "data": {
      "text/plain": [
       "(68847, 12)"
      ]
     },
     "metadata": {},
     "execution_count": 37
    }
   ],
   "source": [
    "df = df.dropna()\n",
    "df.shape"
   ]
  },
  {
   "cell_type": "code",
   "execution_count": 38,
   "metadata": {},
   "outputs": [],
   "source": [
    "df['year'] = df['year'].astype(int)"
   ]
  },
  {
   "cell_type": "code",
   "execution_count": 39,
   "metadata": {},
   "outputs": [
    {
     "output_type": "execute_result",
     "data": {
      "text/plain": [
       "        price  year manufacturer                model  condition    cylinders  \\\n",
       "1        8750  2013      hyundai               sonata  excellent  4 cylinders   \n",
       "2       10900  2013       toyota                prius       good  4 cylinders   \n",
       "5       13995  2012         ford                f-150       good  6 cylinders   \n",
       "6        7995  2010    chevrolet              equinox       good  4 cylinders   \n",
       "7        8995  2011    chevrolet             traverse       good  6 cylinders   \n",
       "...       ...   ...          ...                  ...        ...          ...   \n",
       "423843  29500  2015       toyota  tacoma trd off road   like new  6 cylinders   \n",
       "423845   1600  2004        volvo                 xc70  excellent  5 cylinders   \n",
       "423852   1600  2006      hyundai               sonata       fair  6 cylinders   \n",
       "423853   9000  2003       toyota      sequoia limited  excellent  8 cylinders   \n",
       "423854    700  1994         ford                f-150       fair  6 cylinders   \n",
       "\n",
       "          fuel  odometer title_status transmission drive paint_color  \n",
       "1          gas   90821.0        clean    automatic   fwd        grey  \n",
       "2       hybrid   92800.0        clean    automatic   fwd        blue  \n",
       "5          gas  188406.0        clean    automatic   4wd        grey  \n",
       "6          gas  108124.0        clean    automatic   4wd        grey  \n",
       "7          gas  178054.0        clean    automatic   4wd       white  \n",
       "...        ...       ...          ...          ...   ...         ...  \n",
       "423843     gas   75000.0        clean    automatic   4wd        blue  \n",
       "423845     gas  292255.0        clean    automatic   4wd        blue  \n",
       "423852     gas  159980.0        clean    automatic   fwd        blue  \n",
       "423853     gas  160000.0        clean    automatic   4wd       green  \n",
       "423854     gas  212000.0        clean       manual   rwd       green  \n",
       "\n",
       "[68847 rows x 12 columns]"
      ],
      "text/html": "<div>\n<style scoped>\n    .dataframe tbody tr th:only-of-type {\n        vertical-align: middle;\n    }\n\n    .dataframe tbody tr th {\n        vertical-align: top;\n    }\n\n    .dataframe thead th {\n        text-align: right;\n    }\n</style>\n<table border=\"1\" class=\"dataframe\">\n  <thead>\n    <tr style=\"text-align: right;\">\n      <th></th>\n      <th>price</th>\n      <th>year</th>\n      <th>manufacturer</th>\n      <th>model</th>\n      <th>condition</th>\n      <th>cylinders</th>\n      <th>fuel</th>\n      <th>odometer</th>\n      <th>title_status</th>\n      <th>transmission</th>\n      <th>drive</th>\n      <th>paint_color</th>\n    </tr>\n  </thead>\n  <tbody>\n    <tr>\n      <th>1</th>\n      <td>8750</td>\n      <td>2013</td>\n      <td>hyundai</td>\n      <td>sonata</td>\n      <td>excellent</td>\n      <td>4 cylinders</td>\n      <td>gas</td>\n      <td>90821.0</td>\n      <td>clean</td>\n      <td>automatic</td>\n      <td>fwd</td>\n      <td>grey</td>\n    </tr>\n    <tr>\n      <th>2</th>\n      <td>10900</td>\n      <td>2013</td>\n      <td>toyota</td>\n      <td>prius</td>\n      <td>good</td>\n      <td>4 cylinders</td>\n      <td>hybrid</td>\n      <td>92800.0</td>\n      <td>clean</td>\n      <td>automatic</td>\n      <td>fwd</td>\n      <td>blue</td>\n    </tr>\n    <tr>\n      <th>5</th>\n      <td>13995</td>\n      <td>2012</td>\n      <td>ford</td>\n      <td>f-150</td>\n      <td>good</td>\n      <td>6 cylinders</td>\n      <td>gas</td>\n      <td>188406.0</td>\n      <td>clean</td>\n      <td>automatic</td>\n      <td>4wd</td>\n      <td>grey</td>\n    </tr>\n    <tr>\n      <th>6</th>\n      <td>7995</td>\n      <td>2010</td>\n      <td>chevrolet</td>\n      <td>equinox</td>\n      <td>good</td>\n      <td>4 cylinders</td>\n      <td>gas</td>\n      <td>108124.0</td>\n      <td>clean</td>\n      <td>automatic</td>\n      <td>4wd</td>\n      <td>grey</td>\n    </tr>\n    <tr>\n      <th>7</th>\n      <td>8995</td>\n      <td>2011</td>\n      <td>chevrolet</td>\n      <td>traverse</td>\n      <td>good</td>\n      <td>6 cylinders</td>\n      <td>gas</td>\n      <td>178054.0</td>\n      <td>clean</td>\n      <td>automatic</td>\n      <td>4wd</td>\n      <td>white</td>\n    </tr>\n    <tr>\n      <th>...</th>\n      <td>...</td>\n      <td>...</td>\n      <td>...</td>\n      <td>...</td>\n      <td>...</td>\n      <td>...</td>\n      <td>...</td>\n      <td>...</td>\n      <td>...</td>\n      <td>...</td>\n      <td>...</td>\n      <td>...</td>\n    </tr>\n    <tr>\n      <th>423843</th>\n      <td>29500</td>\n      <td>2015</td>\n      <td>toyota</td>\n      <td>tacoma trd off road</td>\n      <td>like new</td>\n      <td>6 cylinders</td>\n      <td>gas</td>\n      <td>75000.0</td>\n      <td>clean</td>\n      <td>automatic</td>\n      <td>4wd</td>\n      <td>blue</td>\n    </tr>\n    <tr>\n      <th>423845</th>\n      <td>1600</td>\n      <td>2004</td>\n      <td>volvo</td>\n      <td>xc70</td>\n      <td>excellent</td>\n      <td>5 cylinders</td>\n      <td>gas</td>\n      <td>292255.0</td>\n      <td>clean</td>\n      <td>automatic</td>\n      <td>4wd</td>\n      <td>blue</td>\n    </tr>\n    <tr>\n      <th>423852</th>\n      <td>1600</td>\n      <td>2006</td>\n      <td>hyundai</td>\n      <td>sonata</td>\n      <td>fair</td>\n      <td>6 cylinders</td>\n      <td>gas</td>\n      <td>159980.0</td>\n      <td>clean</td>\n      <td>automatic</td>\n      <td>fwd</td>\n      <td>blue</td>\n    </tr>\n    <tr>\n      <th>423853</th>\n      <td>9000</td>\n      <td>2003</td>\n      <td>toyota</td>\n      <td>sequoia limited</td>\n      <td>excellent</td>\n      <td>8 cylinders</td>\n      <td>gas</td>\n      <td>160000.0</td>\n      <td>clean</td>\n      <td>automatic</td>\n      <td>4wd</td>\n      <td>green</td>\n    </tr>\n    <tr>\n      <th>423854</th>\n      <td>700</td>\n      <td>1994</td>\n      <td>ford</td>\n      <td>f-150</td>\n      <td>fair</td>\n      <td>6 cylinders</td>\n      <td>gas</td>\n      <td>212000.0</td>\n      <td>clean</td>\n      <td>manual</td>\n      <td>rwd</td>\n      <td>green</td>\n    </tr>\n  </tbody>\n</table>\n<p>68847 rows × 12 columns</p>\n</div>"
     },
     "metadata": {},
     "execution_count": 39
    }
   ],
   "source": [
    "df"
   ]
  },
  {
   "cell_type": "code",
   "execution_count": 40,
   "metadata": {},
   "outputs": [],
   "source": [
    "file = open('Data/vehicles_new', 'wb')\n",
    "pk.dump(df, file)\n",
    "file.close()"
   ]
  },
  {
   "cell_type": "code",
   "execution_count": null,
   "metadata": {},
   "outputs": [],
   "source": []
  }
 ]
}