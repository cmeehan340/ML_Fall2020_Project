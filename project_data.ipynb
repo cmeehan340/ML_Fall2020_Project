{
 "metadata": {
  "language_info": {
   "codemirror_mode": {
    "name": "ipython",
    "version": 3
   },
   "file_extension": ".py",
   "mimetype": "text/x-python",
   "name": "python",
   "nbconvert_exporter": "python",
   "pygments_lexer": "ipython3",
   "version": "3.8.3-final"
  },
  "orig_nbformat": 2,
  "kernelspec": {
   "name": "python3",
   "display_name": "Python 3"
  }
 },
 "nbformat": 4,
 "nbformat_minor": 2,
 "cells": [
  {
   "source": [
    "# Classifiying Car Prices\n",
    "## Chris Meehan\n",
    "## 11/15/2020\n",
    "## COMP740 Machine Learning - Fall 2020\n",
    "\n",
    "```project_data.ipynb``` - Data Cleanup and Visualization\n",
    "\n",
    "Original Data Source: https://www.kaggle.com/austinreese/craigslist-carstrucks-data\n"
   ],
   "cell_type": "markdown",
   "metadata": {}
  },
  {
   "cell_type": "code",
   "execution_count": 1,
   "metadata": {},
   "outputs": [],
   "source": [
    "import numpy as np\n",
    "import pandas as pd\n",
    "import matplotlib.pyplot as plt\n",
    "import seaborn as sns\n",
    "import pickle as pk"
   ]
  },
  {
   "cell_type": "code",
   "execution_count": 2,
   "metadata": {},
   "outputs": [],
   "source": [
    "df = pd.read_csv('Data/vehicles.csv')"
   ]
  },
  {
   "cell_type": "code",
   "execution_count": 3,
   "metadata": {},
   "outputs": [
    {
     "output_type": "execute_result",
     "data": {
      "text/plain": [
       "                id                                                url  \\\n",
       "0       7184791621  https://duluth.craigslist.org/ctd/d/duluth-200...   \n",
       "1       7184773187  https://duluth.craigslist.org/cto/d/saginaw-20...   \n",
       "2       7193375964  https://newhaven.craigslist.org/cto/d/stratfor...   \n",
       "3       7195108810  https://albuquerque.craigslist.org/cto/d/albuq...   \n",
       "4       7184712241  https://duluth.craigslist.org/ctd/d/rush-city-...   \n",
       "...            ...                                                ...   \n",
       "423852  7184919761  https://duluth.craigslist.org/cto/d/duluth-200...   \n",
       "423853  7184844576  https://duluth.craigslist.org/cto/d/duluth-200...   \n",
       "423854  7184805809  https://duluth.craigslist.org/cto/d/duluth-94-...   \n",
       "423855  7184791927  https://duluth.craigslist.org/ctd/d/duluth-199...   \n",
       "423856  7195109037  https://albuquerque.craigslist.org/ctd/d/albuq...   \n",
       "\n",
       "                   region                          region_url  price    year  \\\n",
       "0       duluth / superior       https://duluth.craigslist.org   6995  2000.0   \n",
       "1       duluth / superior       https://duluth.craigslist.org   8750  2013.0   \n",
       "2               new haven     https://newhaven.craigslist.org  10900  2013.0   \n",
       "3             albuquerque  https://albuquerque.craigslist.org  12500  2003.0   \n",
       "4       duluth / superior       https://duluth.craigslist.org  16995  2007.0   \n",
       "...                   ...                                 ...    ...     ...   \n",
       "423852  duluth / superior       https://duluth.craigslist.org   1600  2006.0   \n",
       "423853  duluth / superior       https://duluth.craigslist.org   9000  2003.0   \n",
       "423854  duluth / superior       https://duluth.craigslist.org    700  1994.0   \n",
       "423855  duluth / superior       https://duluth.craigslist.org   3800  1999.0   \n",
       "423856        albuquerque  https://albuquerque.craigslist.org   8650  2015.0   \n",
       "\n",
       "       manufacturer                  model  condition    cylinders  ... drive  \\\n",
       "0               gmc        new sierra 1500  excellent  8 cylinders  ...   4wd   \n",
       "1           hyundai                 sonata  excellent  4 cylinders  ...   fwd   \n",
       "2            toyota                  prius       good  4 cylinders  ...   fwd   \n",
       "3        mitsubishi                 lancer       good  4 cylinders  ...   4wd   \n",
       "4               gmc  sierra classic 2500hd       good  8 cylinders  ...   4wd   \n",
       "...             ...                    ...        ...          ...  ...   ...   \n",
       "423852      hyundai                 sonata       fair  6 cylinders  ...   fwd   \n",
       "423853       toyota        sequoia limited  excellent  8 cylinders  ...   4wd   \n",
       "423854         ford                  f-150       fair  6 cylinders  ...   rwd   \n",
       "423855      lincoln               town car  excellent  8 cylinders  ...   rwd   \n",
       "423856       nissan                  versa        NaN          NaN  ...   fwd   \n",
       "\n",
       "             size   type paint_color  \\\n",
       "0             NaN    NaN         red   \n",
       "1             NaN    NaN        grey   \n",
       "2             NaN    NaN        blue   \n",
       "3        mid-size  sedan        grey   \n",
       "4       full-size  truck       white   \n",
       "...           ...    ...         ...   \n",
       "423852        NaN  sedan        blue   \n",
       "423853  full-size    SUV       green   \n",
       "423854        NaN    NaN       green   \n",
       "423855        NaN  sedan         NaN   \n",
       "423856    compact  sedan      silver   \n",
       "\n",
       "                                                image_url  \\\n",
       "0       https://images.craigslist.org/00n0n_f06ykBMcdh...   \n",
       "1       https://images.craigslist.org/00d0d_kgZ6xoeRw2...   \n",
       "2       https://images.craigslist.org/00d0d_3sHGxPbY2O...   \n",
       "3       https://images.craigslist.org/00m0m_4a8Pb6JbMG...   \n",
       "4       https://images.craigslist.org/01414_g093aPtSMW...   \n",
       "...                                                   ...   \n",
       "423852  https://images.craigslist.org/00E0E_8o5RKLUz3o...   \n",
       "423853  https://images.craigslist.org/00G0G_BT0Ha3X736...   \n",
       "423854  https://images.craigslist.org/00L0L_2MgECwYWhp...   \n",
       "423855  https://images.craigslist.org/00q0q_6msyGUIqK3...   \n",
       "423856  https://images.craigslist.org/00e0e_aTHizIb1II...   \n",
       "\n",
       "                                              description county state  \\\n",
       "0       2000 *** GMC New Sierra 1500 Ext Cab 157.5  WB...    NaN    mn   \n",
       "1       For Sale:  2013 Hyundai Sonata GLS - $8750.  O...    NaN    mn   \n",
       "2       2013 Prius V Model Two. One owner—must sell my...    NaN    ct   \n",
       "3       2003 Mitsubishi Lancer Evolution, silver.  Abo...    NaN    nm   \n",
       "4       **Bad Credit, No Credit... No Problem!**2007 G...    NaN    mn   \n",
       "...                                                   ...    ...   ...   \n",
       "423852  Motor runs and drives good. Transmission shift...    NaN    mn   \n",
       "423853  2 owner 0 rust not from here... Leather ,roof ...    NaN    mn   \n",
       "423854  I'm selling this beautiful old pickup that I j...    NaN    mn   \n",
       "423855  1999 *** Lincoln Town Car 4dr Sdn Signature Se...    NaN    mn   \n",
       "423856  2015 Nissan Versa S     Offered by: Southwest ...    NaN    nm   \n",
       "\n",
       "            lat      long  \n",
       "0       46.8433  -92.2550  \n",
       "1       46.9074  -92.4638  \n",
       "2       41.1770  -73.1336  \n",
       "3       35.1868 -106.6650  \n",
       "4       45.6836  -92.9648  \n",
       "...         ...       ...  \n",
       "423852  46.8348  -92.0742  \n",
       "423853  46.9369  -91.9325  \n",
       "423854  46.7715  -92.1279  \n",
       "423855  46.8433  -92.2550  \n",
       "423856  35.1851 -106.5850  \n",
       "\n",
       "[423857 rows x 25 columns]"
      ],
      "text/html": "<div>\n<style scoped>\n    .dataframe tbody tr th:only-of-type {\n        vertical-align: middle;\n    }\n\n    .dataframe tbody tr th {\n        vertical-align: top;\n    }\n\n    .dataframe thead th {\n        text-align: right;\n    }\n</style>\n<table border=\"1\" class=\"dataframe\">\n  <thead>\n    <tr style=\"text-align: right;\">\n      <th></th>\n      <th>id</th>\n      <th>url</th>\n      <th>region</th>\n      <th>region_url</th>\n      <th>price</th>\n      <th>year</th>\n      <th>manufacturer</th>\n      <th>model</th>\n      <th>condition</th>\n      <th>cylinders</th>\n      <th>...</th>\n      <th>drive</th>\n      <th>size</th>\n      <th>type</th>\n      <th>paint_color</th>\n      <th>image_url</th>\n      <th>description</th>\n      <th>county</th>\n      <th>state</th>\n      <th>lat</th>\n      <th>long</th>\n    </tr>\n  </thead>\n  <tbody>\n    <tr>\n      <th>0</th>\n      <td>7184791621</td>\n      <td>https://duluth.craigslist.org/ctd/d/duluth-200...</td>\n      <td>duluth / superior</td>\n      <td>https://duluth.craigslist.org</td>\n      <td>6995</td>\n      <td>2000.0</td>\n      <td>gmc</td>\n      <td>new sierra 1500</td>\n      <td>excellent</td>\n      <td>8 cylinders</td>\n      <td>...</td>\n      <td>4wd</td>\n      <td>NaN</td>\n      <td>NaN</td>\n      <td>red</td>\n      <td>https://images.craigslist.org/00n0n_f06ykBMcdh...</td>\n      <td>2000 *** GMC New Sierra 1500 Ext Cab 157.5  WB...</td>\n      <td>NaN</td>\n      <td>mn</td>\n      <td>46.8433</td>\n      <td>-92.2550</td>\n    </tr>\n    <tr>\n      <th>1</th>\n      <td>7184773187</td>\n      <td>https://duluth.craigslist.org/cto/d/saginaw-20...</td>\n      <td>duluth / superior</td>\n      <td>https://duluth.craigslist.org</td>\n      <td>8750</td>\n      <td>2013.0</td>\n      <td>hyundai</td>\n      <td>sonata</td>\n      <td>excellent</td>\n      <td>4 cylinders</td>\n      <td>...</td>\n      <td>fwd</td>\n      <td>NaN</td>\n      <td>NaN</td>\n      <td>grey</td>\n      <td>https://images.craigslist.org/00d0d_kgZ6xoeRw2...</td>\n      <td>For Sale:  2013 Hyundai Sonata GLS - $8750.  O...</td>\n      <td>NaN</td>\n      <td>mn</td>\n      <td>46.9074</td>\n      <td>-92.4638</td>\n    </tr>\n    <tr>\n      <th>2</th>\n      <td>7193375964</td>\n      <td>https://newhaven.craigslist.org/cto/d/stratfor...</td>\n      <td>new haven</td>\n      <td>https://newhaven.craigslist.org</td>\n      <td>10900</td>\n      <td>2013.0</td>\n      <td>toyota</td>\n      <td>prius</td>\n      <td>good</td>\n      <td>4 cylinders</td>\n      <td>...</td>\n      <td>fwd</td>\n      <td>NaN</td>\n      <td>NaN</td>\n      <td>blue</td>\n      <td>https://images.craigslist.org/00d0d_3sHGxPbY2O...</td>\n      <td>2013 Prius V Model Two. One owner—must sell my...</td>\n      <td>NaN</td>\n      <td>ct</td>\n      <td>41.1770</td>\n      <td>-73.1336</td>\n    </tr>\n    <tr>\n      <th>3</th>\n      <td>7195108810</td>\n      <td>https://albuquerque.craigslist.org/cto/d/albuq...</td>\n      <td>albuquerque</td>\n      <td>https://albuquerque.craigslist.org</td>\n      <td>12500</td>\n      <td>2003.0</td>\n      <td>mitsubishi</td>\n      <td>lancer</td>\n      <td>good</td>\n      <td>4 cylinders</td>\n      <td>...</td>\n      <td>4wd</td>\n      <td>mid-size</td>\n      <td>sedan</td>\n      <td>grey</td>\n      <td>https://images.craigslist.org/00m0m_4a8Pb6JbMG...</td>\n      <td>2003 Mitsubishi Lancer Evolution, silver.  Abo...</td>\n      <td>NaN</td>\n      <td>nm</td>\n      <td>35.1868</td>\n      <td>-106.6650</td>\n    </tr>\n    <tr>\n      <th>4</th>\n      <td>7184712241</td>\n      <td>https://duluth.craigslist.org/ctd/d/rush-city-...</td>\n      <td>duluth / superior</td>\n      <td>https://duluth.craigslist.org</td>\n      <td>16995</td>\n      <td>2007.0</td>\n      <td>gmc</td>\n      <td>sierra classic 2500hd</td>\n      <td>good</td>\n      <td>8 cylinders</td>\n      <td>...</td>\n      <td>4wd</td>\n      <td>full-size</td>\n      <td>truck</td>\n      <td>white</td>\n      <td>https://images.craigslist.org/01414_g093aPtSMW...</td>\n      <td>**Bad Credit, No Credit... No Problem!**2007 G...</td>\n      <td>NaN</td>\n      <td>mn</td>\n      <td>45.6836</td>\n      <td>-92.9648</td>\n    </tr>\n    <tr>\n      <th>...</th>\n      <td>...</td>\n      <td>...</td>\n      <td>...</td>\n      <td>...</td>\n      <td>...</td>\n      <td>...</td>\n      <td>...</td>\n      <td>...</td>\n      <td>...</td>\n      <td>...</td>\n      <td>...</td>\n      <td>...</td>\n      <td>...</td>\n      <td>...</td>\n      <td>...</td>\n      <td>...</td>\n      <td>...</td>\n      <td>...</td>\n      <td>...</td>\n      <td>...</td>\n      <td>...</td>\n    </tr>\n    <tr>\n      <th>423852</th>\n      <td>7184919761</td>\n      <td>https://duluth.craigslist.org/cto/d/duluth-200...</td>\n      <td>duluth / superior</td>\n      <td>https://duluth.craigslist.org</td>\n      <td>1600</td>\n      <td>2006.0</td>\n      <td>hyundai</td>\n      <td>sonata</td>\n      <td>fair</td>\n      <td>6 cylinders</td>\n      <td>...</td>\n      <td>fwd</td>\n      <td>NaN</td>\n      <td>sedan</td>\n      <td>blue</td>\n      <td>https://images.craigslist.org/00E0E_8o5RKLUz3o...</td>\n      <td>Motor runs and drives good. Transmission shift...</td>\n      <td>NaN</td>\n      <td>mn</td>\n      <td>46.8348</td>\n      <td>-92.0742</td>\n    </tr>\n    <tr>\n      <th>423853</th>\n      <td>7184844576</td>\n      <td>https://duluth.craigslist.org/cto/d/duluth-200...</td>\n      <td>duluth / superior</td>\n      <td>https://duluth.craigslist.org</td>\n      <td>9000</td>\n      <td>2003.0</td>\n      <td>toyota</td>\n      <td>sequoia limited</td>\n      <td>excellent</td>\n      <td>8 cylinders</td>\n      <td>...</td>\n      <td>4wd</td>\n      <td>full-size</td>\n      <td>SUV</td>\n      <td>green</td>\n      <td>https://images.craigslist.org/00G0G_BT0Ha3X736...</td>\n      <td>2 owner 0 rust not from here... Leather ,roof ...</td>\n      <td>NaN</td>\n      <td>mn</td>\n      <td>46.9369</td>\n      <td>-91.9325</td>\n    </tr>\n    <tr>\n      <th>423854</th>\n      <td>7184805809</td>\n      <td>https://duluth.craigslist.org/cto/d/duluth-94-...</td>\n      <td>duluth / superior</td>\n      <td>https://duluth.craigslist.org</td>\n      <td>700</td>\n      <td>1994.0</td>\n      <td>ford</td>\n      <td>f-150</td>\n      <td>fair</td>\n      <td>6 cylinders</td>\n      <td>...</td>\n      <td>rwd</td>\n      <td>NaN</td>\n      <td>NaN</td>\n      <td>green</td>\n      <td>https://images.craigslist.org/00L0L_2MgECwYWhp...</td>\n      <td>I'm selling this beautiful old pickup that I j...</td>\n      <td>NaN</td>\n      <td>mn</td>\n      <td>46.7715</td>\n      <td>-92.1279</td>\n    </tr>\n    <tr>\n      <th>423855</th>\n      <td>7184791927</td>\n      <td>https://duluth.craigslist.org/ctd/d/duluth-199...</td>\n      <td>duluth / superior</td>\n      <td>https://duluth.craigslist.org</td>\n      <td>3800</td>\n      <td>1999.0</td>\n      <td>lincoln</td>\n      <td>town car</td>\n      <td>excellent</td>\n      <td>8 cylinders</td>\n      <td>...</td>\n      <td>rwd</td>\n      <td>NaN</td>\n      <td>sedan</td>\n      <td>NaN</td>\n      <td>https://images.craigslist.org/00q0q_6msyGUIqK3...</td>\n      <td>1999 *** Lincoln Town Car 4dr Sdn Signature Se...</td>\n      <td>NaN</td>\n      <td>mn</td>\n      <td>46.8433</td>\n      <td>-92.2550</td>\n    </tr>\n    <tr>\n      <th>423856</th>\n      <td>7195109037</td>\n      <td>https://albuquerque.craigslist.org/ctd/d/albuq...</td>\n      <td>albuquerque</td>\n      <td>https://albuquerque.craigslist.org</td>\n      <td>8650</td>\n      <td>2015.0</td>\n      <td>nissan</td>\n      <td>versa</td>\n      <td>NaN</td>\n      <td>NaN</td>\n      <td>...</td>\n      <td>fwd</td>\n      <td>compact</td>\n      <td>sedan</td>\n      <td>silver</td>\n      <td>https://images.craigslist.org/00e0e_aTHizIb1II...</td>\n      <td>2015 Nissan Versa S     Offered by: Southwest ...</td>\n      <td>NaN</td>\n      <td>nm</td>\n      <td>35.1851</td>\n      <td>-106.5850</td>\n    </tr>\n  </tbody>\n</table>\n<p>423857 rows × 25 columns</p>\n</div>"
     },
     "metadata": {},
     "execution_count": 3
    }
   ],
   "source": [
    "df"
   ]
  },
  {
   "source": [
    "## Data Cleanup"
   ],
   "cell_type": "markdown",
   "metadata": {}
  },
  {
   "source": [
    "df.columns"
   ],
   "cell_type": "code",
   "metadata": {},
   "execution_count": 4,
   "outputs": [
    {
     "output_type": "execute_result",
     "data": {
      "text/plain": [
       "Index(['id', 'url', 'region', 'region_url', 'price', 'year', 'manufacturer',\n",
       "       'model', 'condition', 'cylinders', 'fuel', 'odometer', 'title_status',\n",
       "       'transmission', 'vin', 'drive', 'size', 'type', 'paint_color',\n",
       "       'image_url', 'description', 'county', 'state', 'lat', 'long'],\n",
       "      dtype='object')"
      ]
     },
     "metadata": {},
     "execution_count": 4
    }
   ]
  },
  {
   "source": [
    "Going to drop many of these columns as they will be of no use in helping us predict price"
   ],
   "cell_type": "markdown",
   "metadata": {}
  },
  {
   "cell_type": "code",
   "execution_count": 5,
   "metadata": {},
   "outputs": [],
   "source": [
    "df = df.drop(columns=['id', 'url', 'region', 'region_url', 'county', 'image_url', 'county','state','lat','long','vin','size','type','description'])"
   ]
  },
  {
   "source": [
    "As there is a very large amount of data in this dataset, dropping all the na values should leave me with plenty of data intact."
   ],
   "cell_type": "markdown",
   "metadata": {}
  },
  {
   "cell_type": "code",
   "execution_count": 6,
   "metadata": {},
   "outputs": [
    {
     "output_type": "execute_result",
     "data": {
      "text/plain": [
       "(91489, 12)"
      ]
     },
     "metadata": {},
     "execution_count": 6
    }
   ],
   "source": [
    "df = df.dropna()\n",
    "df.shape"
   ]
  },
  {
   "cell_type": "code",
   "execution_count": 7,
   "metadata": {},
   "outputs": [
    {
     "output_type": "execute_result",
     "data": {
      "text/plain": [
       "f-150                        1396\n",
       "silverado 1500               1307\n",
       "1500                          719\n",
       "escape                        680\n",
       "camry                         677\n",
       "                             ... \n",
       "explorer xlt 4 x 4              1\n",
       "d21 hardbody pickup truck       1\n",
       "f15o step side 4 x 4            1\n",
       "mdx sh-awd w/tech plus          1\n",
       "golf gti turbo                  1\n",
       "Name: model, Length: 10392, dtype: int64"
      ]
     },
     "metadata": {},
     "execution_count": 7
    }
   ],
   "source": [
    "df['model'].value_counts()"
   ]
  },
  {
   "source": [
    "As it may be difficult for this to predict on vehicles with only one occurance, i am going to drop any models that occur in the data less than 100 times."
   ],
   "cell_type": "markdown",
   "metadata": {}
  },
  {
   "cell_type": "code",
   "execution_count": 8,
   "metadata": {},
   "outputs": [],
   "source": [
    "counts = df['model'].value_counts()\n",
    "to_remove = counts[counts <= 100].index\n",
    "df = df[~df.model.isin(to_remove)]"
   ]
  },
  {
   "cell_type": "code",
   "execution_count": 9,
   "metadata": {},
   "outputs": [
    {
     "output_type": "execute_result",
     "data": {
      "text/plain": [
       "f-150                   1396\n",
       "silverado 1500          1307\n",
       "1500                     719\n",
       "escape                   680\n",
       "camry                    677\n",
       "                        ... \n",
       "super duty f-350 srw     105\n",
       "accord ex-l              105\n",
       "beetle                   104\n",
       "edge sel                 103\n",
       "cooper                   101\n",
       "Name: model, Length: 162, dtype: int64"
      ]
     },
     "metadata": {},
     "execution_count": 9
    }
   ],
   "source": [
    "df['model'].value_counts()"
   ]
  },
  {
   "cell_type": "code",
   "execution_count": 10,
   "metadata": {},
   "outputs": [
    {
     "output_type": "execute_result",
     "data": {
      "text/plain": [
       "(40773, 12)"
      ]
     },
     "metadata": {},
     "execution_count": 10
    }
   ],
   "source": [
    "df.shape"
   ]
  },
  {
   "source": [
    "Now i plan to work with each feature and clean them up individually.  "
   ],
   "cell_type": "markdown",
   "metadata": {}
  },
  {
   "cell_type": "code",
   "execution_count": 11,
   "metadata": {},
   "outputs": [
    {
     "output_type": "execute_result",
     "data": {
      "text/plain": [
       "4 cylinders     15733\n",
       "6 cylinders     13668\n",
       "8 cylinders     10828\n",
       "5 cylinders       268\n",
       "10 cylinders      189\n",
       "3 cylinders        47\n",
       "other              39\n",
       "12 cylinders        1\n",
       "Name: cylinders, dtype: int64"
      ]
     },
     "metadata": {},
     "execution_count": 11
    }
   ],
   "source": [
    "df['cylinders'].value_counts()"
   ]
  },
  {
   "cell_type": "code",
   "execution_count": 12,
   "metadata": {},
   "outputs": [],
   "source": [
    "df.drop(df[df['cylinders'] == 'other'].index, inplace = True) "
   ]
  },
  {
   "cell_type": "code",
   "execution_count": 13,
   "metadata": {},
   "outputs": [
    {
     "output_type": "execute_result",
     "data": {
      "text/plain": [
       "4 cylinders     15733\n",
       "6 cylinders     13668\n",
       "8 cylinders     10828\n",
       "5 cylinders       268\n",
       "10 cylinders      189\n",
       "3 cylinders        47\n",
       "12 cylinders        1\n",
       "Name: cylinders, dtype: int64"
      ]
     },
     "metadata": {},
     "execution_count": 13
    }
   ],
   "source": [
    "df['cylinders'].value_counts()"
   ]
  },
  {
   "cell_type": "code",
   "execution_count": 14,
   "metadata": {},
   "outputs": [],
   "source": [
    "df['cylinders'] = df['cylinders'].str.strip('cylinders')"
   ]
  },
  {
   "cell_type": "code",
   "execution_count": 15,
   "metadata": {},
   "outputs": [
    {
     "output_type": "execute_result",
     "data": {
      "text/plain": [
       "clean         38487\n",
       "rebuilt        1235\n",
       "salvage         486\n",
       "lien            474\n",
       "missing          36\n",
       "parts only       16\n",
       "Name: title_status, dtype: int64"
      ]
     },
     "metadata": {},
     "execution_count": 15
    }
   ],
   "source": [
    "df['title_status'].value_counts()"
   ]
  },
  {
   "source": [
    "As these may be outliers in data i will remove cars with salvage, parts only and missing titles.  "
   ],
   "cell_type": "markdown",
   "metadata": {}
  },
  {
   "cell_type": "code",
   "execution_count": 16,
   "metadata": {},
   "outputs": [],
   "source": [
    "df = df.drop(df.loc[df['title_status'] == 'salvage'].index)\n",
    "df = df.drop(df.loc[df['title_status'] == 'parts only'].index)\n",
    "df = df.drop(df.loc[df['title_status'] == 'missing'].index)"
   ]
  },
  {
   "cell_type": "code",
   "execution_count": 17,
   "metadata": {},
   "outputs": [
    {
     "output_type": "execute_result",
     "data": {
      "text/plain": [
       "clean      38487\n",
       "rebuilt     1235\n",
       "lien         474\n",
       "Name: title_status, dtype: int64"
      ]
     },
     "metadata": {},
     "execution_count": 17
    }
   ],
   "source": [
    "df['title_status'].value_counts()"
   ]
  },
  {
   "cell_type": "code",
   "execution_count": 18,
   "metadata": {},
   "outputs": [
    {
     "output_type": "execute_result",
     "data": {
      "text/plain": [
       "automatic    37063\n",
       "manual        2609\n",
       "other          524\n",
       "Name: transmission, dtype: int64"
      ]
     },
     "metadata": {},
     "execution_count": 18
    }
   ],
   "source": [
    "df['transmission'].value_counts()"
   ]
  },
  {
   "cell_type": "code",
   "execution_count": 19,
   "metadata": {},
   "outputs": [],
   "source": [
    "df.drop(df[df['transmission'] == 'other'].index, inplace = True) "
   ]
  },
  {
   "cell_type": "code",
   "execution_count": 20,
   "metadata": {},
   "outputs": [
    {
     "output_type": "execute_result",
     "data": {
      "text/plain": [
       "automatic    37063\n",
       "manual        2609\n",
       "Name: transmission, dtype: int64"
      ]
     },
     "metadata": {},
     "execution_count": 20
    }
   ],
   "source": [
    "df['transmission'].value_counts()"
   ]
  },
  {
   "cell_type": "code",
   "execution_count": 21,
   "metadata": {},
   "outputs": [
    {
     "output_type": "execute_result",
     "data": {
      "text/plain": [
       "fwd    16605\n",
       "4wd    16213\n",
       "rwd     6854\n",
       "Name: drive, dtype: int64"
      ]
     },
     "metadata": {},
     "execution_count": 21
    }
   ],
   "source": [
    "df['drive'].value_counts()"
   ]
  },
  {
   "cell_type": "code",
   "execution_count": 22,
   "metadata": {},
   "outputs": [
    {
     "output_type": "execute_result",
     "data": {
      "text/plain": [
       "white     9481\n",
       "black     7088\n",
       "silver    6146\n",
       "grey      4860\n",
       "blue      4239\n",
       "red       4010\n",
       "green     1276\n",
       "brown     1025\n",
       "custom    1010\n",
       "yellow     245\n",
       "orange     175\n",
       "purple     117\n",
       "Name: paint_color, dtype: int64"
      ]
     },
     "metadata": {},
     "execution_count": 22
    }
   ],
   "source": [
    "df['paint_color'].value_counts()"
   ]
  },
  {
   "cell_type": "code",
   "execution_count": 23,
   "metadata": {},
   "outputs": [],
   "source": [
    "df.drop(df[df['paint_color'] == 'custom'].index, inplace = True) "
   ]
  },
  {
   "cell_type": "code",
   "execution_count": 24,
   "metadata": {},
   "outputs": [
    {
     "output_type": "execute_result",
     "data": {
      "text/plain": [
       "white     9481\n",
       "black     7088\n",
       "silver    6146\n",
       "grey      4860\n",
       "blue      4239\n",
       "red       4010\n",
       "green     1276\n",
       "brown     1025\n",
       "yellow     245\n",
       "orange     175\n",
       "purple     117\n",
       "Name: paint_color, dtype: int64"
      ]
     },
     "metadata": {},
     "execution_count": 24
    }
   ],
   "source": [
    "df['paint_color'].value_counts()"
   ]
  },
  {
   "cell_type": "code",
   "execution_count": 25,
   "metadata": {},
   "outputs": [
    {
     "output_type": "execute_result",
     "data": {
      "text/plain": [
       "gas         36087\n",
       "diesel       2012\n",
       "hybrid        410\n",
       "other         152\n",
       "electric        1\n",
       "Name: fuel, dtype: int64"
      ]
     },
     "metadata": {},
     "execution_count": 25
    }
   ],
   "source": [
    "df['fuel'].value_counts()"
   ]
  },
  {
   "cell_type": "code",
   "execution_count": 26,
   "metadata": {},
   "outputs": [],
   "source": [
    "df.drop(df[df['fuel'] == 'other'].index, inplace = True) \n",
    "df.drop(df[df['fuel'] == 'electric'].index, inplace = True) "
   ]
  },
  {
   "cell_type": "code",
   "execution_count": 27,
   "metadata": {},
   "outputs": [
    {
     "output_type": "execute_result",
     "data": {
      "text/plain": [
       "gas       36087\n",
       "diesel     2012\n",
       "hybrid      410\n",
       "Name: fuel, dtype: int64"
      ]
     },
     "metadata": {},
     "execution_count": 27
    }
   ],
   "source": [
    "df['fuel'].value_counts()"
   ]
  },
  {
   "cell_type": "code",
   "execution_count": 28,
   "metadata": {},
   "outputs": [
    {
     "output_type": "execute_result",
     "data": {
      "text/plain": [
       "excellent    19455\n",
       "good         14000\n",
       "like new      3434\n",
       "fair          1406\n",
       "new            160\n",
       "salvage         54\n",
       "Name: condition, dtype: int64"
      ]
     },
     "metadata": {},
     "execution_count": 28
    }
   ],
   "source": [
    "df['condition'].value_counts()"
   ]
  },
  {
   "cell_type": "code",
   "execution_count": 29,
   "metadata": {},
   "outputs": [],
   "source": [
    "df.drop(df[df['condition'] == 'salvage'].index, inplace = True)"
   ]
  },
  {
   "cell_type": "code",
   "execution_count": 30,
   "metadata": {},
   "outputs": [
    {
     "output_type": "execute_result",
     "data": {
      "text/plain": [
       "ford             8271\n",
       "chevrolet        7128\n",
       "toyota           3757\n",
       "honda            3139\n",
       "nissan           2258\n",
       "jeep             2200\n",
       "gmc              1474\n",
       "dodge            1348\n",
       "ram              1331\n",
       "hyundai          1183\n",
       "subaru           1130\n",
       "volkswagen        856\n",
       "chrysler          813\n",
       "kia               656\n",
       "bmw               607\n",
       "cadillac          432\n",
       "buick             291\n",
       "mazda             289\n",
       "acura             284\n",
       "pontiac           222\n",
       "lexus             213\n",
       "mercedes-benz     145\n",
       "audi              127\n",
       "saturn            108\n",
       "lincoln           101\n",
       "mini               91\n",
       "rover               1\n",
       "Name: manufacturer, dtype: int64"
      ]
     },
     "metadata": {},
     "execution_count": 30
    }
   ],
   "source": [
    "df['manufacturer'].value_counts()"
   ]
  },
  {
   "cell_type": "code",
   "execution_count": 31,
   "metadata": {},
   "outputs": [],
   "source": [
    "df = df.drop(df.loc[df['manufacturer'] == 'rover'].index)"
   ]
  },
  {
   "cell_type": "code",
   "execution_count": 32,
   "metadata": {},
   "outputs": [
    {
     "output_type": "execute_result",
     "data": {
      "text/plain": [
       "2013.0    2898\n",
       "2011.0    2880\n",
       "2012.0    2750\n",
       "2008.0    2482\n",
       "2015.0    2447\n",
       "          ... \n",
       "1959.0       2\n",
       "1953.0       2\n",
       "1958.0       1\n",
       "1955.0       1\n",
       "1952.0       1\n",
       "Name: year, Length: 66, dtype: int64"
      ]
     },
     "metadata": {},
     "execution_count": 32
    }
   ],
   "source": [
    "df['year'].value_counts()"
   ]
  },
  {
   "cell_type": "code",
   "execution_count": 33,
   "metadata": {},
   "outputs": [],
   "source": [
    "df['year'] = df['year'].astype(int)"
   ]
  },
  {
   "source": [
    "For price, i cannot allow any 0 values, as that would throw off alot of predictions any model were to make, next ideally i keep all of the prices within a specific set, $50,000 for example, anything more than this would be an exotic car and likely need a different model to calculate it's value. "
   ],
   "cell_type": "markdown",
   "metadata": {}
  },
  {
   "cell_type": "code",
   "execution_count": 34,
   "metadata": {},
   "outputs": [
    {
     "output_type": "execute_result",
     "data": {
      "text/plain": [
       "0        1914\n",
       "6995      474\n",
       "8995      474\n",
       "3500      455\n",
       "7995      445\n",
       "         ... \n",
       "4712        1\n",
       "43375       1\n",
       "4240        1\n",
       "34947       1\n",
       "12984       1\n",
       "Name: price, Length: 2795, dtype: int64"
      ]
     },
     "metadata": {},
     "execution_count": 34
    }
   ],
   "source": [
    "df['price'].value_counts()"
   ]
  },
  {
   "cell_type": "code",
   "execution_count": 35,
   "metadata": {},
   "outputs": [],
   "source": [
    "df.drop(df[df['price'] == 0].index, inplace = True) "
   ]
  },
  {
   "cell_type": "code",
   "execution_count": 36,
   "metadata": {},
   "outputs": [],
   "source": [
    "df = df.loc[df['price'] < 50000]"
   ]
  },
  {
   "source": [
    "Exporting modified DataFrame to a pickle file for upload as well as use in my notebook for classification. "
   ],
   "cell_type": "markdown",
   "metadata": {}
  },
  {
   "cell_type": "code",
   "execution_count": 37,
   "metadata": {},
   "outputs": [],
   "source": [
    "file = open('Data/vehicles_new', 'wb')\n",
    "pk.dump(df, file)\n",
    "file.close()"
   ]
  },
  {
   "cell_type": "code",
   "execution_count": null,
   "metadata": {},
   "outputs": [],
   "source": []
  }
 ]
}