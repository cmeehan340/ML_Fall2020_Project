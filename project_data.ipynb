{
 "metadata": {
  "language_info": {
   "codemirror_mode": {
    "name": "ipython",
    "version": 3
   },
   "file_extension": ".py",
   "mimetype": "text/x-python",
   "name": "python",
   "nbconvert_exporter": "python",
   "pygments_lexer": "ipython3",
   "version": "3.8.3-final"
  },
  "orig_nbformat": 2,
  "kernelspec": {
   "name": "python3",
   "display_name": "Python 3"
  }
 },
 "nbformat": 4,
 "nbformat_minor": 2,
 "cells": [
  {
   "cell_type": "code",
   "execution_count": 102,
   "metadata": {},
   "outputs": [],
   "source": [
    "import numpy as np\n",
    "import pandas as pd\n",
    "import matplotlib.pyplot as plt\n",
    "import seaborn as sns\n",
    "import pickle as pk"
   ]
  },
  {
   "cell_type": "code",
   "execution_count": 65,
   "metadata": {},
   "outputs": [
    {
     "output_type": "stream",
     "name": "stdout",
     "text": [
      "           id                                                url  \\\n0  7184791621  https://duluth.craigslist.org/ctd/d/duluth-200...   \n1  7184773187  https://duluth.craigslist.org/cto/d/saginaw-20...   \n2  7193375964  https://newhaven.craigslist.org/cto/d/stratfor...   \n3  7195108810  https://albuquerque.craigslist.org/cto/d/albuq...   \n4  7184712241  https://duluth.craigslist.org/ctd/d/rush-city-...   \n\n              region                          region_url  price    year  \\\n0  duluth / superior       https://duluth.craigslist.org   6995  2000.0   \n1  duluth / superior       https://duluth.craigslist.org   8750  2013.0   \n2          new haven     https://newhaven.craigslist.org  10900  2013.0   \n3        albuquerque  https://albuquerque.craigslist.org  12500  2003.0   \n4  duluth / superior       https://duluth.craigslist.org  16995  2007.0   \n\n  manufacturer                  model  condition    cylinders  ... drive  \\\n0          gmc        new sierra 1500  excellent  8 cylinders  ...   4wd   \n1      hyundai                 sonata  excellent  4 cylinders  ...   fwd   \n2       toyota                  prius       good  4 cylinders  ...   fwd   \n3   mitsubishi                 lancer       good  4 cylinders  ...   4wd   \n4          gmc  sierra classic 2500hd       good  8 cylinders  ...   4wd   \n\n        size   type paint_color  \\\n0        NaN    NaN         red   \n1        NaN    NaN        grey   \n2        NaN    NaN        blue   \n3   mid-size  sedan        grey   \n4  full-size  truck       white   \n\n                                           image_url  \\\n0  https://images.craigslist.org/00n0n_f06ykBMcdh...   \n1  https://images.craigslist.org/00d0d_kgZ6xoeRw2...   \n2  https://images.craigslist.org/00d0d_3sHGxPbY2O...   \n3  https://images.craigslist.org/00m0m_4a8Pb6JbMG...   \n4  https://images.craigslist.org/01414_g093aPtSMW...   \n\n                                         description county state      lat  \\\n0  2000 *** GMC New Sierra 1500 Ext Cab 157.5  WB...    NaN    mn  46.8433   \n1  For Sale:  2013 Hyundai Sonata GLS - $8750.  O...    NaN    mn  46.9074   \n2  2013 Prius V Model Two. One owner—must sell my...    NaN    ct  41.1770   \n3  2003 Mitsubishi Lancer Evolution, silver.  Abo...    NaN    nm  35.1868   \n4  **Bad Credit, No Credit... No Problem!**2007 G...    NaN    mn  45.6836   \n\n       long  \n0  -92.2550  \n1  -92.4638  \n2  -73.1336  \n3 -106.6650  \n4  -92.9648  \n\n[5 rows x 25 columns]\n(423857, 25)\n"
     ]
    }
   ],
   "source": [
    "df = pd.read_csv('Data/vehicles.csv')\n",
    "print(df.head())\n",
    "print(df.shape)"
   ]
  },
  {
   "source": [
    "df.columns"
   ],
   "cell_type": "code",
   "metadata": {},
   "execution_count": 66,
   "outputs": [
    {
     "output_type": "execute_result",
     "data": {
      "text/plain": [
       "Index(['id', 'url', 'region', 'region_url', 'price', 'year', 'manufacturer',\n",
       "       'model', 'condition', 'cylinders', 'fuel', 'odometer', 'title_status',\n",
       "       'transmission', 'vin', 'drive', 'size', 'type', 'paint_color',\n",
       "       'image_url', 'description', 'county', 'state', 'lat', 'long'],\n",
       "      dtype='object')"
      ]
     },
     "metadata": {},
     "execution_count": 66
    }
   ]
  },
  {
   "cell_type": "code",
   "execution_count": 67,
   "metadata": {},
   "outputs": [],
   "source": [
    "df = df.drop(columns=['id', 'url', 'region', 'region_url', 'county', 'image_url', 'county','state','lat','long','vin','size','type','description'])"
   ]
  },
  {
   "cell_type": "code",
   "execution_count": 68,
   "metadata": {},
   "outputs": [
    {
     "output_type": "execute_result",
     "data": {
      "text/plain": [
       "f-150                       6073\n",
       "silverado 1500              3878\n",
       "escape                      3208\n",
       "camry                       2906\n",
       "1500                        2898\n",
       "                            ... \n",
       "tacoma sr5 double cab 5'       1\n",
       "2001Mercedes                   1\n",
       "Gas Terrain                    1\n",
       "s/c                            1\n",
       "panel bus                      1\n",
       "Name: model, Length: 27042, dtype: int64"
      ]
     },
     "metadata": {},
     "execution_count": 68
    }
   ],
   "source": [
    "df['model'].value_counts()"
   ]
  },
  {
   "cell_type": "code",
   "execution_count": 69,
   "metadata": {},
   "outputs": [],
   "source": [
    "counts = df['model'].value_counts()\n",
    "to_remove = counts[counts <= 10].index\n",
    "df = df[~df.model.isin(to_remove)]"
   ]
  },
  {
   "cell_type": "code",
   "execution_count": 70,
   "metadata": {},
   "outputs": [
    {
     "output_type": "execute_result",
     "data": {
      "text/plain": [
       "f-150                      6073\n",
       "silverado 1500             3878\n",
       "escape                     3208\n",
       "camry                      2906\n",
       "1500                       2898\n",
       "                           ... \n",
       "fj cruiser 4wd suv rare      11\n",
       "jetta tsi                    11\n",
       "d150                         11\n",
       "mg midget                    11\n",
       "OLDSMOBILE CUTLASS           11\n",
       "Name: model, Length: 3071, dtype: int64"
      ]
     },
     "metadata": {},
     "execution_count": 70
    }
   ],
   "source": [
    "df['model'].value_counts()"
   ]
  },
  {
   "cell_type": "code",
   "execution_count": 71,
   "metadata": {},
   "outputs": [
    {
     "output_type": "execute_result",
     "data": {
      "text/plain": [
       "(372656, 12)"
      ]
     },
     "metadata": {},
     "execution_count": 71
    }
   ],
   "source": [
    "df.shape"
   ]
  },
  {
   "cell_type": "code",
   "execution_count": 72,
   "metadata": {},
   "outputs": [
    {
     "output_type": "execute_result",
     "data": {
      "text/plain": [
       "4 cylinders     60030\n",
       "6 cylinders     58322\n",
       "8 cylinders     43692\n",
       "5 cylinders      1238\n",
       "10 cylinders      655\n",
       "other             534\n",
       "3 cylinders       286\n",
       "12 cylinders       54\n",
       "Name: cylinders, dtype: int64"
      ]
     },
     "metadata": {},
     "execution_count": 72
    }
   ],
   "source": [
    "df['cylinders'].value_counts()"
   ]
  },
  {
   "cell_type": "code",
   "execution_count": 75,
   "metadata": {},
   "outputs": [],
   "source": [
    "df.drop(df[df['cylinders'] == 'other'].index, inplace = True) "
   ]
  },
  {
   "cell_type": "code",
   "execution_count": 76,
   "metadata": {},
   "outputs": [
    {
     "output_type": "execute_result",
     "data": {
      "text/plain": [
       "4 cylinders     60030\n",
       "6 cylinders     58322\n",
       "8 cylinders     43692\n",
       "5 cylinders      1238\n",
       "10 cylinders      655\n",
       "3 cylinders       286\n",
       "12 cylinders       54\n",
       "Name: cylinders, dtype: int64"
      ]
     },
     "metadata": {},
     "execution_count": 76
    }
   ],
   "source": [
    "df['cylinders'].value_counts()"
   ]
  },
  {
   "cell_type": "code",
   "execution_count": 77,
   "metadata": {},
   "outputs": [
    {
     "output_type": "execute_result",
     "data": {
      "text/plain": [
       "clean         266601\n",
       "rebuilt         5136\n",
       "salvage         2697\n",
       "lien            1566\n",
       "missing          427\n",
       "parts only       156\n",
       "Name: title_status, dtype: int64"
      ]
     },
     "metadata": {},
     "execution_count": 77
    }
   ],
   "source": [
    "df['title_status'].value_counts()"
   ]
  },
  {
   "cell_type": "code",
   "execution_count": 78,
   "metadata": {},
   "outputs": [
    {
     "output_type": "execute_result",
     "data": {
      "text/plain": [
       "automatic    249480\n",
       "manual        17605\n",
       "other          9437\n",
       "Name: transmission, dtype: int64"
      ]
     },
     "metadata": {},
     "execution_count": 78
    }
   ],
   "source": [
    "df['transmission'].value_counts()"
   ]
  },
  {
   "cell_type": "code",
   "execution_count": 79,
   "metadata": {},
   "outputs": [],
   "source": [
    "df.drop(df[df['transmission'] == 'other'].index, inplace = True) "
   ]
  },
  {
   "cell_type": "code",
   "execution_count": 80,
   "metadata": {},
   "outputs": [
    {
     "output_type": "execute_result",
     "data": {
      "text/plain": [
       "automatic    249480\n",
       "manual        17605\n",
       "Name: transmission, dtype: int64"
      ]
     },
     "metadata": {},
     "execution_count": 80
    }
   ],
   "source": [
    "df['transmission'].value_counts()"
   ]
  },
  {
   "cell_type": "code",
   "execution_count": 81,
   "metadata": {},
   "outputs": [
    {
     "output_type": "execute_result",
     "data": {
      "text/plain": [
       "4wd    81181\n",
       "fwd    76068\n",
       "rwd    31291\n",
       "Name: drive, dtype: int64"
      ]
     },
     "metadata": {},
     "execution_count": 81
    }
   ],
   "source": [
    "df['drive'].value_counts()"
   ]
  },
  {
   "cell_type": "code",
   "execution_count": 82,
   "metadata": {},
   "outputs": [
    {
     "output_type": "execute_result",
     "data": {
      "text/plain": [
       "white     45920\n",
       "black     35532\n",
       "silver    27042\n",
       "blue      18809\n",
       "red       17877\n",
       "grey      17653\n",
       "custom     5390\n",
       "green      4750\n",
       "brown      3806\n",
       "yellow     1286\n",
       "orange     1112\n",
       "purple      548\n",
       "Name: paint_color, dtype: int64"
      ]
     },
     "metadata": {},
     "execution_count": 82
    }
   ],
   "source": [
    "df['paint_color'].value_counts()"
   ]
  },
  {
   "cell_type": "code",
   "execution_count": 83,
   "metadata": {},
   "outputs": [],
   "source": [
    "df.drop(df[df['paint_color'] == 'custom'].index, inplace = True) "
   ]
  },
  {
   "cell_type": "code",
   "execution_count": 84,
   "metadata": {},
   "outputs": [
    {
     "output_type": "execute_result",
     "data": {
      "text/plain": [
       "white     45920\n",
       "black     35532\n",
       "silver    27042\n",
       "blue      18809\n",
       "red       17877\n",
       "grey      17653\n",
       "green      4750\n",
       "brown      3806\n",
       "yellow     1286\n",
       "orange     1112\n",
       "purple      548\n",
       "Name: paint_color, dtype: int64"
      ]
     },
     "metadata": {},
     "execution_count": 84
    }
   ],
   "source": [
    "df['paint_color'].value_counts()"
   ]
  },
  {
   "cell_type": "code",
   "execution_count": 85,
   "metadata": {},
   "outputs": [
    {
     "output_type": "execute_result",
     "data": {
      "text/plain": [
       "(357295, 12)"
      ]
     },
     "metadata": {},
     "execution_count": 85
    }
   ],
   "source": [
    "df.shape"
   ]
  },
  {
   "cell_type": "code",
   "execution_count": 86,
   "metadata": {},
   "outputs": [
    {
     "output_type": "execute_result",
     "data": {
      "text/plain": [
       "gas         232736\n",
       "diesel       17898\n",
       "other         7909\n",
       "hybrid        2939\n",
       "electric       481\n",
       "Name: fuel, dtype: int64"
      ]
     },
     "metadata": {},
     "execution_count": 86
    }
   ],
   "source": [
    "df['fuel'].value_counts()"
   ]
  },
  {
   "cell_type": "code",
   "execution_count": 87,
   "metadata": {},
   "outputs": [],
   "source": [
    "df.drop(df[df['fuel'] == 'other'].index, inplace = True) "
   ]
  },
  {
   "cell_type": "code",
   "execution_count": 88,
   "metadata": {},
   "outputs": [
    {
     "output_type": "execute_result",
     "data": {
      "text/plain": [
       "gas         232736\n",
       "diesel       17898\n",
       "hybrid        2939\n",
       "electric       481\n",
       "Name: fuel, dtype: int64"
      ]
     },
     "metadata": {},
     "execution_count": 88
    }
   ],
   "source": [
    "df['fuel'].value_counts()"
   ]
  },
  {
   "cell_type": "code",
   "execution_count": 89,
   "metadata": {},
   "outputs": [
    {
     "output_type": "execute_result",
     "data": {
      "text/plain": [
       "excellent    69093\n",
       "good         44685\n",
       "like new     13725\n",
       "fair          5170\n",
       "new            723\n",
       "salvage        371\n",
       "Name: condition, dtype: int64"
      ]
     },
     "metadata": {},
     "execution_count": 89
    }
   ],
   "source": [
    "df['condition'].value_counts()\n"
   ]
  },
  {
   "cell_type": "code",
   "execution_count": 90,
   "metadata": {},
   "outputs": [
    {
     "output_type": "execute_result",
     "data": {
      "text/plain": [
       "ford               47784\n",
       "chevrolet          37955\n",
       "toyota             20960\n",
       "honda              16051\n",
       "nissan             14356\n",
       "jeep               11685\n",
       "gmc                 9850\n",
       "dodge               9823\n",
       "ram                 9436\n",
       "hyundai             7320\n",
       "subaru              6414\n",
       "kia                 5804\n",
       "bmw                 5594\n",
       "volkswagen          5472\n",
       "chrysler            4980\n",
       "mercedes-benz       4678\n",
       "buick               3643\n",
       "cadillac            3512\n",
       "lexus               2952\n",
       "mazda               2874\n",
       "audi                2232\n",
       "acura               2198\n",
       "lincoln             2057\n",
       "pontiac             1917\n",
       "infiniti            1703\n",
       "mitsubishi          1412\n",
       "volvo               1339\n",
       "mercury             1093\n",
       "mini                 981\n",
       "rover                898\n",
       "saturn               861\n",
       "jaguar               510\n",
       "fiat                 380\n",
       "tesla                134\n",
       "alfa-romeo            65\n",
       "datsun                47\n",
       "harley-davidson       47\n",
       "ferrari               14\n",
       "aston-martin          11\n",
       "land rover             8\n",
       "hennessey              1\n",
       "Name: manufacturer, dtype: int64"
      ]
     },
     "metadata": {},
     "execution_count": 90
    }
   ],
   "source": [
    "df['manufacturer'].value_counts()"
   ]
  },
  {
   "cell_type": "code",
   "execution_count": 91,
   "metadata": {},
   "outputs": [
    {
     "output_type": "execute_result",
     "data": {
      "text/plain": [
       "2017.0    23654\n",
       "2013.0    17077\n",
       "2015.0    17054\n",
       "2014.0    17022\n",
       "2016.0    16581\n",
       "          ...  \n",
       "1945.0        1\n",
       "1922.0        1\n",
       "1921.0        1\n",
       "1920.0        1\n",
       "1913.0        1\n",
       "Name: year, Length: 102, dtype: int64"
      ]
     },
     "metadata": {},
     "execution_count": 91
    }
   ],
   "source": [
    "df['year'].value_counts()"
   ]
  },
  {
   "cell_type": "code",
   "execution_count": 92,
   "metadata": {},
   "outputs": [
    {
     "output_type": "execute_result",
     "data": {
      "text/plain": [
       "0        29182\n",
       "3500      3319\n",
       "8995      3167\n",
       "7995      3056\n",
       "6995      3012\n",
       "         ...  \n",
       "14538        1\n",
       "3730         1\n",
       "9447         1\n",
       "42631        1\n",
       "9913         1\n",
       "Name: price, Length: 14609, dtype: int64"
      ]
     },
     "metadata": {},
     "execution_count": 92
    }
   ],
   "source": [
    "df['price'].value_counts()"
   ]
  },
  {
   "cell_type": "code",
   "execution_count": 93,
   "metadata": {},
   "outputs": [],
   "source": [
    "df.drop(df[df['price'] == 0].index, inplace = True) "
   ]
  },
  {
   "cell_type": "code",
   "execution_count": 94,
   "metadata": {},
   "outputs": [
    {
     "output_type": "execute_result",
     "data": {
      "text/plain": [
       "3500     3319\n",
       "8995     3167\n",
       "7995     3056\n",
       "6995     3012\n",
       "5995     2990\n",
       "         ... \n",
       "26945       1\n",
       "11133       1\n",
       "17840       1\n",
       "888         1\n",
       "12871       1\n",
       "Name: price, Length: 14608, dtype: int64"
      ]
     },
     "metadata": {},
     "execution_count": 94
    }
   ],
   "source": [
    "df['price'].value_counts()"
   ]
  },
  {
   "cell_type": "code",
   "execution_count": 95,
   "metadata": {},
   "outputs": [
    {
     "output_type": "execute_result",
     "data": {
      "text/plain": [
       "(320204, 12)"
      ]
     },
     "metadata": {},
     "execution_count": 95
    }
   ],
   "source": [
    "df.shape"
   ]
  },
  {
   "cell_type": "code",
   "execution_count": 103,
   "metadata": {},
   "outputs": [],
   "source": [
    "file = open('Data/vehicles_new', 'wb')\n",
    "pk.dump(df, file)"
   ]
  },
  {
   "cell_type": "code",
   "execution_count": null,
   "metadata": {},
   "outputs": [],
   "source": []
  }
 ]
}